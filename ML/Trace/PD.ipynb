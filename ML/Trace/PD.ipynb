{
 "cells": [
  {
   "cell_type": "code",
   "execution_count": 1,
   "metadata": {},
   "outputs": [],
   "source": [
    "import pandas as pd\n",
    "import numpy as np"
   ]
  },
  {
   "cell_type": "code",
   "execution_count": 2,
   "metadata": {},
   "outputs": [],
   "source": [
    "import matplotlib"
   ]
  },
  {
   "cell_type": "markdown",
   "metadata": {},
   "source": [
    "### Spiral"
   ]
  },
  {
   "cell_type": "code",
   "execution_count": 396,
   "metadata": {},
   "outputs": [],
   "source": [
    "df=pd.read_csv('Trace/Tracing Data/Old Data/Spiral_HandPD.csv')"
   ]
  },
  {
   "cell_type": "code",
   "execution_count": 397,
   "metadata": {},
   "outputs": [
    {
     "data": {
      "text/html": [
       "<div>\n",
       "<style scoped>\n",
       "    .dataframe tbody tr th:only-of-type {\n",
       "        vertical-align: middle;\n",
       "    }\n",
       "\n",
       "    .dataframe tbody tr th {\n",
       "        vertical-align: top;\n",
       "    }\n",
       "\n",
       "    .dataframe thead th {\n",
       "        text-align: right;\n",
       "    }\n",
       "</style>\n",
       "<table border=\"1\" class=\"dataframe\">\n",
       "  <thead>\n",
       "    <tr style=\"text-align: right;\">\n",
       "      <th></th>\n",
       "      <th>_ID_EXAM</th>\n",
       "      <th>IMAGE_NAME</th>\n",
       "      <th>ID_PATIENT</th>\n",
       "      <th>CLASS_TYPE</th>\n",
       "      <th>GENDER</th>\n",
       "      <th>RIGH/LEFT-HANDED</th>\n",
       "      <th>AGE</th>\n",
       "      <th>RMS</th>\n",
       "      <th>MAX_BETWEEN_ET_HT</th>\n",
       "      <th>MIN_BETWEEN_ET_HT</th>\n",
       "      <th>STD_DEVIATION_ET_HT</th>\n",
       "      <th>MRT</th>\n",
       "      <th>MAX_HT</th>\n",
       "      <th>MIN_HT</th>\n",
       "      <th>STD_HT</th>\n",
       "      <th>CHANGES_FROM_NEGATIVE_TO_POSITIVE_BETWEEN_ET_HT</th>\n",
       "    </tr>\n",
       "  </thead>\n",
       "  <tbody>\n",
       "    <tr>\n",
       "      <th>0</th>\n",
       "      <td>68</td>\n",
       "      <td>0068-1.jpg</td>\n",
       "      <td>1</td>\n",
       "      <td>1</td>\n",
       "      <td>F</td>\n",
       "      <td>L</td>\n",
       "      <td>28</td>\n",
       "      <td>2446.759108</td>\n",
       "      <td>5388.771096</td>\n",
       "      <td>33435.39545</td>\n",
       "      <td>0.0</td>\n",
       "      <td>26.849731</td>\n",
       "      <td>183.854351</td>\n",
       "      <td>0.017068</td>\n",
       "      <td>1779.550502</td>\n",
       "      <td>0.216138</td>\n",
       "    </tr>\n",
       "    <tr>\n",
       "      <th>1</th>\n",
       "      <td>68</td>\n",
       "      <td>0068-2.jpg</td>\n",
       "      <td>1</td>\n",
       "      <td>1</td>\n",
       "      <td>F</td>\n",
       "      <td>L</td>\n",
       "      <td>28</td>\n",
       "      <td>2159.220559</td>\n",
       "      <td>4617.939790</td>\n",
       "      <td>34428.29401</td>\n",
       "      <td>0.0</td>\n",
       "      <td>26.758489</td>\n",
       "      <td>186.609895</td>\n",
       "      <td>0.000000</td>\n",
       "      <td>1885.340368</td>\n",
       "      <td>0.184438</td>\n",
       "    </tr>\n",
       "    <tr>\n",
       "      <th>2</th>\n",
       "      <td>68</td>\n",
       "      <td>0068-3.jpg</td>\n",
       "      <td>1</td>\n",
       "      <td>1</td>\n",
       "      <td>F</td>\n",
       "      <td>L</td>\n",
       "      <td>28</td>\n",
       "      <td>1740.390711</td>\n",
       "      <td>4260.973134</td>\n",
       "      <td>33632.95400</td>\n",
       "      <td>0.0</td>\n",
       "      <td>30.973944</td>\n",
       "      <td>183.868389</td>\n",
       "      <td>0.006510</td>\n",
       "      <td>2197.159165</td>\n",
       "      <td>0.181287</td>\n",
       "    </tr>\n",
       "    <tr>\n",
       "      <th>3</th>\n",
       "      <td>68</td>\n",
       "      <td>0068-4.jpg</td>\n",
       "      <td>1</td>\n",
       "      <td>1</td>\n",
       "      <td>F</td>\n",
       "      <td>L</td>\n",
       "      <td>28</td>\n",
       "      <td>2047.900847</td>\n",
       "      <td>4286.241318</td>\n",
       "      <td>32412.94476</td>\n",
       "      <td>0.0</td>\n",
       "      <td>28.165933</td>\n",
       "      <td>186.055214</td>\n",
       "      <td>0.025942</td>\n",
       "      <td>1875.711604</td>\n",
       "      <td>0.193084</td>\n",
       "    </tr>\n",
       "    <tr>\n",
       "      <th>4</th>\n",
       "      <td>92</td>\n",
       "      <td>0092-1.jpg</td>\n",
       "      <td>2</td>\n",
       "      <td>1</td>\n",
       "      <td>M</td>\n",
       "      <td>R</td>\n",
       "      <td>37</td>\n",
       "      <td>2059.220895</td>\n",
       "      <td>4733.016802</td>\n",
       "      <td>35437.08102</td>\n",
       "      <td>0.0</td>\n",
       "      <td>22.091342</td>\n",
       "      <td>186.092103</td>\n",
       "      <td>0.000000</td>\n",
       "      <td>1625.325851</td>\n",
       "      <td>0.193642</td>\n",
       "    </tr>\n",
       "  </tbody>\n",
       "</table>\n",
       "</div>"
      ],
      "text/plain": [
       "   _ID_EXAM  IMAGE_NAME  ID_PATIENT  CLASS_TYPE GENDER RIGH/LEFT-HANDED  AGE  \\\n",
       "0        68  0068-1.jpg           1           1      F                L   28   \n",
       "1        68  0068-2.jpg           1           1      F                L   28   \n",
       "2        68  0068-3.jpg           1           1      F                L   28   \n",
       "3        68  0068-4.jpg           1           1      F                L   28   \n",
       "4        92  0092-1.jpg           2           1      M                R   37   \n",
       "\n",
       "           RMS  MAX_BETWEEN_ET_HT  MIN_BETWEEN_ET_HT  STD_DEVIATION_ET_HT  \\\n",
       "0  2446.759108        5388.771096        33435.39545                  0.0   \n",
       "1  2159.220559        4617.939790        34428.29401                  0.0   \n",
       "2  1740.390711        4260.973134        33632.95400                  0.0   \n",
       "3  2047.900847        4286.241318        32412.94476                  0.0   \n",
       "4  2059.220895        4733.016802        35437.08102                  0.0   \n",
       "\n",
       "         MRT      MAX_HT    MIN_HT       STD_HT  \\\n",
       "0  26.849731  183.854351  0.017068  1779.550502   \n",
       "1  26.758489  186.609895  0.000000  1885.340368   \n",
       "2  30.973944  183.868389  0.006510  2197.159165   \n",
       "3  28.165933  186.055214  0.025942  1875.711604   \n",
       "4  22.091342  186.092103  0.000000  1625.325851   \n",
       "\n",
       "   CHANGES_FROM_NEGATIVE_TO_POSITIVE_BETWEEN_ET_HT  \n",
       "0                                         0.216138  \n",
       "1                                         0.184438  \n",
       "2                                         0.181287  \n",
       "3                                         0.193084  \n",
       "4                                         0.193642  "
      ]
     },
     "execution_count": 397,
     "metadata": {},
     "output_type": "execute_result"
    }
   ],
   "source": [
    "df.head()"
   ]
  },
  {
   "cell_type": "code",
   "execution_count": 398,
   "metadata": {},
   "outputs": [
    {
     "data": {
      "text/plain": [
       "Index(['_ID_EXAM', 'IMAGE_NAME', 'ID_PATIENT', 'CLASS_TYPE', 'GENDER',\n",
       "       'RIGH/LEFT-HANDED', 'AGE', 'RMS', 'MAX_BETWEEN_ET_HT',\n",
       "       'MIN_BETWEEN_ET_HT', 'STD_DEVIATION_ET_HT', 'MRT', 'MAX_HT', 'MIN_HT',\n",
       "       'STD_HT', 'CHANGES_FROM_NEGATIVE_TO_POSITIVE_BETWEEN_ET_HT'],\n",
       "      dtype='object')"
      ]
     },
     "execution_count": 398,
     "metadata": {},
     "output_type": "execute_result"
    }
   ],
   "source": [
    "df.columns"
   ]
  },
  {
   "cell_type": "code",
   "execution_count": 399,
   "metadata": {},
   "outputs": [],
   "source": [
    "df=df.rename(columns={\"CHANGES_FROM_NEGATIVE_TO_POSITIVE_BETWEEN_ET_HT\": \"change\", \"MAX_BETWEEN_ET_HT\": \"MB\",'MIN_BETWEEN_ET_HT':'MINB'})"
   ]
  },
  {
   "cell_type": "code",
   "execution_count": 400,
   "metadata": {},
   "outputs": [
    {
     "data": {
      "text/html": [
       "<div>\n",
       "<style scoped>\n",
       "    .dataframe tbody tr th:only-of-type {\n",
       "        vertical-align: middle;\n",
       "    }\n",
       "\n",
       "    .dataframe tbody tr th {\n",
       "        vertical-align: top;\n",
       "    }\n",
       "\n",
       "    .dataframe thead th {\n",
       "        text-align: right;\n",
       "    }\n",
       "</style>\n",
       "<table border=\"1\" class=\"dataframe\">\n",
       "  <thead>\n",
       "    <tr style=\"text-align: right;\">\n",
       "      <th></th>\n",
       "      <th>_ID_EXAM</th>\n",
       "      <th>IMAGE_NAME</th>\n",
       "      <th>ID_PATIENT</th>\n",
       "      <th>CLASS_TYPE</th>\n",
       "      <th>GENDER</th>\n",
       "      <th>RIGH/LEFT-HANDED</th>\n",
       "      <th>AGE</th>\n",
       "      <th>RMS</th>\n",
       "      <th>MB</th>\n",
       "      <th>MINB</th>\n",
       "      <th>STD_DEVIATION_ET_HT</th>\n",
       "      <th>MRT</th>\n",
       "      <th>MAX_HT</th>\n",
       "      <th>MIN_HT</th>\n",
       "      <th>STD_HT</th>\n",
       "      <th>change</th>\n",
       "    </tr>\n",
       "  </thead>\n",
       "  <tbody>\n",
       "    <tr>\n",
       "      <th>0</th>\n",
       "      <td>68</td>\n",
       "      <td>0068-1.jpg</td>\n",
       "      <td>1</td>\n",
       "      <td>1</td>\n",
       "      <td>F</td>\n",
       "      <td>L</td>\n",
       "      <td>28</td>\n",
       "      <td>2446.759108</td>\n",
       "      <td>5388.771096</td>\n",
       "      <td>33435.39545</td>\n",
       "      <td>0.0</td>\n",
       "      <td>26.849731</td>\n",
       "      <td>183.854351</td>\n",
       "      <td>0.017068</td>\n",
       "      <td>1779.550502</td>\n",
       "      <td>0.216138</td>\n",
       "    </tr>\n",
       "    <tr>\n",
       "      <th>1</th>\n",
       "      <td>68</td>\n",
       "      <td>0068-2.jpg</td>\n",
       "      <td>1</td>\n",
       "      <td>1</td>\n",
       "      <td>F</td>\n",
       "      <td>L</td>\n",
       "      <td>28</td>\n",
       "      <td>2159.220559</td>\n",
       "      <td>4617.939790</td>\n",
       "      <td>34428.29401</td>\n",
       "      <td>0.0</td>\n",
       "      <td>26.758489</td>\n",
       "      <td>186.609895</td>\n",
       "      <td>0.000000</td>\n",
       "      <td>1885.340368</td>\n",
       "      <td>0.184438</td>\n",
       "    </tr>\n",
       "    <tr>\n",
       "      <th>2</th>\n",
       "      <td>68</td>\n",
       "      <td>0068-3.jpg</td>\n",
       "      <td>1</td>\n",
       "      <td>1</td>\n",
       "      <td>F</td>\n",
       "      <td>L</td>\n",
       "      <td>28</td>\n",
       "      <td>1740.390711</td>\n",
       "      <td>4260.973134</td>\n",
       "      <td>33632.95400</td>\n",
       "      <td>0.0</td>\n",
       "      <td>30.973944</td>\n",
       "      <td>183.868389</td>\n",
       "      <td>0.006510</td>\n",
       "      <td>2197.159165</td>\n",
       "      <td>0.181287</td>\n",
       "    </tr>\n",
       "    <tr>\n",
       "      <th>3</th>\n",
       "      <td>68</td>\n",
       "      <td>0068-4.jpg</td>\n",
       "      <td>1</td>\n",
       "      <td>1</td>\n",
       "      <td>F</td>\n",
       "      <td>L</td>\n",
       "      <td>28</td>\n",
       "      <td>2047.900847</td>\n",
       "      <td>4286.241318</td>\n",
       "      <td>32412.94476</td>\n",
       "      <td>0.0</td>\n",
       "      <td>28.165933</td>\n",
       "      <td>186.055214</td>\n",
       "      <td>0.025942</td>\n",
       "      <td>1875.711604</td>\n",
       "      <td>0.193084</td>\n",
       "    </tr>\n",
       "    <tr>\n",
       "      <th>4</th>\n",
       "      <td>92</td>\n",
       "      <td>0092-1.jpg</td>\n",
       "      <td>2</td>\n",
       "      <td>1</td>\n",
       "      <td>M</td>\n",
       "      <td>R</td>\n",
       "      <td>37</td>\n",
       "      <td>2059.220895</td>\n",
       "      <td>4733.016802</td>\n",
       "      <td>35437.08102</td>\n",
       "      <td>0.0</td>\n",
       "      <td>22.091342</td>\n",
       "      <td>186.092103</td>\n",
       "      <td>0.000000</td>\n",
       "      <td>1625.325851</td>\n",
       "      <td>0.193642</td>\n",
       "    </tr>\n",
       "  </tbody>\n",
       "</table>\n",
       "</div>"
      ],
      "text/plain": [
       "   _ID_EXAM  IMAGE_NAME  ID_PATIENT  CLASS_TYPE GENDER RIGH/LEFT-HANDED  AGE  \\\n",
       "0        68  0068-1.jpg           1           1      F                L   28   \n",
       "1        68  0068-2.jpg           1           1      F                L   28   \n",
       "2        68  0068-3.jpg           1           1      F                L   28   \n",
       "3        68  0068-4.jpg           1           1      F                L   28   \n",
       "4        92  0092-1.jpg           2           1      M                R   37   \n",
       "\n",
       "           RMS           MB         MINB  STD_DEVIATION_ET_HT        MRT  \\\n",
       "0  2446.759108  5388.771096  33435.39545                  0.0  26.849731   \n",
       "1  2159.220559  4617.939790  34428.29401                  0.0  26.758489   \n",
       "2  1740.390711  4260.973134  33632.95400                  0.0  30.973944   \n",
       "3  2047.900847  4286.241318  32412.94476                  0.0  28.165933   \n",
       "4  2059.220895  4733.016802  35437.08102                  0.0  22.091342   \n",
       "\n",
       "       MAX_HT    MIN_HT       STD_HT    change  \n",
       "0  183.854351  0.017068  1779.550502  0.216138  \n",
       "1  186.609895  0.000000  1885.340368  0.184438  \n",
       "2  183.868389  0.006510  2197.159165  0.181287  \n",
       "3  186.055214  0.025942  1875.711604  0.193084  \n",
       "4  186.092103  0.000000  1625.325851  0.193642  "
      ]
     },
     "execution_count": 400,
     "metadata": {},
     "output_type": "execute_result"
    }
   ],
   "source": [
    "df.head()"
   ]
  },
  {
   "cell_type": "code",
   "execution_count": 401,
   "metadata": {},
   "outputs": [],
   "source": [
    "df=df[[ 'CLASS_TYPE', 'GENDER','RIGH/LEFT-HANDED', 'AGE', 'RMS', 'MB', 'MINB', 'STD_DEVIATION_ET_HT',\n",
    "       'MRT', 'MAX_HT', 'MIN_HT', 'STD_HT', 'change']]"
   ]
  },
  {
   "cell_type": "code",
   "execution_count": 402,
   "metadata": {},
   "outputs": [
    {
     "data": {
      "text/html": [
       "<div>\n",
       "<style scoped>\n",
       "    .dataframe tbody tr th:only-of-type {\n",
       "        vertical-align: middle;\n",
       "    }\n",
       "\n",
       "    .dataframe tbody tr th {\n",
       "        vertical-align: top;\n",
       "    }\n",
       "\n",
       "    .dataframe thead th {\n",
       "        text-align: right;\n",
       "    }\n",
       "</style>\n",
       "<table border=\"1\" class=\"dataframe\">\n",
       "  <thead>\n",
       "    <tr style=\"text-align: right;\">\n",
       "      <th></th>\n",
       "      <th>CLASS_TYPE</th>\n",
       "      <th>GENDER</th>\n",
       "      <th>RIGH/LEFT-HANDED</th>\n",
       "      <th>AGE</th>\n",
       "      <th>RMS</th>\n",
       "      <th>MB</th>\n",
       "      <th>MINB</th>\n",
       "      <th>STD_DEVIATION_ET_HT</th>\n",
       "      <th>MRT</th>\n",
       "      <th>MAX_HT</th>\n",
       "      <th>MIN_HT</th>\n",
       "      <th>STD_HT</th>\n",
       "      <th>change</th>\n",
       "    </tr>\n",
       "  </thead>\n",
       "  <tbody>\n",
       "    <tr>\n",
       "      <th>0</th>\n",
       "      <td>1</td>\n",
       "      <td>F</td>\n",
       "      <td>L</td>\n",
       "      <td>28</td>\n",
       "      <td>2446.759108</td>\n",
       "      <td>5388.771096</td>\n",
       "      <td>33435.39545</td>\n",
       "      <td>0.0</td>\n",
       "      <td>26.849731</td>\n",
       "      <td>183.854351</td>\n",
       "      <td>0.017068</td>\n",
       "      <td>1779.550502</td>\n",
       "      <td>0.216138</td>\n",
       "    </tr>\n",
       "    <tr>\n",
       "      <th>1</th>\n",
       "      <td>1</td>\n",
       "      <td>F</td>\n",
       "      <td>L</td>\n",
       "      <td>28</td>\n",
       "      <td>2159.220559</td>\n",
       "      <td>4617.939790</td>\n",
       "      <td>34428.29401</td>\n",
       "      <td>0.0</td>\n",
       "      <td>26.758489</td>\n",
       "      <td>186.609895</td>\n",
       "      <td>0.000000</td>\n",
       "      <td>1885.340368</td>\n",
       "      <td>0.184438</td>\n",
       "    </tr>\n",
       "    <tr>\n",
       "      <th>2</th>\n",
       "      <td>1</td>\n",
       "      <td>F</td>\n",
       "      <td>L</td>\n",
       "      <td>28</td>\n",
       "      <td>1740.390711</td>\n",
       "      <td>4260.973134</td>\n",
       "      <td>33632.95400</td>\n",
       "      <td>0.0</td>\n",
       "      <td>30.973944</td>\n",
       "      <td>183.868389</td>\n",
       "      <td>0.006510</td>\n",
       "      <td>2197.159165</td>\n",
       "      <td>0.181287</td>\n",
       "    </tr>\n",
       "    <tr>\n",
       "      <th>3</th>\n",
       "      <td>1</td>\n",
       "      <td>F</td>\n",
       "      <td>L</td>\n",
       "      <td>28</td>\n",
       "      <td>2047.900847</td>\n",
       "      <td>4286.241318</td>\n",
       "      <td>32412.94476</td>\n",
       "      <td>0.0</td>\n",
       "      <td>28.165933</td>\n",
       "      <td>186.055214</td>\n",
       "      <td>0.025942</td>\n",
       "      <td>1875.711604</td>\n",
       "      <td>0.193084</td>\n",
       "    </tr>\n",
       "    <tr>\n",
       "      <th>4</th>\n",
       "      <td>1</td>\n",
       "      <td>M</td>\n",
       "      <td>R</td>\n",
       "      <td>37</td>\n",
       "      <td>2059.220895</td>\n",
       "      <td>4733.016802</td>\n",
       "      <td>35437.08102</td>\n",
       "      <td>0.0</td>\n",
       "      <td>22.091342</td>\n",
       "      <td>186.092103</td>\n",
       "      <td>0.000000</td>\n",
       "      <td>1625.325851</td>\n",
       "      <td>0.193642</td>\n",
       "    </tr>\n",
       "  </tbody>\n",
       "</table>\n",
       "</div>"
      ],
      "text/plain": [
       "   CLASS_TYPE GENDER RIGH/LEFT-HANDED  AGE          RMS           MB  \\\n",
       "0           1      F                L   28  2446.759108  5388.771096   \n",
       "1           1      F                L   28  2159.220559  4617.939790   \n",
       "2           1      F                L   28  1740.390711  4260.973134   \n",
       "3           1      F                L   28  2047.900847  4286.241318   \n",
       "4           1      M                R   37  2059.220895  4733.016802   \n",
       "\n",
       "          MINB  STD_DEVIATION_ET_HT        MRT      MAX_HT    MIN_HT  \\\n",
       "0  33435.39545                  0.0  26.849731  183.854351  0.017068   \n",
       "1  34428.29401                  0.0  26.758489  186.609895  0.000000   \n",
       "2  33632.95400                  0.0  30.973944  183.868389  0.006510   \n",
       "3  32412.94476                  0.0  28.165933  186.055214  0.025942   \n",
       "4  35437.08102                  0.0  22.091342  186.092103  0.000000   \n",
       "\n",
       "        STD_HT    change  \n",
       "0  1779.550502  0.216138  \n",
       "1  1885.340368  0.184438  \n",
       "2  2197.159165  0.181287  \n",
       "3  1875.711604  0.193084  \n",
       "4  1625.325851  0.193642  "
      ]
     },
     "execution_count": 402,
     "metadata": {},
     "output_type": "execute_result"
    }
   ],
   "source": [
    "df.head()"
   ]
  },
  {
   "cell_type": "markdown",
   "metadata": {},
   "source": [
    "## Input output split"
   ]
  },
  {
   "cell_type": "code",
   "execution_count": 403,
   "metadata": {},
   "outputs": [
    {
     "data": {
      "text/html": [
       "<div>\n",
       "<style scoped>\n",
       "    .dataframe tbody tr th:only-of-type {\n",
       "        vertical-align: middle;\n",
       "    }\n",
       "\n",
       "    .dataframe tbody tr th {\n",
       "        vertical-align: top;\n",
       "    }\n",
       "\n",
       "    .dataframe thead th {\n",
       "        text-align: right;\n",
       "    }\n",
       "</style>\n",
       "<table border=\"1\" class=\"dataframe\">\n",
       "  <thead>\n",
       "    <tr style=\"text-align: right;\">\n",
       "      <th></th>\n",
       "      <th>RIGH/LEFT-HANDED</th>\n",
       "      <th>AGE</th>\n",
       "      <th>RMS</th>\n",
       "      <th>MB</th>\n",
       "      <th>MINB</th>\n",
       "      <th>STD_DEVIATION_ET_HT</th>\n",
       "      <th>MRT</th>\n",
       "      <th>MAX_HT</th>\n",
       "      <th>MIN_HT</th>\n",
       "      <th>STD_HT</th>\n",
       "      <th>change</th>\n",
       "    </tr>\n",
       "  </thead>\n",
       "  <tbody>\n",
       "    <tr>\n",
       "      <th>0</th>\n",
       "      <td>L</td>\n",
       "      <td>28</td>\n",
       "      <td>2446.759108</td>\n",
       "      <td>5388.771096</td>\n",
       "      <td>33435.39545</td>\n",
       "      <td>0.0</td>\n",
       "      <td>26.849731</td>\n",
       "      <td>183.854351</td>\n",
       "      <td>0.017068</td>\n",
       "      <td>1779.550502</td>\n",
       "      <td>0.216138</td>\n",
       "    </tr>\n",
       "    <tr>\n",
       "      <th>1</th>\n",
       "      <td>L</td>\n",
       "      <td>28</td>\n",
       "      <td>2159.220559</td>\n",
       "      <td>4617.939790</td>\n",
       "      <td>34428.29401</td>\n",
       "      <td>0.0</td>\n",
       "      <td>26.758489</td>\n",
       "      <td>186.609895</td>\n",
       "      <td>0.000000</td>\n",
       "      <td>1885.340368</td>\n",
       "      <td>0.184438</td>\n",
       "    </tr>\n",
       "    <tr>\n",
       "      <th>2</th>\n",
       "      <td>L</td>\n",
       "      <td>28</td>\n",
       "      <td>1740.390711</td>\n",
       "      <td>4260.973134</td>\n",
       "      <td>33632.95400</td>\n",
       "      <td>0.0</td>\n",
       "      <td>30.973944</td>\n",
       "      <td>183.868389</td>\n",
       "      <td>0.006510</td>\n",
       "      <td>2197.159165</td>\n",
       "      <td>0.181287</td>\n",
       "    </tr>\n",
       "    <tr>\n",
       "      <th>3</th>\n",
       "      <td>L</td>\n",
       "      <td>28</td>\n",
       "      <td>2047.900847</td>\n",
       "      <td>4286.241318</td>\n",
       "      <td>32412.94476</td>\n",
       "      <td>0.0</td>\n",
       "      <td>28.165933</td>\n",
       "      <td>186.055214</td>\n",
       "      <td>0.025942</td>\n",
       "      <td>1875.711604</td>\n",
       "      <td>0.193084</td>\n",
       "    </tr>\n",
       "    <tr>\n",
       "      <th>4</th>\n",
       "      <td>R</td>\n",
       "      <td>37</td>\n",
       "      <td>2059.220895</td>\n",
       "      <td>4733.016802</td>\n",
       "      <td>35437.08102</td>\n",
       "      <td>0.0</td>\n",
       "      <td>22.091342</td>\n",
       "      <td>186.092103</td>\n",
       "      <td>0.000000</td>\n",
       "      <td>1625.325851</td>\n",
       "      <td>0.193642</td>\n",
       "    </tr>\n",
       "  </tbody>\n",
       "</table>\n",
       "</div>"
      ],
      "text/plain": [
       "  RIGH/LEFT-HANDED  AGE          RMS           MB         MINB  \\\n",
       "0                L   28  2446.759108  5388.771096  33435.39545   \n",
       "1                L   28  2159.220559  4617.939790  34428.29401   \n",
       "2                L   28  1740.390711  4260.973134  33632.95400   \n",
       "3                L   28  2047.900847  4286.241318  32412.94476   \n",
       "4                R   37  2059.220895  4733.016802  35437.08102   \n",
       "\n",
       "   STD_DEVIATION_ET_HT        MRT      MAX_HT    MIN_HT       STD_HT    change  \n",
       "0                  0.0  26.849731  183.854351  0.017068  1779.550502  0.216138  \n",
       "1                  0.0  26.758489  186.609895  0.000000  1885.340368  0.184438  \n",
       "2                  0.0  30.973944  183.868389  0.006510  2197.159165  0.181287  \n",
       "3                  0.0  28.165933  186.055214  0.025942  1875.711604  0.193084  \n",
       "4                  0.0  22.091342  186.092103  0.000000  1625.325851  0.193642  "
      ]
     },
     "execution_count": 403,
     "metadata": {},
     "output_type": "execute_result"
    }
   ],
   "source": [
    "X=df.loc[:, df.columns !='CLASS_TYPE']\n",
    "X=X.loc[:, X.columns !='GENDER']\n",
    "Y=df['CLASS_TYPE']\n",
    "X.head()"
   ]
  },
  {
   "cell_type": "code",
   "execution_count": 404,
   "metadata": {},
   "outputs": [
    {
     "data": {
      "text/plain": [
       "Counter({1: 72, 2: 296})"
      ]
     },
     "execution_count": 404,
     "metadata": {},
     "output_type": "execute_result"
    }
   ],
   "source": [
    "from collections import Counter\n",
    "Counter(Y)"
   ]
  },
  {
   "cell_type": "markdown",
   "metadata": {},
   "source": [
    "## Exploratory Data Analysis"
   ]
  },
  {
   "cell_type": "code",
   "execution_count": 405,
   "metadata": {},
   "outputs": [
    {
     "data": {
      "image/png": "[encoded data removed]",
      "text/plain": [
       "<Figure size 1080x864 with 2 Axes>"
      ]
     },
     "metadata": {
      "needs_background": "light"
     },
     "output_type": "display_data"
    }
   ],
   "source": [
    "from matplotlib import pyplot as plt\n",
    "import seaborn as sns\n",
    "corr=df.corr()\n",
    "plt.figure(figsize=(15,12))\n",
    "\n",
    "sns.heatmap(corr)\n",
    "\n",
    "plt.show()"
   ]
  },
  {
   "cell_type": "markdown",
   "metadata": {},
   "source": [
    "#### No two features are very correlated, and thus all features are retained."
   ]
  },
  {
   "cell_type": "code",
   "execution_count": 406,
   "metadata": {},
   "outputs": [
    {
     "data": {
      "text/plain": [
       "<matplotlib.axes._subplots.AxesSubplot at 0x1edc58b5470>"
      ]
     },
     "execution_count": 406,
     "metadata": {},
     "output_type": "execute_result"
    },
    {
     "data": {
      "image/png": "[encoded data removed]",
      "text/plain": [
       "<Figure size 432x288 with 1 Axes>"
      ]
     },
     "metadata": {
      "needs_background": "light"
     },
     "output_type": "display_data"
    }
   ],
   "source": [
    "sns.boxplot(Y,df['change'])"
   ]
  },
  {
   "cell_type": "code",
   "execution_count": 407,
   "metadata": {},
   "outputs": [
    {
     "data": {
      "text/plain": [
       "<matplotlib.axes._subplots.AxesSubplot at 0x1edc5953cc0>"
      ]
     },
     "execution_count": 407,
     "metadata": {},
     "output_type": "execute_result"
    },
    {
     "data": {
      "image/png": "[encoded data removed]",
      "text/plain": [
       "<Figure size 432x288 with 1 Axes>"
      ]
     },
     "metadata": {
      "needs_background": "light"
     },
     "output_type": "display_data"
    }
   ],
   "source": [
    "sns.boxplot(Y,df['RMS'])"
   ]
  },
  {
   "cell_type": "code",
   "execution_count": 408,
   "metadata": {},
   "outputs": [
    {
     "data": {
      "text/html": [
       "<div>\n",
       "<style scoped>\n",
       "    .dataframe tbody tr th:only-of-type {\n",
       "        vertical-align: middle;\n",
       "    }\n",
       "\n",
       "    .dataframe tbody tr th {\n",
       "        vertical-align: top;\n",
       "    }\n",
       "\n",
       "    .dataframe thead th {\n",
       "        text-align: right;\n",
       "    }\n",
       "</style>\n",
       "<table border=\"1\" class=\"dataframe\">\n",
       "  <thead>\n",
       "    <tr style=\"text-align: right;\">\n",
       "      <th></th>\n",
       "      <th></th>\n",
       "      <th>RIGH/LEFT-HANDED</th>\n",
       "      <th>AGE</th>\n",
       "      <th>RMS</th>\n",
       "      <th>MB</th>\n",
       "      <th>MINB</th>\n",
       "      <th>STD_DEVIATION_ET_HT</th>\n",
       "      <th>MRT</th>\n",
       "      <th>MAX_HT</th>\n",
       "      <th>MIN_HT</th>\n",
       "      <th>STD_HT</th>\n",
       "      <th>change</th>\n",
       "    </tr>\n",
       "    <tr>\n",
       "      <th>CLASS_TYPE</th>\n",
       "      <th>GENDER</th>\n",
       "      <th></th>\n",
       "      <th></th>\n",
       "      <th></th>\n",
       "      <th></th>\n",
       "      <th></th>\n",
       "      <th></th>\n",
       "      <th></th>\n",
       "      <th></th>\n",
       "      <th></th>\n",
       "      <th></th>\n",
       "      <th></th>\n",
       "    </tr>\n",
       "  </thead>\n",
       "  <tbody>\n",
       "    <tr>\n",
       "      <th rowspan=\"2\" valign=\"top\">1</th>\n",
       "      <th>F</th>\n",
       "      <td>48</td>\n",
       "      <td>48</td>\n",
       "      <td>48</td>\n",
       "      <td>48</td>\n",
       "      <td>48</td>\n",
       "      <td>48</td>\n",
       "      <td>48</td>\n",
       "      <td>48</td>\n",
       "      <td>48</td>\n",
       "      <td>48</td>\n",
       "      <td>48</td>\n",
       "    </tr>\n",
       "    <tr>\n",
       "      <th>M</th>\n",
       "      <td>24</td>\n",
       "      <td>24</td>\n",
       "      <td>24</td>\n",
       "      <td>24</td>\n",
       "      <td>24</td>\n",
       "      <td>24</td>\n",
       "      <td>24</td>\n",
       "      <td>24</td>\n",
       "      <td>24</td>\n",
       "      <td>24</td>\n",
       "      <td>24</td>\n",
       "    </tr>\n",
       "    <tr>\n",
       "      <th rowspan=\"2\" valign=\"top\">2</th>\n",
       "      <th>F</th>\n",
       "      <td>96</td>\n",
       "      <td>96</td>\n",
       "      <td>96</td>\n",
       "      <td>96</td>\n",
       "      <td>96</td>\n",
       "      <td>96</td>\n",
       "      <td>96</td>\n",
       "      <td>96</td>\n",
       "      <td>96</td>\n",
       "      <td>96</td>\n",
       "      <td>96</td>\n",
       "    </tr>\n",
       "    <tr>\n",
       "      <th>M</th>\n",
       "      <td>200</td>\n",
       "      <td>200</td>\n",
       "      <td>200</td>\n",
       "      <td>200</td>\n",
       "      <td>200</td>\n",
       "      <td>200</td>\n",
       "      <td>200</td>\n",
       "      <td>200</td>\n",
       "      <td>200</td>\n",
       "      <td>200</td>\n",
       "      <td>200</td>\n",
       "    </tr>\n",
       "  </tbody>\n",
       "</table>\n",
       "</div>"
      ],
      "text/plain": [
       "                   RIGH/LEFT-HANDED  AGE  RMS   MB  MINB  STD_DEVIATION_ET_HT  \\\n",
       "CLASS_TYPE GENDER                                                               \n",
       "1          F                     48   48   48   48    48                   48   \n",
       "           M                     24   24   24   24    24                   24   \n",
       "2          F                     96   96   96   96    96                   96   \n",
       "           M                    200  200  200  200   200                  200   \n",
       "\n",
       "                   MRT  MAX_HT  MIN_HT  STD_HT  change  \n",
       "CLASS_TYPE GENDER                                       \n",
       "1          F        48      48      48      48      48  \n",
       "           M        24      24      24      24      24  \n",
       "2          F        96      96      96      96      96  \n",
       "           M       200     200     200     200     200  "
      ]
     },
     "execution_count": 408,
     "metadata": {},
     "output_type": "execute_result"
    }
   ],
   "source": [
    "g=df.groupby(['CLASS_TYPE','GENDER']).agg('count')\n",
    "g"
   ]
  },
  {
   "cell_type": "code",
   "execution_count": 409,
   "metadata": {},
   "outputs": [
    {
     "data": {
      "text/plain": [
       "<matplotlib.axes._subplots.AxesSubplot at 0x1edc59c39b0>"
      ]
     },
     "execution_count": 409,
     "metadata": {},
     "output_type": "execute_result"
    },
    {
     "data": {
      "image/png": "[encoded data removed]",
      "text/plain": [
       "<Figure size 432x288 with 1 Axes>"
      ]
     },
     "metadata": {
      "needs_background": "light"
     },
     "output_type": "display_data"
    }
   ],
   "source": [
    "sns.boxplot(df['CLASS_TYPE'],df['AGE'])"
   ]
  },
  {
   "cell_type": "markdown",
   "metadata": {},
   "source": [
    "### Label Encoding"
   ]
  },
  {
   "cell_type": "code",
   "execution_count": 410,
   "metadata": {},
   "outputs": [],
   "source": [
    "#Converts all the categorical data to numerical values\n",
    "from sklearn.preprocessing import LabelEncoder\n",
    "le=LabelEncoder()\n",
    "#X['GENDER']=le.fit_transform(X['GENDER'])\n",
    "X['RIGH/LEFT-HANDED']=le.fit_transform(X['RIGH/LEFT-HANDED'])"
   ]
  },
  {
   "cell_type": "code",
   "execution_count": 411,
   "metadata": {},
   "outputs": [
    {
     "data": {
      "text/html": [
       "<div>\n",
       "<style scoped>\n",
       "    .dataframe tbody tr th:only-of-type {\n",
       "        vertical-align: middle;\n",
       "    }\n",
       "\n",
       "    .dataframe tbody tr th {\n",
       "        vertical-align: top;\n",
       "    }\n",
       "\n",
       "    .dataframe thead th {\n",
       "        text-align: right;\n",
       "    }\n",
       "</style>\n",
       "<table border=\"1\" class=\"dataframe\">\n",
       "  <thead>\n",
       "    <tr style=\"text-align: right;\">\n",
       "      <th></th>\n",
       "      <th>RIGH/LEFT-HANDED</th>\n",
       "      <th>AGE</th>\n",
       "      <th>RMS</th>\n",
       "      <th>MB</th>\n",
       "      <th>MINB</th>\n",
       "      <th>STD_DEVIATION_ET_HT</th>\n",
       "      <th>MRT</th>\n",
       "      <th>MAX_HT</th>\n",
       "      <th>MIN_HT</th>\n",
       "      <th>STD_HT</th>\n",
       "      <th>change</th>\n",
       "    </tr>\n",
       "  </thead>\n",
       "  <tbody>\n",
       "    <tr>\n",
       "      <th>0</th>\n",
       "      <td>0</td>\n",
       "      <td>28</td>\n",
       "      <td>2446.759108</td>\n",
       "      <td>5388.771096</td>\n",
       "      <td>33435.39545</td>\n",
       "      <td>0.0</td>\n",
       "      <td>26.849731</td>\n",
       "      <td>183.854351</td>\n",
       "      <td>0.017068</td>\n",
       "      <td>1779.550502</td>\n",
       "      <td>0.216138</td>\n",
       "    </tr>\n",
       "    <tr>\n",
       "      <th>1</th>\n",
       "      <td>0</td>\n",
       "      <td>28</td>\n",
       "      <td>2159.220559</td>\n",
       "      <td>4617.939790</td>\n",
       "      <td>34428.29401</td>\n",
       "      <td>0.0</td>\n",
       "      <td>26.758489</td>\n",
       "      <td>186.609895</td>\n",
       "      <td>0.000000</td>\n",
       "      <td>1885.340368</td>\n",
       "      <td>0.184438</td>\n",
       "    </tr>\n",
       "    <tr>\n",
       "      <th>2</th>\n",
       "      <td>0</td>\n",
       "      <td>28</td>\n",
       "      <td>1740.390711</td>\n",
       "      <td>4260.973134</td>\n",
       "      <td>33632.95400</td>\n",
       "      <td>0.0</td>\n",
       "      <td>30.973944</td>\n",
       "      <td>183.868389</td>\n",
       "      <td>0.006510</td>\n",
       "      <td>2197.159165</td>\n",
       "      <td>0.181287</td>\n",
       "    </tr>\n",
       "    <tr>\n",
       "      <th>3</th>\n",
       "      <td>0</td>\n",
       "      <td>28</td>\n",
       "      <td>2047.900847</td>\n",
       "      <td>4286.241318</td>\n",
       "      <td>32412.94476</td>\n",
       "      <td>0.0</td>\n",
       "      <td>28.165933</td>\n",
       "      <td>186.055214</td>\n",
       "      <td>0.025942</td>\n",
       "      <td>1875.711604</td>\n",
       "      <td>0.193084</td>\n",
       "    </tr>\n",
       "    <tr>\n",
       "      <th>4</th>\n",
       "      <td>1</td>\n",
       "      <td>37</td>\n",
       "      <td>2059.220895</td>\n",
       "      <td>4733.016802</td>\n",
       "      <td>35437.08102</td>\n",
       "      <td>0.0</td>\n",
       "      <td>22.091342</td>\n",
       "      <td>186.092103</td>\n",
       "      <td>0.000000</td>\n",
       "      <td>1625.325851</td>\n",
       "      <td>0.193642</td>\n",
       "    </tr>\n",
       "  </tbody>\n",
       "</table>\n",
       "</div>"
      ],
      "text/plain": [
       "   RIGH/LEFT-HANDED  AGE          RMS           MB         MINB  \\\n",
       "0                 0   28  2446.759108  5388.771096  33435.39545   \n",
       "1                 0   28  2159.220559  4617.939790  34428.29401   \n",
       "2                 0   28  1740.390711  4260.973134  33632.95400   \n",
       "3                 0   28  2047.900847  4286.241318  32412.94476   \n",
       "4                 1   37  2059.220895  4733.016802  35437.08102   \n",
       "\n",
       "   STD_DEVIATION_ET_HT        MRT      MAX_HT    MIN_HT       STD_HT    change  \n",
       "0                  0.0  26.849731  183.854351  0.017068  1779.550502  0.216138  \n",
       "1                  0.0  26.758489  186.609895  0.000000  1885.340368  0.184438  \n",
       "2                  0.0  30.973944  183.868389  0.006510  2197.159165  0.181287  \n",
       "3                  0.0  28.165933  186.055214  0.025942  1875.711604  0.193084  \n",
       "4                  0.0  22.091342  186.092103  0.000000  1625.325851  0.193642  "
      ]
     },
     "execution_count": 411,
     "metadata": {},
     "output_type": "execute_result"
    }
   ],
   "source": [
    "X.head()"
   ]
  },
  {
   "cell_type": "code",
   "execution_count": 412,
   "metadata": {},
   "outputs": [
    {
     "data": {
      "text/plain": [
       "Counter({1: 72, 2: 296})"
      ]
     },
     "execution_count": 412,
     "metadata": {},
     "output_type": "execute_result"
    }
   ],
   "source": [
    "from collections import Counter\n",
    "Counter(Y)"
   ]
  },
  {
   "cell_type": "markdown",
   "metadata": {},
   "source": [
    "## Feature importance"
   ]
  },
  {
   "cell_type": "code",
   "execution_count": 413,
   "metadata": {},
   "outputs": [],
   "source": [
    "from sklearn.manifold import TSNE\n",
    "\n",
    "X_embedded = TSNE(n_components=2).fit_transform(X)"
   ]
  },
  {
   "cell_type": "code",
   "execution_count": 414,
   "metadata": {},
   "outputs": [
    {
     "data": {
      "image/png": "[encoded data removed]",
      "text/plain": [
       "<Figure size 432x288 with 1 Axes>"
      ]
     },
     "metadata": {
      "needs_background": "light"
     },
     "output_type": "display_data"
    }
   ],
   "source": [
    "for i, t in enumerate(set(Y)):\n",
    "    idx=Y==t\n",
    "    plt.scatter(X_embedded[idx, 0], X_embedded[idx, 1], label=t)   "
   ]
  },
  {
   "cell_type": "markdown",
   "metadata": {},
   "source": [
    "No clear cluster found"
   ]
  },
  {
   "cell_type": "markdown",
   "metadata": {},
   "source": [
    "### After Normalizing"
   ]
  },
  {
   "cell_type": "code",
   "execution_count": 421,
   "metadata": {},
   "outputs": [],
   "source": [
    "from sklearn import preprocessing\n",
    "\n",
    "min_max_scaler = preprocessing.MinMaxScaler()\n",
    "x_scaled = min_max_scaler.fit_transform(X)\n",
    "X_norm = pd.DataFrame(x_scaled)"
   ]
  },
  {
   "cell_type": "code",
   "execution_count": 422,
   "metadata": {},
   "outputs": [
    {
     "data": {
      "image/png": "[encoded data removed]",
      "text/plain": [
       "<Figure size 432x288 with 1 Axes>"
      ]
     },
     "metadata": {
      "needs_background": "light"
     },
     "output_type": "display_data"
    }
   ],
   "source": [
    "X_embedded = TSNE(n_components=2).fit_transform(X_norm)\n",
    "for i, t in enumerate(set(Y)):\n",
    "    idx=Y==t\n",
    "    plt.scatter(X_embedded[idx, 0], X_embedded[idx, 1], label=t)   "
   ]
  },
  {
   "cell_type": "markdown",
   "metadata": {},
   "source": [
    "### Feature importance with XGBoost"
   ]
  },
  {
   "cell_type": "code",
   "execution_count": 423,
   "metadata": {},
   "outputs": [
    {
     "name": "stdout",
     "output_type": "stream",
     "text": [
      "[ 0.        30.510107   9.473268   4.7108765  7.62978   12.484209\n",
      "  7.7799983  6.652523   9.658378   3.9968312  7.1040382]\n"
     ]
    }
   ],
   "source": [
    "from xgboost import XGBClassifier\n",
    "from matplotlib import pyplot\n",
    "\n",
    "model = XGBClassifier()\n",
    "model.fit(X, Y)\n",
    "\n",
    "print(model.feature_importances_*100)"
   ]
  },
  {
   "cell_type": "code",
   "execution_count": 424,
   "metadata": {},
   "outputs": [
    {
     "data": {
      "image/png": "[encoded data removed]",
      "text/plain": [
       "<Figure size 1296x360 with 1 Axes>"
      ]
     },
     "metadata": {
      "needs_background": "light"
     },
     "output_type": "display_data"
    }
   ],
   "source": [
    "from matplotlib.pyplot import figure\n",
    "figure(num=None, figsize=(18, 5))\n",
    "\n",
    "pyplot.bar(X.columns, model.feature_importances_)\n",
    "pyplot.show()"
   ]
  },
  {
   "cell_type": "code",
   "execution_count": 425,
   "metadata": {},
   "outputs": [
    {
     "data": {
      "text/html": [
       "<div>\n",
       "<style scoped>\n",
       "    .dataframe tbody tr th:only-of-type {\n",
       "        vertical-align: middle;\n",
       "    }\n",
       "\n",
       "    .dataframe tbody tr th {\n",
       "        vertical-align: top;\n",
       "    }\n",
       "\n",
       "    .dataframe thead th {\n",
       "        text-align: right;\n",
       "    }\n",
       "</style>\n",
       "<table border=\"1\" class=\"dataframe\">\n",
       "  <thead>\n",
       "    <tr style=\"text-align: right;\">\n",
       "      <th></th>\n",
       "      <th>0</th>\n",
       "      <th>1</th>\n",
       "      <th>2</th>\n",
       "      <th>3</th>\n",
       "      <th>4</th>\n",
       "      <th>5</th>\n",
       "      <th>6</th>\n",
       "      <th>7</th>\n",
       "      <th>8</th>\n",
       "      <th>9</th>\n",
       "      <th>10</th>\n",
       "    </tr>\n",
       "  </thead>\n",
       "  <tbody>\n",
       "    <tr>\n",
       "      <th>0</th>\n",
       "      <td>0.0</td>\n",
       "      <td>0.15</td>\n",
       "      <td>0.328852</td>\n",
       "      <td>0.530315</td>\n",
       "      <td>0.600385</td>\n",
       "      <td>0.0</td>\n",
       "      <td>0.511693</td>\n",
       "      <td>0.518611</td>\n",
       "      <td>0.149839</td>\n",
       "      <td>0.571771</td>\n",
       "      <td>0.592198</td>\n",
       "    </tr>\n",
       "    <tr>\n",
       "      <th>1</th>\n",
       "      <td>0.0</td>\n",
       "      <td>0.15</td>\n",
       "      <td>0.255964</td>\n",
       "      <td>0.357251</td>\n",
       "      <td>0.628223</td>\n",
       "      <td>0.0</td>\n",
       "      <td>0.506688</td>\n",
       "      <td>0.585253</td>\n",
       "      <td>0.000000</td>\n",
       "      <td>0.662216</td>\n",
       "      <td>0.453360</td>\n",
       "    </tr>\n",
       "    <tr>\n",
       "      <th>2</th>\n",
       "      <td>0.0</td>\n",
       "      <td>0.15</td>\n",
       "      <td>0.149796</td>\n",
       "      <td>0.277106</td>\n",
       "      <td>0.605924</td>\n",
       "      <td>0.0</td>\n",
       "      <td>0.737905</td>\n",
       "      <td>0.518950</td>\n",
       "      <td>0.057151</td>\n",
       "      <td>0.928803</td>\n",
       "      <td>0.439560</td>\n",
       "    </tr>\n",
       "    <tr>\n",
       "      <th>3</th>\n",
       "      <td>0.0</td>\n",
       "      <td>0.15</td>\n",
       "      <td>0.227746</td>\n",
       "      <td>0.282779</td>\n",
       "      <td>0.571718</td>\n",
       "      <td>0.0</td>\n",
       "      <td>0.583886</td>\n",
       "      <td>0.571838</td>\n",
       "      <td>0.227743</td>\n",
       "      <td>0.653984</td>\n",
       "      <td>0.491227</td>\n",
       "    </tr>\n",
       "    <tr>\n",
       "      <th>4</th>\n",
       "      <td>1.0</td>\n",
       "      <td>0.30</td>\n",
       "      <td>0.230616</td>\n",
       "      <td>0.383087</td>\n",
       "      <td>0.656507</td>\n",
       "      <td>0.0</td>\n",
       "      <td>0.250695</td>\n",
       "      <td>0.572730</td>\n",
       "      <td>0.000000</td>\n",
       "      <td>0.439918</td>\n",
       "      <td>0.493671</td>\n",
       "    </tr>\n",
       "  </tbody>\n",
       "</table>\n",
       "</div>"
      ],
      "text/plain": [
       "     0     1         2         3         4    5         6         7         8  \\\n",
       "0  0.0  0.15  0.328852  0.530315  0.600385  0.0  0.511693  0.518611  0.149839   \n",
       "1  0.0  0.15  0.255964  0.357251  0.628223  0.0  0.506688  0.585253  0.000000   \n",
       "2  0.0  0.15  0.149796  0.277106  0.605924  0.0  0.737905  0.518950  0.057151   \n",
       "3  0.0  0.15  0.227746  0.282779  0.571718  0.0  0.583886  0.571838  0.227743   \n",
       "4  1.0  0.30  0.230616  0.383087  0.656507  0.0  0.250695  0.572730  0.000000   \n",
       "\n",
       "          9        10  \n",
       "0  0.571771  0.592198  \n",
       "1  0.662216  0.453360  \n",
       "2  0.928803  0.439560  \n",
       "3  0.653984  0.491227  \n",
       "4  0.439918  0.493671  "
      ]
     },
     "execution_count": 425,
     "metadata": {},
     "output_type": "execute_result"
    }
   ],
   "source": [
    "X_norm.head()"
   ]
  },
  {
   "cell_type": "markdown",
   "metadata": {},
   "source": [
    "### Multiplying normalized value by importance"
   ]
  },
  {
   "cell_type": "code",
   "execution_count": 420,
   "metadata": {},
   "outputs": [],
   "source": [
    "for i in range(len(X.columns)):\n",
    "        X_norm[i]*=model.feature_importances_[i]*100"
   ]
  },
  {
   "cell_type": "code",
   "execution_count": 426,
   "metadata": {},
   "outputs": [
    {
     "data": {
      "text/html": [
       "<div>\n",
       "<style scoped>\n",
       "    .dataframe tbody tr th:only-of-type {\n",
       "        vertical-align: middle;\n",
       "    }\n",
       "\n",
       "    .dataframe tbody tr th {\n",
       "        vertical-align: top;\n",
       "    }\n",
       "\n",
       "    .dataframe thead th {\n",
       "        text-align: right;\n",
       "    }\n",
       "</style>\n",
       "<table border=\"1\" class=\"dataframe\">\n",
       "  <thead>\n",
       "    <tr style=\"text-align: right;\">\n",
       "      <th></th>\n",
       "      <th>0</th>\n",
       "      <th>1</th>\n",
       "      <th>2</th>\n",
       "      <th>3</th>\n",
       "      <th>4</th>\n",
       "      <th>5</th>\n",
       "      <th>6</th>\n",
       "      <th>7</th>\n",
       "      <th>8</th>\n",
       "      <th>9</th>\n",
       "      <th>10</th>\n",
       "    </tr>\n",
       "  </thead>\n",
       "  <tbody>\n",
       "    <tr>\n",
       "      <th>0</th>\n",
       "      <td>0.0</td>\n",
       "      <td>0.15</td>\n",
       "      <td>0.328852</td>\n",
       "      <td>0.530315</td>\n",
       "      <td>0.600385</td>\n",
       "      <td>0.0</td>\n",
       "      <td>0.511693</td>\n",
       "      <td>0.518611</td>\n",
       "      <td>0.149839</td>\n",
       "      <td>0.571771</td>\n",
       "      <td>0.592198</td>\n",
       "    </tr>\n",
       "    <tr>\n",
       "      <th>1</th>\n",
       "      <td>0.0</td>\n",
       "      <td>0.15</td>\n",
       "      <td>0.255964</td>\n",
       "      <td>0.357251</td>\n",
       "      <td>0.628223</td>\n",
       "      <td>0.0</td>\n",
       "      <td>0.506688</td>\n",
       "      <td>0.585253</td>\n",
       "      <td>0.000000</td>\n",
       "      <td>0.662216</td>\n",
       "      <td>0.453360</td>\n",
       "    </tr>\n",
       "    <tr>\n",
       "      <th>2</th>\n",
       "      <td>0.0</td>\n",
       "      <td>0.15</td>\n",
       "      <td>0.149796</td>\n",
       "      <td>0.277106</td>\n",
       "      <td>0.605924</td>\n",
       "      <td>0.0</td>\n",
       "      <td>0.737905</td>\n",
       "      <td>0.518950</td>\n",
       "      <td>0.057151</td>\n",
       "      <td>0.928803</td>\n",
       "      <td>0.439560</td>\n",
       "    </tr>\n",
       "    <tr>\n",
       "      <th>3</th>\n",
       "      <td>0.0</td>\n",
       "      <td>0.15</td>\n",
       "      <td>0.227746</td>\n",
       "      <td>0.282779</td>\n",
       "      <td>0.571718</td>\n",
       "      <td>0.0</td>\n",
       "      <td>0.583886</td>\n",
       "      <td>0.571838</td>\n",
       "      <td>0.227743</td>\n",
       "      <td>0.653984</td>\n",
       "      <td>0.491227</td>\n",
       "    </tr>\n",
       "    <tr>\n",
       "      <th>4</th>\n",
       "      <td>1.0</td>\n",
       "      <td>0.30</td>\n",
       "      <td>0.230616</td>\n",
       "      <td>0.383087</td>\n",
       "      <td>0.656507</td>\n",
       "      <td>0.0</td>\n",
       "      <td>0.250695</td>\n",
       "      <td>0.572730</td>\n",
       "      <td>0.000000</td>\n",
       "      <td>0.439918</td>\n",
       "      <td>0.493671</td>\n",
       "    </tr>\n",
       "  </tbody>\n",
       "</table>\n",
       "</div>"
      ],
      "text/plain": [
       "     0     1         2         3         4    5         6         7         8  \\\n",
       "0  0.0  0.15  0.328852  0.530315  0.600385  0.0  0.511693  0.518611  0.149839   \n",
       "1  0.0  0.15  0.255964  0.357251  0.628223  0.0  0.506688  0.585253  0.000000   \n",
       "2  0.0  0.15  0.149796  0.277106  0.605924  0.0  0.737905  0.518950  0.057151   \n",
       "3  0.0  0.15  0.227746  0.282779  0.571718  0.0  0.583886  0.571838  0.227743   \n",
       "4  1.0  0.30  0.230616  0.383087  0.656507  0.0  0.250695  0.572730  0.000000   \n",
       "\n",
       "          9        10  \n",
       "0  0.571771  0.592198  \n",
       "1  0.662216  0.453360  \n",
       "2  0.928803  0.439560  \n",
       "3  0.653984  0.491227  \n",
       "4  0.439918  0.493671  "
      ]
     },
     "execution_count": 426,
     "metadata": {},
     "output_type": "execute_result"
    }
   ],
   "source": [
    "X_norm.head()"
   ]
  },
  {
   "cell_type": "code",
   "execution_count": 427,
   "metadata": {},
   "outputs": [
    {
     "data": {
      "text/html": [
       "<div>\n",
       "<style scoped>\n",
       "    .dataframe tbody tr th:only-of-type {\n",
       "        vertical-align: middle;\n",
       "    }\n",
       "\n",
       "    .dataframe tbody tr th {\n",
       "        vertical-align: top;\n",
       "    }\n",
       "\n",
       "    .dataframe thead th {\n",
       "        text-align: right;\n",
       "    }\n",
       "</style>\n",
       "<table border=\"1\" class=\"dataframe\">\n",
       "  <thead>\n",
       "    <tr style=\"text-align: right;\">\n",
       "      <th></th>\n",
       "      <th>0</th>\n",
       "      <th>1</th>\n",
       "    </tr>\n",
       "  </thead>\n",
       "  <tbody>\n",
       "    <tr>\n",
       "      <th>0</th>\n",
       "      <td>31.170597</td>\n",
       "      <td>-12.281446</td>\n",
       "    </tr>\n",
       "    <tr>\n",
       "      <th>1</th>\n",
       "      <td>30.591234</td>\n",
       "      <td>-12.453012</td>\n",
       "    </tr>\n",
       "    <tr>\n",
       "      <th>2</th>\n",
       "      <td>30.331722</td>\n",
       "      <td>-11.744240</td>\n",
       "    </tr>\n",
       "    <tr>\n",
       "      <th>3</th>\n",
       "      <td>30.132296</td>\n",
       "      <td>-12.515491</td>\n",
       "    </tr>\n",
       "    <tr>\n",
       "      <th>4</th>\n",
       "      <td>15.121355</td>\n",
       "      <td>-1.637420</td>\n",
       "    </tr>\n",
       "  </tbody>\n",
       "</table>\n",
       "</div>"
      ],
      "text/plain": [
       "           0          1\n",
       "0  31.170597 -12.281446\n",
       "1  30.591234 -12.453012\n",
       "2  30.331722 -11.744240\n",
       "3  30.132296 -12.515491\n",
       "4  15.121355  -1.637420"
      ]
     },
     "execution_count": 427,
     "metadata": {},
     "output_type": "execute_result"
    }
   ],
   "source": [
    "X_embedded = TSNE(n_components=2).fit_transform(X_norm)\n",
    "emb=pd.DataFrame(X_embedded)\n",
    "emb.head()"
   ]
  },
  {
   "cell_type": "code",
   "execution_count": 428,
   "metadata": {},
   "outputs": [
    {
     "data": {
      "text/html": [
       "<div>\n",
       "<style scoped>\n",
       "    .dataframe tbody tr th:only-of-type {\n",
       "        vertical-align: middle;\n",
       "    }\n",
       "\n",
       "    .dataframe tbody tr th {\n",
       "        vertical-align: top;\n",
       "    }\n",
       "\n",
       "    .dataframe thead th {\n",
       "        text-align: right;\n",
       "    }\n",
       "</style>\n",
       "<table border=\"1\" class=\"dataframe\">\n",
       "  <thead>\n",
       "    <tr style=\"text-align: right;\">\n",
       "      <th></th>\n",
       "      <th>0</th>\n",
       "      <th>1</th>\n",
       "      <th>gender</th>\n",
       "      <th>label</th>\n",
       "    </tr>\n",
       "  </thead>\n",
       "  <tbody>\n",
       "    <tr>\n",
       "      <th>0</th>\n",
       "      <td>31.170597</td>\n",
       "      <td>-12.281446</td>\n",
       "      <td>F</td>\n",
       "      <td>1</td>\n",
       "    </tr>\n",
       "    <tr>\n",
       "      <th>1</th>\n",
       "      <td>30.591234</td>\n",
       "      <td>-12.453012</td>\n",
       "      <td>F</td>\n",
       "      <td>1</td>\n",
       "    </tr>\n",
       "    <tr>\n",
       "      <th>2</th>\n",
       "      <td>30.331722</td>\n",
       "      <td>-11.744240</td>\n",
       "      <td>F</td>\n",
       "      <td>1</td>\n",
       "    </tr>\n",
       "    <tr>\n",
       "      <th>3</th>\n",
       "      <td>30.132296</td>\n",
       "      <td>-12.515491</td>\n",
       "      <td>F</td>\n",
       "      <td>1</td>\n",
       "    </tr>\n",
       "    <tr>\n",
       "      <th>4</th>\n",
       "      <td>15.121355</td>\n",
       "      <td>-1.637420</td>\n",
       "      <td>M</td>\n",
       "      <td>1</td>\n",
       "    </tr>\n",
       "  </tbody>\n",
       "</table>\n",
       "</div>"
      ],
      "text/plain": [
       "           0          1 gender  label\n",
       "0  31.170597 -12.281446      F      1\n",
       "1  30.591234 -12.453012      F      1\n",
       "2  30.331722 -11.744240      F      1\n",
       "3  30.132296 -12.515491      F      1\n",
       "4  15.121355  -1.637420      M      1"
      ]
     },
     "execution_count": 428,
     "metadata": {},
     "output_type": "execute_result"
    }
   ],
   "source": [
    "emb['gender']=df['GENDER']\n",
    "emb['label']=Y\n",
    "emb.head()"
   ]
  },
  {
   "cell_type": "code",
   "execution_count": 429,
   "metadata": {},
   "outputs": [
    {
     "data": {
      "text/html": [
       "<div>\n",
       "<style scoped>\n",
       "    .dataframe tbody tr th:only-of-type {\n",
       "        vertical-align: middle;\n",
       "    }\n",
       "\n",
       "    .dataframe tbody tr th {\n",
       "        vertical-align: top;\n",
       "    }\n",
       "\n",
       "    .dataframe thead th {\n",
       "        text-align: right;\n",
       "    }\n",
       "</style>\n",
       "<table border=\"1\" class=\"dataframe\">\n",
       "  <thead>\n",
       "    <tr style=\"text-align: right;\">\n",
       "      <th></th>\n",
       "      <th></th>\n",
       "      <th>0</th>\n",
       "      <th>1</th>\n",
       "    </tr>\n",
       "    <tr>\n",
       "      <th>gender</th>\n",
       "      <th>label</th>\n",
       "      <th></th>\n",
       "      <th></th>\n",
       "    </tr>\n",
       "  </thead>\n",
       "  <tbody>\n",
       "    <tr>\n",
       "      <th rowspan=\"2\" valign=\"top\">F</th>\n",
       "      <th>1</th>\n",
       "      <td>48</td>\n",
       "      <td>48</td>\n",
       "    </tr>\n",
       "    <tr>\n",
       "      <th>2</th>\n",
       "      <td>96</td>\n",
       "      <td>96</td>\n",
       "    </tr>\n",
       "    <tr>\n",
       "      <th rowspan=\"2\" valign=\"top\">M</th>\n",
       "      <th>1</th>\n",
       "      <td>24</td>\n",
       "      <td>24</td>\n",
       "    </tr>\n",
       "    <tr>\n",
       "      <th>2</th>\n",
       "      <td>200</td>\n",
       "      <td>200</td>\n",
       "    </tr>\n",
       "  </tbody>\n",
       "</table>\n",
       "</div>"
      ],
      "text/plain": [
       "                0    1\n",
       "gender label          \n",
       "F      1       48   48\n",
       "       2       96   96\n",
       "M      1       24   24\n",
       "       2      200  200"
      ]
     },
     "execution_count": 429,
     "metadata": {},
     "output_type": "execute_result"
    }
   ],
   "source": [
    "emb.groupby(['gender','label']).agg('count')"
   ]
  },
  {
   "cell_type": "code",
   "execution_count": 430,
   "metadata": {},
   "outputs": [
    {
     "data": {
      "text/plain": [
       "<matplotlib.legend.Legend at 0x1edbd149ac8>"
      ]
     },
     "execution_count": 430,
     "metadata": {},
     "output_type": "execute_result"
    },
    {
     "data": {
      "image/png": "[encoded data removed]",
      "text/plain": [
       "<Figure size 432x288 with 1 Axes>"
      ]
     },
     "metadata": {
      "needs_background": "light"
     },
     "output_type": "display_data"
    }
   ],
   "source": [
    "groups = emb.groupby(['label'])\n",
    "fig, ax = plt.subplots()\n",
    "ax.margins(0.05) # Optional, just adds 5% padding to the autoscaling\n",
    "for name, group in groups:\n",
    "    ax.plot(group[0], group[1], marker='.', linestyle='', ms=12, label=name)\n",
    "ax.legend()"
   ]
  },
  {
   "cell_type": "code",
   "execution_count": 431,
   "metadata": {},
   "outputs": [
    {
     "data": {
      "text/plain": [
       "<matplotlib.legend.Legend at 0x1edc6f999b0>"
      ]
     },
     "execution_count": 431,
     "metadata": {},
     "output_type": "execute_result"
    },
    {
     "data": {
      "image/png": "[encoded data removed]",
      "text/plain": [
       "<Figure size 432x288 with 1 Axes>"
      ]
     },
     "metadata": {
      "needs_background": "light"
     },
     "output_type": "display_data"
    }
   ],
   "source": [
    "groups = emb.groupby(['label','gender'])\n",
    "\n",
    "# Plot\n",
    "fig, ax = plt.subplots()\n",
    "ax.margins(0.05) # Optional, just adds 5% padding to the autoscaling\n",
    "for name, group in groups:\n",
    "    ax.plot(group[0], group[1], marker='.', linestyle='', ms=12, label=name)\n",
    "ax.legend()"
   ]
  },
  {
   "cell_type": "code",
   "execution_count": 432,
   "metadata": {},
   "outputs": [
    {
     "data": {
      "text/html": [
       "<div>\n",
       "<style scoped>\n",
       "    .dataframe tbody tr th:only-of-type {\n",
       "        vertical-align: middle;\n",
       "    }\n",
       "\n",
       "    .dataframe tbody tr th {\n",
       "        vertical-align: top;\n",
       "    }\n",
       "\n",
       "    .dataframe thead th {\n",
       "        text-align: right;\n",
       "    }\n",
       "</style>\n",
       "<table border=\"1\" class=\"dataframe\">\n",
       "  <thead>\n",
       "    <tr style=\"text-align: right;\">\n",
       "      <th></th>\n",
       "      <th>0</th>\n",
       "      <th>1</th>\n",
       "      <th>2</th>\n",
       "      <th>3</th>\n",
       "      <th>4</th>\n",
       "      <th>5</th>\n",
       "      <th>6</th>\n",
       "      <th>7</th>\n",
       "      <th>8</th>\n",
       "      <th>9</th>\n",
       "      <th>10</th>\n",
       "    </tr>\n",
       "  </thead>\n",
       "  <tbody>\n",
       "    <tr>\n",
       "      <th>0</th>\n",
       "      <td>0.0</td>\n",
       "      <td>0.150000</td>\n",
       "      <td>0.328852</td>\n",
       "      <td>0.530315</td>\n",
       "      <td>0.600385</td>\n",
       "      <td>0.0</td>\n",
       "      <td>0.511693</td>\n",
       "      <td>0.518611</td>\n",
       "      <td>0.149839</td>\n",
       "      <td>0.571771</td>\n",
       "      <td>0.592198</td>\n",
       "    </tr>\n",
       "    <tr>\n",
       "      <th>1</th>\n",
       "      <td>0.0</td>\n",
       "      <td>0.150000</td>\n",
       "      <td>0.255964</td>\n",
       "      <td>0.357251</td>\n",
       "      <td>0.628223</td>\n",
       "      <td>0.0</td>\n",
       "      <td>0.506688</td>\n",
       "      <td>0.585253</td>\n",
       "      <td>0.000000</td>\n",
       "      <td>0.662216</td>\n",
       "      <td>0.453360</td>\n",
       "    </tr>\n",
       "    <tr>\n",
       "      <th>2</th>\n",
       "      <td>0.0</td>\n",
       "      <td>0.150000</td>\n",
       "      <td>0.149796</td>\n",
       "      <td>0.277106</td>\n",
       "      <td>0.605924</td>\n",
       "      <td>0.0</td>\n",
       "      <td>0.737905</td>\n",
       "      <td>0.518950</td>\n",
       "      <td>0.057151</td>\n",
       "      <td>0.928803</td>\n",
       "      <td>0.439560</td>\n",
       "    </tr>\n",
       "    <tr>\n",
       "      <th>3</th>\n",
       "      <td>0.0</td>\n",
       "      <td>0.150000</td>\n",
       "      <td>0.227746</td>\n",
       "      <td>0.282779</td>\n",
       "      <td>0.571718</td>\n",
       "      <td>0.0</td>\n",
       "      <td>0.583886</td>\n",
       "      <td>0.571838</td>\n",
       "      <td>0.227743</td>\n",
       "      <td>0.653984</td>\n",
       "      <td>0.491227</td>\n",
       "    </tr>\n",
       "    <tr>\n",
       "      <th>4</th>\n",
       "      <td>1.0</td>\n",
       "      <td>0.300000</td>\n",
       "      <td>0.230616</td>\n",
       "      <td>0.383087</td>\n",
       "      <td>0.656507</td>\n",
       "      <td>0.0</td>\n",
       "      <td>0.250695</td>\n",
       "      <td>0.572730</td>\n",
       "      <td>0.000000</td>\n",
       "      <td>0.439918</td>\n",
       "      <td>0.493671</td>\n",
       "    </tr>\n",
       "    <tr>\n",
       "      <th>5</th>\n",
       "      <td>1.0</td>\n",
       "      <td>0.300000</td>\n",
       "      <td>0.207404</td>\n",
       "      <td>0.339358</td>\n",
       "      <td>0.606253</td>\n",
       "      <td>0.0</td>\n",
       "      <td>0.622938</td>\n",
       "      <td>0.249741</td>\n",
       "      <td>0.229086</td>\n",
       "      <td>0.640024</td>\n",
       "      <td>0.554335</td>\n",
       "    </tr>\n",
       "    <tr>\n",
       "      <th>6</th>\n",
       "      <td>1.0</td>\n",
       "      <td>0.300000</td>\n",
       "      <td>0.179475</td>\n",
       "      <td>0.455012</td>\n",
       "      <td>0.651739</td>\n",
       "      <td>0.0</td>\n",
       "      <td>0.403347</td>\n",
       "      <td>0.613562</td>\n",
       "      <td>0.000000</td>\n",
       "      <td>0.651330</td>\n",
       "      <td>0.329111</td>\n",
       "    </tr>\n",
       "    <tr>\n",
       "      <th>7</th>\n",
       "      <td>1.0</td>\n",
       "      <td>0.300000</td>\n",
       "      <td>0.114482</td>\n",
       "      <td>0.252324</td>\n",
       "      <td>0.574082</td>\n",
       "      <td>0.0</td>\n",
       "      <td>0.291472</td>\n",
       "      <td>0.222705</td>\n",
       "      <td>0.074779</td>\n",
       "      <td>0.241142</td>\n",
       "      <td>0.468352</td>\n",
       "    </tr>\n",
       "    <tr>\n",
       "      <th>8</th>\n",
       "      <td>1.0</td>\n",
       "      <td>0.766667</td>\n",
       "      <td>0.212513</td>\n",
       "      <td>0.314332</td>\n",
       "      <td>0.558994</td>\n",
       "      <td>0.0</td>\n",
       "      <td>0.369315</td>\n",
       "      <td>0.326257</td>\n",
       "      <td>0.027908</td>\n",
       "      <td>0.354146</td>\n",
       "      <td>0.664113</td>\n",
       "    </tr>\n",
       "    <tr>\n",
       "      <th>24</th>\n",
       "      <td>0.0</td>\n",
       "      <td>0.250000</td>\n",
       "      <td>0.211902</td>\n",
       "      <td>0.265698</td>\n",
       "      <td>0.466031</td>\n",
       "      <td>0.0</td>\n",
       "      <td>0.511337</td>\n",
       "      <td>0.558780</td>\n",
       "      <td>0.129296</td>\n",
       "      <td>0.624170</td>\n",
       "      <td>0.465983</td>\n",
       "    </tr>\n",
       "  </tbody>\n",
       "</table>\n",
       "</div>"
      ],
      "text/plain": [
       "      0         1         2         3         4    5         6         7  \\\n",
       "0   0.0  0.150000  0.328852  0.530315  0.600385  0.0  0.511693  0.518611   \n",
       "1   0.0  0.150000  0.255964  0.357251  0.628223  0.0  0.506688  0.585253   \n",
       "2   0.0  0.150000  0.149796  0.277106  0.605924  0.0  0.737905  0.518950   \n",
       "3   0.0  0.150000  0.227746  0.282779  0.571718  0.0  0.583886  0.571838   \n",
       "4   1.0  0.300000  0.230616  0.383087  0.656507  0.0  0.250695  0.572730   \n",
       "5   1.0  0.300000  0.207404  0.339358  0.606253  0.0  0.622938  0.249741   \n",
       "6   1.0  0.300000  0.179475  0.455012  0.651739  0.0  0.403347  0.613562   \n",
       "7   1.0  0.300000  0.114482  0.252324  0.574082  0.0  0.291472  0.222705   \n",
       "8   1.0  0.766667  0.212513  0.314332  0.558994  0.0  0.369315  0.326257   \n",
       "24  0.0  0.250000  0.211902  0.265698  0.466031  0.0  0.511337  0.558780   \n",
       "\n",
       "           8         9        10  \n",
       "0   0.149839  0.571771  0.592198  \n",
       "1   0.000000  0.662216  0.453360  \n",
       "2   0.057151  0.928803  0.439560  \n",
       "3   0.227743  0.653984  0.491227  \n",
       "4   0.000000  0.439918  0.493671  \n",
       "5   0.229086  0.640024  0.554335  \n",
       "6   0.000000  0.651330  0.329111  \n",
       "7   0.074779  0.241142  0.468352  \n",
       "8   0.027908  0.354146  0.664113  \n",
       "24  0.129296  0.624170  0.465983  "
      ]
     },
     "execution_count": 432,
     "metadata": {},
     "output_type": "execute_result"
    }
   ],
   "source": [
    "X_norm.groupby(0).head()"
   ]
  },
  {
   "cell_type": "markdown",
   "metadata": {},
   "source": [
    "#### Better clusters observed"
   ]
  },
  {
   "cell_type": "markdown",
   "metadata": {},
   "source": [
    "### Train Test split"
   ]
  },
  {
   "cell_type": "code",
   "execution_count": 438,
   "metadata": {},
   "outputs": [],
   "source": [
    "from sklearn.model_selection import train_test_split\n",
    "X_train, X_test, y_train, y_test = train_test_split(X, Y, test_size=0.3, random_state=42)\n",
    "X_train1, X_test1, y_train1, y_test1 = train_test_split(X_norm, Y, test_size=0.3, random_state=42)"
   ]
  },
  {
   "cell_type": "markdown",
   "metadata": {},
   "source": [
    "# Classification"
   ]
  },
  {
   "cell_type": "markdown",
   "metadata": {},
   "source": [
    "## Random Forest Classifier"
   ]
  },
  {
   "cell_type": "code",
   "execution_count": 270,
   "metadata": {},
   "outputs": [
    {
     "data": {
      "text/plain": [
       "RandomForestClassifier(bootstrap=True, ccp_alpha=0.0,\n",
       "                       class_weight={1: 1, 2: 1.4}, criterion='gini',\n",
       "                       max_depth=None, max_features='auto', max_leaf_nodes=None,\n",
       "                       max_samples=None, min_impurity_decrease=0.0,\n",
       "                       min_impurity_split=None, min_samples_leaf=1,\n",
       "                       min_samples_split=2, min_weight_fraction_leaf=0.0,\n",
       "                       n_estimators=50, n_jobs=None, oob_score=False,\n",
       "                       random_state=5, verbose=0, warm_start=False)"
      ]
     },
     "execution_count": 270,
     "metadata": {},
     "output_type": "execute_result"
    }
   ],
   "source": [
    "#Create a random forest classifier and train model\n",
    "from sklearn.ensemble import RandomForestClassifier\n",
    "classifier = RandomForestClassifier(n_estimators=50, random_state=5,class_weight={1:1,2:1.4})\n",
    "classifier.fit(X_train, y_train)"
   ]
  },
  {
   "cell_type": "markdown",
   "metadata": {},
   "source": [
    "### Train Accuracy"
   ]
  },
  {
   "cell_type": "code",
   "execution_count": 271,
   "metadata": {},
   "outputs": [
    {
     "name": "stdout",
     "output_type": "stream",
     "text": [
      "[[ 49   0]\n",
      " [  0 208]]\n",
      "              precision    recall  f1-score   support\n",
      "\n",
      "           1       1.00      1.00      1.00        49\n",
      "           2       1.00      1.00      1.00       208\n",
      "\n",
      "    accuracy                           1.00       257\n",
      "   macro avg       1.00      1.00      1.00       257\n",
      "weighted avg       1.00      1.00      1.00       257\n",
      "\n",
      "1.0\n"
     ]
    }
   ],
   "source": [
    "y_pred = classifier.predict(X_train)\n",
    "from sklearn.metrics import classification_report, confusion_matrix, accuracy_score\n",
    "print(confusion_matrix(y_train,y_pred))\n",
    "print(classification_report(y_train,y_pred))\n",
    "print(accuracy_score(y_train, y_pred))"
   ]
  },
  {
   "cell_type": "markdown",
   "metadata": {},
   "source": [
    "### Test Accuracy"
   ]
  },
  {
   "cell_type": "code",
   "execution_count": 272,
   "metadata": {},
   "outputs": [
    {
     "name": "stdout",
     "output_type": "stream",
     "text": [
      "[[18  5]\n",
      " [ 1 87]]\n",
      "              precision    recall  f1-score   support\n",
      "\n",
      "           1       0.95      0.78      0.86        23\n",
      "           2       0.95      0.99      0.97        88\n",
      "\n",
      "    accuracy                           0.95       111\n",
      "   macro avg       0.95      0.89      0.91       111\n",
      "weighted avg       0.95      0.95      0.94       111\n",
      "\n",
      "0.9459459459459459\n"
     ]
    }
   ],
   "source": [
    "y_pred = classifier.predict(X_test)\n",
    "from sklearn.metrics import classification_report, confusion_matrix, accuracy_score\n",
    "print(confusion_matrix(y_test,y_pred))\n",
    "print(classification_report(y_test,y_pred))\n",
    "print(accuracy_score(y_test, y_pred))"
   ]
  },
  {
   "cell_type": "markdown",
   "metadata": {},
   "source": [
    "## Naive Bayes"
   ]
  },
  {
   "cell_type": "code",
   "execution_count": 276,
   "metadata": {},
   "outputs": [
    {
     "data": {
      "text/plain": [
       "GaussianNB(priors=None, var_smoothing=1e-09)"
      ]
     },
     "execution_count": 276,
     "metadata": {},
     "output_type": "execute_result"
    }
   ],
   "source": [
    "from sklearn.naive_bayes import GaussianNB\n",
    "clf = GaussianNB()\n",
    "clf.fit(X_train1, y_train1)"
   ]
  },
  {
   "cell_type": "markdown",
   "metadata": {},
   "source": [
    "### Train Accuracy"
   ]
  },
  {
   "cell_type": "code",
   "execution_count": 278,
   "metadata": {},
   "outputs": [
    {
     "name": "stdout",
     "output_type": "stream",
     "text": [
      "[[ 44   5]\n",
      " [113  95]]\n",
      "              precision    recall  f1-score   support\n",
      "\n",
      "           1       0.28      0.90      0.43        49\n",
      "           2       0.95      0.46      0.62       208\n",
      "\n",
      "    accuracy                           0.54       257\n",
      "   macro avg       0.62      0.68      0.52       257\n",
      "weighted avg       0.82      0.54      0.58       257\n",
      "\n",
      "0.5408560311284046\n"
     ]
    }
   ],
   "source": [
    "from sklearn.metrics import classification_report, confusion_matrix, accuracy_score\n",
    "\n",
    "y_pred = clf.predict(X_train1)\n",
    "print(confusion_matrix(y_train1,y_pred))\n",
    "print(classification_report(y_train1,y_pred))\n",
    "print(accuracy_score(y_train1, y_pred))"
   ]
  },
  {
   "cell_type": "markdown",
   "metadata": {},
   "source": [
    "### Test Accuracy"
   ]
  },
  {
   "cell_type": "code",
   "execution_count": 279,
   "metadata": {},
   "outputs": [
    {
     "name": "stdout",
     "output_type": "stream",
     "text": [
      "[[23  0]\n",
      " [47 41]]\n",
      "              precision    recall  f1-score   support\n",
      "\n",
      "           1       0.33      1.00      0.49        23\n",
      "           2       1.00      0.47      0.64        88\n",
      "\n",
      "    accuracy                           0.58       111\n",
      "   macro avg       0.66      0.73      0.57       111\n",
      "weighted avg       0.86      0.58      0.61       111\n",
      "\n",
      "0.5765765765765766\n"
     ]
    }
   ],
   "source": [
    "y_pred = clf.predict(X_test1)\n",
    "print(confusion_matrix(y_test1,y_pred))\n",
    "print(classification_report(y_test1,y_pred))\n",
    "print(accuracy_score(y_test1, y_pred))"
   ]
  },
  {
   "cell_type": "markdown",
   "metadata": {},
   "source": [
    "## SVM"
   ]
  },
  {
   "cell_type": "code",
   "execution_count": 293,
   "metadata": {},
   "outputs": [
    {
     "data": {
      "text/plain": [
       "SVC(C=1.0, break_ties=False, cache_size=200, class_weight=None, coef0=0.0,\n",
       "    decision_function_shape='ovr', degree=3, gamma='scale', kernel='linear',\n",
       "    max_iter=-1, probability=False, random_state=None, shrinking=True,\n",
       "    tol=0.001, verbose=False)"
      ]
     },
     "execution_count": 293,
     "metadata": {},
     "output_type": "execute_result"
    }
   ],
   "source": [
    "from sklearn import svm\n",
    "\n",
    "clf = svm.SVC(kernel='linear')\n",
    "clf.fit(X_train1, y_train1)"
   ]
  },
  {
   "cell_type": "markdown",
   "metadata": {},
   "source": [
    "### Training Accuracy"
   ]
  },
  {
   "cell_type": "code",
   "execution_count": 294,
   "metadata": {},
   "outputs": [
    {
     "name": "stdout",
     "output_type": "stream",
     "text": [
      "[[ 17  32]\n",
      " [  0 208]]\n",
      "              precision    recall  f1-score   support\n",
      "\n",
      "           1       1.00      0.35      0.52        49\n",
      "           2       0.87      1.00      0.93       208\n",
      "\n",
      "    accuracy                           0.88       257\n",
      "   macro avg       0.93      0.67      0.72       257\n",
      "weighted avg       0.89      0.88      0.85       257\n",
      "\n",
      "0.8754863813229572\n"
     ]
    }
   ],
   "source": [
    "from sklearn.metrics import classification_report, confusion_matrix, accuracy_score\n",
    "\n",
    "y_pred = clf.predict(X_train1)\n",
    "print(confusion_matrix(y_train1,y_pred))\n",
    "print(classification_report(y_train1,y_pred))\n",
    "print(accuracy_score(y_train1, y_pred))"
   ]
  },
  {
   "cell_type": "markdown",
   "metadata": {},
   "source": [
    "### Testing Accuracy"
   ]
  },
  {
   "cell_type": "code",
   "execution_count": 295,
   "metadata": {},
   "outputs": [
    {
     "name": "stdout",
     "output_type": "stream",
     "text": [
      "[[10 13]\n",
      " [ 0 88]]\n",
      "              precision    recall  f1-score   support\n",
      "\n",
      "           1       1.00      0.43      0.61        23\n",
      "           2       0.87      1.00      0.93        88\n",
      "\n",
      "    accuracy                           0.88       111\n",
      "   macro avg       0.94      0.72      0.77       111\n",
      "weighted avg       0.90      0.88      0.86       111\n",
      "\n",
      "0.8828828828828829\n"
     ]
    }
   ],
   "source": [
    "y_pred = clf.predict(X_test1)\n",
    "print(confusion_matrix(y_test1,y_pred))\n",
    "print(classification_report(y_test1,y_pred))\n",
    "print(accuracy_score(y_test1, y_pred))"
   ]
  },
  {
   "cell_type": "markdown",
   "metadata": {},
   "source": [
    "## XGBoost"
   ]
  },
  {
   "cell_type": "code",
   "execution_count": 283,
   "metadata": {},
   "outputs": [
    {
     "data": {
      "text/plain": [
       "XGBClassifier(base_score=0.5, booster='gbtree', colsample_bylevel=1,\n",
       "              colsample_bynode=1, colsample_bytree=1, gamma=0,\n",
       "              learning_rate=0.1, max_delta_step=0, max_depth=3,\n",
       "              min_child_weight=1, missing=None, n_estimators=100, n_jobs=1,\n",
       "              nthread=None, objective='binary:logistic', random_state=0,\n",
       "              reg_alpha=0, reg_lambda=1, scale_pos_weight=1, seed=None,\n",
       "              silent=None, subsample=1, verbosity=1)"
      ]
     },
     "execution_count": 283,
     "metadata": {},
     "output_type": "execute_result"
    }
   ],
   "source": [
    "from xgboost import XGBClassifier\n",
    "from matplotlib import pyplot\n",
    "\n",
    "model = XGBClassifier()\n",
    "model.fit(X_train, y_train)"
   ]
  },
  {
   "cell_type": "code",
   "execution_count": 284,
   "metadata": {},
   "outputs": [
    {
     "name": "stdout",
     "output_type": "stream",
     "text": [
      "[[ 48   1]\n",
      " [  0 208]]\n",
      "              precision    recall  f1-score   support\n",
      "\n",
      "           1       1.00      0.98      0.99        49\n",
      "           2       1.00      1.00      1.00       208\n",
      "\n",
      "    accuracy                           1.00       257\n",
      "   macro avg       1.00      0.99      0.99       257\n",
      "weighted avg       1.00      1.00      1.00       257\n",
      "\n",
      "0.9961089494163424\n"
     ]
    }
   ],
   "source": [
    "from sklearn.metrics import classification_report, confusion_matrix, accuracy_score\n",
    "\n",
    "y_pred = model.predict(X_train)\n",
    "print(confusion_matrix(y_train,y_pred))\n",
    "print(classification_report(y_train,y_pred))\n",
    "print(accuracy_score(y_train, y_pred))"
   ]
  },
  {
   "cell_type": "code",
   "execution_count": 285,
   "metadata": {},
   "outputs": [
    {
     "name": "stdout",
     "output_type": "stream",
     "text": [
      "[[13 10]\n",
      " [ 3 85]]\n",
      "              precision    recall  f1-score   support\n",
      "\n",
      "           1       0.81      0.57      0.67        23\n",
      "           2       0.89      0.97      0.93        88\n",
      "\n",
      "    accuracy                           0.88       111\n",
      "   macro avg       0.85      0.77      0.80       111\n",
      "weighted avg       0.88      0.88      0.87       111\n",
      "\n",
      "0.8828828828828829\n"
     ]
    }
   ],
   "source": [
    "y_pred = clf.predict(X_test)\n",
    "print(confusion_matrix(y_test,y_pred))\n",
    "print(classification_report(y_test,y_pred))\n",
    "print(accuracy_score(y_test, y_pred))"
   ]
  },
  {
   "cell_type": "markdown",
   "metadata": {},
   "source": [
    "# Meander"
   ]
  },
  {
   "cell_type": "code",
   "execution_count": 458,
   "metadata": {},
   "outputs": [],
   "source": [
    "df=pd.read_csv('Trace/Tracing Data/Old Data/Meander_HandPD.csv')"
   ]
  },
  {
   "cell_type": "code",
   "execution_count": 459,
   "metadata": {},
   "outputs": [
    {
     "data": {
      "text/plain": [
       "Index(['_ID_EXAM', 'IMAGE_NAME', 'ID_PATIENT', 'CLASS_TYPE', 'GENDER',\n",
       "       'RIGH/LEFT-HANDED', 'AGE', 'RMS', 'MAX_BETWEEN_ST_HT',\n",
       "       'MIN_BETWEEN_ST_HT', 'STD_DEVIATION_ST_HT', 'MRT', 'MAX_HT', 'MIN_HT',\n",
       "       'STD_HT', 'CHANGES_FROM_NEGATIVE_TO_POSITIVE_BETWEEN_ST_HT'],\n",
       "      dtype='object')"
      ]
     },
     "execution_count": 459,
     "metadata": {},
     "output_type": "execute_result"
    }
   ],
   "source": [
    "df.columns"
   ]
  },
  {
   "cell_type": "code",
   "execution_count": 460,
   "metadata": {},
   "outputs": [],
   "source": [
    "df=df.rename(columns={\"CHANGES_FROM_NEGATIVE_TO_POSITIVE_BETWEEN_ST_HT\": \"change\", \"MAX_BETWEEN_ST_HT\": \"MB\",'MIN_BETWEEN_ST_HT':'MINB'})"
   ]
  },
  {
   "cell_type": "code",
   "execution_count": 461,
   "metadata": {},
   "outputs": [
    {
     "data": {
      "text/html": [
       "<div>\n",
       "<style scoped>\n",
       "    .dataframe tbody tr th:only-of-type {\n",
       "        vertical-align: middle;\n",
       "    }\n",
       "\n",
       "    .dataframe tbody tr th {\n",
       "        vertical-align: top;\n",
       "    }\n",
       "\n",
       "    .dataframe thead th {\n",
       "        text-align: right;\n",
       "    }\n",
       "</style>\n",
       "<table border=\"1\" class=\"dataframe\">\n",
       "  <thead>\n",
       "    <tr style=\"text-align: right;\">\n",
       "      <th></th>\n",
       "      <th>_ID_EXAM</th>\n",
       "      <th>IMAGE_NAME</th>\n",
       "      <th>ID_PATIENT</th>\n",
       "      <th>CLASS_TYPE</th>\n",
       "      <th>GENDER</th>\n",
       "      <th>RIGH/LEFT-HANDED</th>\n",
       "      <th>AGE</th>\n",
       "      <th>RMS</th>\n",
       "      <th>MB</th>\n",
       "      <th>MINB</th>\n",
       "      <th>STD_DEVIATION_ST_HT</th>\n",
       "      <th>MRT</th>\n",
       "      <th>MAX_HT</th>\n",
       "      <th>MIN_HT</th>\n",
       "      <th>STD_HT</th>\n",
       "      <th>change</th>\n",
       "    </tr>\n",
       "  </thead>\n",
       "  <tbody>\n",
       "    <tr>\n",
       "      <th>0</th>\n",
       "      <td>68</td>\n",
       "      <td>0068-1.jpg</td>\n",
       "      <td>1</td>\n",
       "      <td>1</td>\n",
       "      <td>F</td>\n",
       "      <td>L</td>\n",
       "      <td>28</td>\n",
       "      <td>3176.216064</td>\n",
       "      <td>7098.378906</td>\n",
       "      <td>46569.03516</td>\n",
       "      <td>0.000672</td>\n",
       "      <td>21.280848</td>\n",
       "      <td>224.197754</td>\n",
       "      <td>0.156795</td>\n",
       "      <td>802.821106</td>\n",
       "      <td>0.216138</td>\n",
       "    </tr>\n",
       "    <tr>\n",
       "      <th>1</th>\n",
       "      <td>68</td>\n",
       "      <td>0068-2.jpg</td>\n",
       "      <td>1</td>\n",
       "      <td>1</td>\n",
       "      <td>F</td>\n",
       "      <td>L</td>\n",
       "      <td>28</td>\n",
       "      <td>2751.015869</td>\n",
       "      <td>6263.803711</td>\n",
       "      <td>44059.59766</td>\n",
       "      <td>0.000000</td>\n",
       "      <td>22.056967</td>\n",
       "      <td>212.937836</td>\n",
       "      <td>0.009198</td>\n",
       "      <td>939.975647</td>\n",
       "      <td>0.184438</td>\n",
       "    </tr>\n",
       "    <tr>\n",
       "      <th>2</th>\n",
       "      <td>68</td>\n",
       "      <td>0068-3.jpg</td>\n",
       "      <td>1</td>\n",
       "      <td>1</td>\n",
       "      <td>F</td>\n",
       "      <td>L</td>\n",
       "      <td>28</td>\n",
       "      <td>3050.623779</td>\n",
       "      <td>6548.623047</td>\n",
       "      <td>40298.10938</td>\n",
       "      <td>0.000026</td>\n",
       "      <td>22.451719</td>\n",
       "      <td>223.401764</td>\n",
       "      <td>0.000000</td>\n",
       "      <td>997.580139</td>\n",
       "      <td>0.181287</td>\n",
       "    </tr>\n",
       "    <tr>\n",
       "      <th>3</th>\n",
       "      <td>68</td>\n",
       "      <td>0068-4.jpg</td>\n",
       "      <td>1</td>\n",
       "      <td>1</td>\n",
       "      <td>F</td>\n",
       "      <td>L</td>\n",
       "      <td>28</td>\n",
       "      <td>2594.598877</td>\n",
       "      <td>6989.159180</td>\n",
       "      <td>54217.63281</td>\n",
       "      <td>0.000000</td>\n",
       "      <td>30.559263</td>\n",
       "      <td>233.222504</td>\n",
       "      <td>0.367697</td>\n",
       "      <td>2060.858887</td>\n",
       "      <td>0.193084</td>\n",
       "    </tr>\n",
       "    <tr>\n",
       "      <th>4</th>\n",
       "      <td>92</td>\n",
       "      <td>0092-1.jpg</td>\n",
       "      <td>2</td>\n",
       "      <td>1</td>\n",
       "      <td>M</td>\n",
       "      <td>R</td>\n",
       "      <td>37</td>\n",
       "      <td>3310.786865</td>\n",
       "      <td>6060.232422</td>\n",
       "      <td>35212.75781</td>\n",
       "      <td>0.000667</td>\n",
       "      <td>18.138407</td>\n",
       "      <td>196.811325</td>\n",
       "      <td>0.073079</td>\n",
       "      <td>562.886475</td>\n",
       "      <td>0.193642</td>\n",
       "    </tr>\n",
       "  </tbody>\n",
       "</table>\n",
       "</div>"
      ],
      "text/plain": [
       "   _ID_EXAM  IMAGE_NAME  ID_PATIENT  CLASS_TYPE GENDER RIGH/LEFT-HANDED  AGE  \\\n",
       "0        68  0068-1.jpg           1           1      F                L   28   \n",
       "1        68  0068-2.jpg           1           1      F                L   28   \n",
       "2        68  0068-3.jpg           1           1      F                L   28   \n",
       "3        68  0068-4.jpg           1           1      F                L   28   \n",
       "4        92  0092-1.jpg           2           1      M                R   37   \n",
       "\n",
       "           RMS           MB         MINB  STD_DEVIATION_ST_HT        MRT  \\\n",
       "0  3176.216064  7098.378906  46569.03516             0.000672  21.280848   \n",
       "1  2751.015869  6263.803711  44059.59766             0.000000  22.056967   \n",
       "2  3050.623779  6548.623047  40298.10938             0.000026  22.451719   \n",
       "3  2594.598877  6989.159180  54217.63281             0.000000  30.559263   \n",
       "4  3310.786865  6060.232422  35212.75781             0.000667  18.138407   \n",
       "\n",
       "       MAX_HT    MIN_HT       STD_HT    change  \n",
       "0  224.197754  0.156795   802.821106  0.216138  \n",
       "1  212.937836  0.009198   939.975647  0.184438  \n",
       "2  223.401764  0.000000   997.580139  0.181287  \n",
       "3  233.222504  0.367697  2060.858887  0.193084  \n",
       "4  196.811325  0.073079   562.886475  0.193642  "
      ]
     },
     "execution_count": 461,
     "metadata": {},
     "output_type": "execute_result"
    }
   ],
   "source": [
    "df.head()"
   ]
  },
  {
   "cell_type": "code",
   "execution_count": 462,
   "metadata": {},
   "outputs": [
    {
     "data": {
      "image/png": "[encoded data removed]",
      "text/plain": [
       "<Figure size 1080x864 with 2 Axes>"
      ]
     },
     "metadata": {
      "needs_background": "light"
     },
     "output_type": "display_data"
    }
   ],
   "source": [
    "from matplotlib import pyplot as plt\n",
    "import seaborn as sns\n",
    "corr=df.corr()\n",
    "plt.figure(figsize=(15,12))\n",
    "\n",
    "sns.heatmap(corr)\n",
    "\n",
    "plt.show()"
   ]
  },
  {
   "cell_type": "code",
   "execution_count": 463,
   "metadata": {},
   "outputs": [],
   "source": [
    "df=df[[ 'CLASS_TYPE', 'GENDER','RIGH/LEFT-HANDED', 'AGE', 'RMS', 'MB', 'MINB', 'STD_DEVIATION_ST_HT',\n",
    "       'MRT', 'MAX_HT', 'MIN_HT', 'STD_HT', 'change']]"
   ]
  },
  {
   "cell_type": "code",
   "execution_count": 464,
   "metadata": {},
   "outputs": [
    {
     "data": {
      "text/html": [
       "<div>\n",
       "<style scoped>\n",
       "    .dataframe tbody tr th:only-of-type {\n",
       "        vertical-align: middle;\n",
       "    }\n",
       "\n",
       "    .dataframe tbody tr th {\n",
       "        vertical-align: top;\n",
       "    }\n",
       "\n",
       "    .dataframe thead th {\n",
       "        text-align: right;\n",
       "    }\n",
       "</style>\n",
       "<table border=\"1\" class=\"dataframe\">\n",
       "  <thead>\n",
       "    <tr style=\"text-align: right;\">\n",
       "      <th></th>\n",
       "      <th>CLASS_TYPE</th>\n",
       "      <th>GENDER</th>\n",
       "      <th>RIGH/LEFT-HANDED</th>\n",
       "      <th>AGE</th>\n",
       "      <th>RMS</th>\n",
       "      <th>MB</th>\n",
       "      <th>MINB</th>\n",
       "      <th>STD_DEVIATION_ST_HT</th>\n",
       "      <th>MRT</th>\n",
       "      <th>MAX_HT</th>\n",
       "      <th>MIN_HT</th>\n",
       "      <th>STD_HT</th>\n",
       "      <th>change</th>\n",
       "    </tr>\n",
       "  </thead>\n",
       "  <tbody>\n",
       "    <tr>\n",
       "      <th>0</th>\n",
       "      <td>1</td>\n",
       "      <td>F</td>\n",
       "      <td>L</td>\n",
       "      <td>28</td>\n",
       "      <td>3176.216064</td>\n",
       "      <td>7098.378906</td>\n",
       "      <td>46569.03516</td>\n",
       "      <td>0.000672</td>\n",
       "      <td>21.280848</td>\n",
       "      <td>224.197754</td>\n",
       "      <td>0.156795</td>\n",
       "      <td>802.821106</td>\n",
       "      <td>0.216138</td>\n",
       "    </tr>\n",
       "    <tr>\n",
       "      <th>1</th>\n",
       "      <td>1</td>\n",
       "      <td>F</td>\n",
       "      <td>L</td>\n",
       "      <td>28</td>\n",
       "      <td>2751.015869</td>\n",
       "      <td>6263.803711</td>\n",
       "      <td>44059.59766</td>\n",
       "      <td>0.000000</td>\n",
       "      <td>22.056967</td>\n",
       "      <td>212.937836</td>\n",
       "      <td>0.009198</td>\n",
       "      <td>939.975647</td>\n",
       "      <td>0.184438</td>\n",
       "    </tr>\n",
       "    <tr>\n",
       "      <th>2</th>\n",
       "      <td>1</td>\n",
       "      <td>F</td>\n",
       "      <td>L</td>\n",
       "      <td>28</td>\n",
       "      <td>3050.623779</td>\n",
       "      <td>6548.623047</td>\n",
       "      <td>40298.10938</td>\n",
       "      <td>0.000026</td>\n",
       "      <td>22.451719</td>\n",
       "      <td>223.401764</td>\n",
       "      <td>0.000000</td>\n",
       "      <td>997.580139</td>\n",
       "      <td>0.181287</td>\n",
       "    </tr>\n",
       "    <tr>\n",
       "      <th>3</th>\n",
       "      <td>1</td>\n",
       "      <td>F</td>\n",
       "      <td>L</td>\n",
       "      <td>28</td>\n",
       "      <td>2594.598877</td>\n",
       "      <td>6989.159180</td>\n",
       "      <td>54217.63281</td>\n",
       "      <td>0.000000</td>\n",
       "      <td>30.559263</td>\n",
       "      <td>233.222504</td>\n",
       "      <td>0.367697</td>\n",
       "      <td>2060.858887</td>\n",
       "      <td>0.193084</td>\n",
       "    </tr>\n",
       "    <tr>\n",
       "      <th>4</th>\n",
       "      <td>1</td>\n",
       "      <td>M</td>\n",
       "      <td>R</td>\n",
       "      <td>37</td>\n",
       "      <td>3310.786865</td>\n",
       "      <td>6060.232422</td>\n",
       "      <td>35212.75781</td>\n",
       "      <td>0.000667</td>\n",
       "      <td>18.138407</td>\n",
       "      <td>196.811325</td>\n",
       "      <td>0.073079</td>\n",
       "      <td>562.886475</td>\n",
       "      <td>0.193642</td>\n",
       "    </tr>\n",
       "  </tbody>\n",
       "</table>\n",
       "</div>"
      ],
      "text/plain": [
       "   CLASS_TYPE GENDER RIGH/LEFT-HANDED  AGE          RMS           MB  \\\n",
       "0           1      F                L   28  3176.216064  7098.378906   \n",
       "1           1      F                L   28  2751.015869  6263.803711   \n",
       "2           1      F                L   28  3050.623779  6548.623047   \n",
       "3           1      F                L   28  2594.598877  6989.159180   \n",
       "4           1      M                R   37  3310.786865  6060.232422   \n",
       "\n",
       "          MINB  STD_DEVIATION_ST_HT        MRT      MAX_HT    MIN_HT  \\\n",
       "0  46569.03516             0.000672  21.280848  224.197754  0.156795   \n",
       "1  44059.59766             0.000000  22.056967  212.937836  0.009198   \n",
       "2  40298.10938             0.000026  22.451719  223.401764  0.000000   \n",
       "3  54217.63281             0.000000  30.559263  233.222504  0.367697   \n",
       "4  35212.75781             0.000667  18.138407  196.811325  0.073079   \n",
       "\n",
       "        STD_HT    change  \n",
       "0   802.821106  0.216138  \n",
       "1   939.975647  0.184438  \n",
       "2   997.580139  0.181287  \n",
       "3  2060.858887  0.193084  \n",
       "4   562.886475  0.193642  "
      ]
     },
     "execution_count": 464,
     "metadata": {},
     "output_type": "execute_result"
    }
   ],
   "source": [
    "df.head()"
   ]
  },
  {
   "cell_type": "code",
   "execution_count": 465,
   "metadata": {},
   "outputs": [],
   "source": [
    "#Converts all the categorical data to numerical values\n",
    "from sklearn.preprocessing import LabelEncoder\n",
    "le=LabelEncoder()\n",
    "df['GENDER']=le.fit_transform(df['GENDER'])\n",
    "df['RIGH/LEFT-HANDED']=le.fit_transform(df['RIGH/LEFT-HANDED'])"
   ]
  },
  {
   "cell_type": "code",
   "execution_count": 466,
   "metadata": {},
   "outputs": [],
   "source": [
    "Y=df['CLASS_TYPE']\n",
    "X=df.loc[:, df.columns !='CLASS_TYPE']\n",
    "X=X.loc[:, X.columns !='GENDER']"
   ]
  },
  {
   "cell_type": "code",
   "execution_count": 467,
   "metadata": {},
   "outputs": [],
   "source": [
    "from sklearn.manifold import TSNE"
   ]
  },
  {
   "cell_type": "code",
   "execution_count": 468,
   "metadata": {},
   "outputs": [
    {
     "data": {
      "image/png": "[encoded data removed]",
      "text/plain": [
       "<Figure size 432x288 with 1 Axes>"
      ]
     },
     "metadata": {
      "needs_background": "light"
     },
     "output_type": "display_data"
    }
   ],
   "source": [
    "from sklearn import preprocessing\n",
    "\n",
    "min_max_scaler = preprocessing.MinMaxScaler()\n",
    "x_scaled = min_max_scaler.fit_transform(X)\n",
    "X_norm = pd.DataFrame(x_scaled)\n",
    "X_embedded = TSNE(n_components=2).fit_transform(X_norm)\n",
    "for i, t in enumerate(set(Y)):\n",
    "    idx=Y==t\n",
    "    plt.scatter(X_embedded[idx, 0], X_embedded[idx, 1], label=t)   "
   ]
  },
  {
   "cell_type": "code",
   "execution_count": 469,
   "metadata": {},
   "outputs": [
    {
     "name": "stdout",
     "output_type": "stream",
     "text": [
      "[ 0.        32.57578   12.431037   7.724388   6.588422   7.581172\n",
      "  6.6416836  6.5702567  4.195664   8.294625   7.396966 ]\n"
     ]
    },
    {
     "data": {
      "image/png": "[encoded data removed]",
      "text/plain": [
       "<Figure size 1296x360 with 1 Axes>"
      ]
     },
     "metadata": {
      "needs_background": "light"
     },
     "output_type": "display_data"
    }
   ],
   "source": [
    "from xgboost import XGBClassifier\n",
    "from matplotlib import pyplot\n",
    "\n",
    "model = XGBClassifier()\n",
    "model.fit(X, Y)\n",
    "\n",
    "print(model.feature_importances_*100)\n",
    "from matplotlib.pyplot import figure\n",
    "figure(num=None, figsize=(18, 5))\n",
    "\n",
    "pyplot.bar(X.columns, model.feature_importances_)\n",
    "pyplot.show()"
   ]
  },
  {
   "cell_type": "code",
   "execution_count": 470,
   "metadata": {},
   "outputs": [
    {
     "data": {
      "text/html": [
       "<div>\n",
       "<style scoped>\n",
       "    .dataframe tbody tr th:only-of-type {\n",
       "        vertical-align: middle;\n",
       "    }\n",
       "\n",
       "    .dataframe tbody tr th {\n",
       "        vertical-align: top;\n",
       "    }\n",
       "\n",
       "    .dataframe thead th {\n",
       "        text-align: right;\n",
       "    }\n",
       "</style>\n",
       "<table border=\"1\" class=\"dataframe\">\n",
       "  <thead>\n",
       "    <tr style=\"text-align: right;\">\n",
       "      <th></th>\n",
       "      <th>0</th>\n",
       "      <th>1</th>\n",
       "      <th>2</th>\n",
       "      <th>3</th>\n",
       "      <th>4</th>\n",
       "      <th>5</th>\n",
       "      <th>6</th>\n",
       "      <th>7</th>\n",
       "      <th>8</th>\n",
       "      <th>9</th>\n",
       "      <th>10</th>\n",
       "    </tr>\n",
       "  </thead>\n",
       "  <tbody>\n",
       "    <tr>\n",
       "      <th>0</th>\n",
       "      <td>0.0</td>\n",
       "      <td>0.150000</td>\n",
       "      <td>0.136865</td>\n",
       "      <td>0.522924</td>\n",
       "      <td>0.398259</td>\n",
       "      <td>4.894144e-06</td>\n",
       "      <td>0.142573</td>\n",
       "      <td>0.921034</td>\n",
       "      <td>0.212375</td>\n",
       "      <td>0.154316</td>\n",
       "      <td>0.592198</td>\n",
       "    </tr>\n",
       "    <tr>\n",
       "      <th>1</th>\n",
       "      <td>0.0</td>\n",
       "      <td>0.150000</td>\n",
       "      <td>0.099820</td>\n",
       "      <td>0.414264</td>\n",
       "      <td>0.362705</td>\n",
       "      <td>0.000000e+00</td>\n",
       "      <td>0.166307</td>\n",
       "      <td>0.829914</td>\n",
       "      <td>0.012458</td>\n",
       "      <td>0.204595</td>\n",
       "      <td>0.453360</td>\n",
       "    </tr>\n",
       "    <tr>\n",
       "      <th>2</th>\n",
       "      <td>0.0</td>\n",
       "      <td>0.150000</td>\n",
       "      <td>0.125923</td>\n",
       "      <td>0.451347</td>\n",
       "      <td>0.309411</td>\n",
       "      <td>1.893568e-07</td>\n",
       "      <td>0.178379</td>\n",
       "      <td>0.914593</td>\n",
       "      <td>0.000000</td>\n",
       "      <td>0.225711</td>\n",
       "      <td>0.439560</td>\n",
       "    </tr>\n",
       "    <tr>\n",
       "      <th>3</th>\n",
       "      <td>0.0</td>\n",
       "      <td>0.150000</td>\n",
       "      <td>0.086193</td>\n",
       "      <td>0.508704</td>\n",
       "      <td>0.506626</td>\n",
       "      <td>0.000000e+00</td>\n",
       "      <td>0.426314</td>\n",
       "      <td>0.994067</td>\n",
       "      <td>0.498037</td>\n",
       "      <td>0.615489</td>\n",
       "      <td>0.491227</td>\n",
       "    </tr>\n",
       "    <tr>\n",
       "      <th>4</th>\n",
       "      <td>1.0</td>\n",
       "      <td>0.300000</td>\n",
       "      <td>0.148589</td>\n",
       "      <td>0.387760</td>\n",
       "      <td>0.237361</td>\n",
       "      <td>4.857729e-06</td>\n",
       "      <td>0.046475</td>\n",
       "      <td>0.699412</td>\n",
       "      <td>0.098984</td>\n",
       "      <td>0.066361</td>\n",
       "      <td>0.493671</td>\n",
       "    </tr>\n",
       "    <tr>\n",
       "      <th>...</th>\n",
       "      <td>...</td>\n",
       "      <td>...</td>\n",
       "      <td>...</td>\n",
       "      <td>...</td>\n",
       "      <td>...</td>\n",
       "      <td>...</td>\n",
       "      <td>...</td>\n",
       "      <td>...</td>\n",
       "      <td>...</td>\n",
       "      <td>...</td>\n",
       "      <td>...</td>\n",
       "    </tr>\n",
       "    <tr>\n",
       "      <th>363</th>\n",
       "      <td>1.0</td>\n",
       "      <td>0.483333</td>\n",
       "      <td>0.297076</td>\n",
       "      <td>0.508493</td>\n",
       "      <td>0.462462</td>\n",
       "      <td>8.979880e-06</td>\n",
       "      <td>0.101930</td>\n",
       "      <td>0.844236</td>\n",
       "      <td>0.259395</td>\n",
       "      <td>0.117565</td>\n",
       "      <td>0.645569</td>\n",
       "    </tr>\n",
       "    <tr>\n",
       "      <th>364</th>\n",
       "      <td>1.0</td>\n",
       "      <td>0.483333</td>\n",
       "      <td>0.246778</td>\n",
       "      <td>0.281166</td>\n",
       "      <td>0.202204</td>\n",
       "      <td>5.914573e-03</td>\n",
       "      <td>0.157199</td>\n",
       "      <td>0.812809</td>\n",
       "      <td>0.132324</td>\n",
       "      <td>0.106982</td>\n",
       "      <td>0.705392</td>\n",
       "    </tr>\n",
       "    <tr>\n",
       "      <th>365</th>\n",
       "      <td>1.0</td>\n",
       "      <td>0.483333</td>\n",
       "      <td>0.262817</td>\n",
       "      <td>0.377116</td>\n",
       "      <td>0.259055</td>\n",
       "      <td>2.173524e-04</td>\n",
       "      <td>0.006548</td>\n",
       "      <td>0.496932</td>\n",
       "      <td>0.013682</td>\n",
       "      <td>0.055635</td>\n",
       "      <td>0.531946</td>\n",
       "    </tr>\n",
       "    <tr>\n",
       "      <th>366</th>\n",
       "      <td>1.0</td>\n",
       "      <td>0.483333</td>\n",
       "      <td>0.251207</td>\n",
       "      <td>0.632742</td>\n",
       "      <td>0.739692</td>\n",
       "      <td>6.886759e-05</td>\n",
       "      <td>0.117877</td>\n",
       "      <td>0.470616</td>\n",
       "      <td>0.117604</td>\n",
       "      <td>0.128702</td>\n",
       "      <td>0.652257</td>\n",
       "    </tr>\n",
       "    <tr>\n",
       "      <th>367</th>\n",
       "      <td>1.0</td>\n",
       "      <td>0.483333</td>\n",
       "      <td>0.216482</td>\n",
       "      <td>0.541509</td>\n",
       "      <td>0.191604</td>\n",
       "      <td>2.826878e-04</td>\n",
       "      <td>0.170071</td>\n",
       "      <td>0.824156</td>\n",
       "      <td>0.179104</td>\n",
       "      <td>0.196595</td>\n",
       "      <td>0.584993</td>\n",
       "    </tr>\n",
       "  </tbody>\n",
       "</table>\n",
       "<p>368 rows × 11 columns</p>\n",
       "</div>"
      ],
      "text/plain": [
       "       0         1         2         3         4             5         6  \\\n",
       "0    0.0  0.150000  0.136865  0.522924  0.398259  4.894144e-06  0.142573   \n",
       "1    0.0  0.150000  0.099820  0.414264  0.362705  0.000000e+00  0.166307   \n",
       "2    0.0  0.150000  0.125923  0.451347  0.309411  1.893568e-07  0.178379   \n",
       "3    0.0  0.150000  0.086193  0.508704  0.506626  0.000000e+00  0.426314   \n",
       "4    1.0  0.300000  0.148589  0.387760  0.237361  4.857729e-06  0.046475   \n",
       "..   ...       ...       ...       ...       ...           ...       ...   \n",
       "363  1.0  0.483333  0.297076  0.508493  0.462462  8.979880e-06  0.101930   \n",
       "364  1.0  0.483333  0.246778  0.281166  0.202204  5.914573e-03  0.157199   \n",
       "365  1.0  0.483333  0.262817  0.377116  0.259055  2.173524e-04  0.006548   \n",
       "366  1.0  0.483333  0.251207  0.632742  0.739692  6.886759e-05  0.117877   \n",
       "367  1.0  0.483333  0.216482  0.541509  0.191604  2.826878e-04  0.170071   \n",
       "\n",
       "            7         8         9        10  \n",
       "0    0.921034  0.212375  0.154316  0.592198  \n",
       "1    0.829914  0.012458  0.204595  0.453360  \n",
       "2    0.914593  0.000000  0.225711  0.439560  \n",
       "3    0.994067  0.498037  0.615489  0.491227  \n",
       "4    0.699412  0.098984  0.066361  0.493671  \n",
       "..        ...       ...       ...       ...  \n",
       "363  0.844236  0.259395  0.117565  0.645569  \n",
       "364  0.812809  0.132324  0.106982  0.705392  \n",
       "365  0.496932  0.013682  0.055635  0.531946  \n",
       "366  0.470616  0.117604  0.128702  0.652257  \n",
       "367  0.824156  0.179104  0.196595  0.584993  \n",
       "\n",
       "[368 rows x 11 columns]"
      ]
     },
     "execution_count": 470,
     "metadata": {},
     "output_type": "execute_result"
    }
   ],
   "source": [
    "X_norm"
   ]
  },
  {
   "cell_type": "code",
   "execution_count": 471,
   "metadata": {},
   "outputs": [
    {
     "data": {
      "text/html": [
       "<div>\n",
       "<style scoped>\n",
       "    .dataframe tbody tr th:only-of-type {\n",
       "        vertical-align: middle;\n",
       "    }\n",
       "\n",
       "    .dataframe tbody tr th {\n",
       "        vertical-align: top;\n",
       "    }\n",
       "\n",
       "    .dataframe thead th {\n",
       "        text-align: right;\n",
       "    }\n",
       "</style>\n",
       "<table border=\"1\" class=\"dataframe\">\n",
       "  <thead>\n",
       "    <tr style=\"text-align: right;\">\n",
       "      <th></th>\n",
       "      <th>0</th>\n",
       "      <th>1</th>\n",
       "      <th>gender</th>\n",
       "      <th>label</th>\n",
       "    </tr>\n",
       "  </thead>\n",
       "  <tbody>\n",
       "    <tr>\n",
       "      <th>0</th>\n",
       "      <td>26.964138</td>\n",
       "      <td>17.714367</td>\n",
       "      <td>0</td>\n",
       "      <td>1</td>\n",
       "    </tr>\n",
       "    <tr>\n",
       "      <th>1</th>\n",
       "      <td>26.432714</td>\n",
       "      <td>16.999216</td>\n",
       "      <td>0</td>\n",
       "      <td>1</td>\n",
       "    </tr>\n",
       "    <tr>\n",
       "      <th>2</th>\n",
       "      <td>26.437553</td>\n",
       "      <td>17.105803</td>\n",
       "      <td>0</td>\n",
       "      <td>1</td>\n",
       "    </tr>\n",
       "    <tr>\n",
       "      <th>3</th>\n",
       "      <td>26.455582</td>\n",
       "      <td>18.508146</td>\n",
       "      <td>0</td>\n",
       "      <td>1</td>\n",
       "    </tr>\n",
       "    <tr>\n",
       "      <th>4</th>\n",
       "      <td>4.126998</td>\n",
       "      <td>12.695160</td>\n",
       "      <td>1</td>\n",
       "      <td>1</td>\n",
       "    </tr>\n",
       "  </tbody>\n",
       "</table>\n",
       "</div>"
      ],
      "text/plain": [
       "           0          1  gender  label\n",
       "0  26.964138  17.714367       0      1\n",
       "1  26.432714  16.999216       0      1\n",
       "2  26.437553  17.105803       0      1\n",
       "3  26.455582  18.508146       0      1\n",
       "4   4.126998  12.695160       1      1"
      ]
     },
     "execution_count": 471,
     "metadata": {},
     "output_type": "execute_result"
    }
   ],
   "source": [
    "#for i in range(len(X.columns)):\n",
    "#        X_norm[i]*=model.feature_importances_[i]*100\n",
    "X_embedded = TSNE(n_components=2).fit_transform(X_norm)\n",
    "emb=pd.DataFrame(X_embedded)\n",
    "emb['gender']=df['GENDER']\n",
    "emb['label']=Y\n",
    "\n",
    "emb.head()"
   ]
  },
  {
   "cell_type": "code",
   "execution_count": 472,
   "metadata": {},
   "outputs": [
    {
     "data": {
      "text/plain": [
       "<matplotlib.legend.Legend at 0x1edc5f71e80>"
      ]
     },
     "execution_count": 472,
     "metadata": {},
     "output_type": "execute_result"
    },
    {
     "data": {
      "image/png": "[encoded data removed]",
      "text/plain": [
       "<Figure size 432x288 with 1 Axes>"
      ]
     },
     "metadata": {
      "needs_background": "light"
     },
     "output_type": "display_data"
    }
   ],
   "source": [
    "groups = emb.groupby(['label','gender'])\n",
    "\n",
    "# Plot\n",
    "fig, ax = plt.subplots()\n",
    "ax.margins(0.05) # Optional, just adds 5% padding to the autoscaling\n",
    "for name, group in groups:\n",
    "    ax.plot(group[0], group[1], marker='.', linestyle='', ms=12, label=name)\n",
    "ax.legend()"
   ]
  },
  {
   "cell_type": "code",
   "execution_count": 477,
   "metadata": {},
   "outputs": [],
   "source": [
    "from sklearn.model_selection import train_test_split\n",
    "X_train, X_test, y_train, y_test = train_test_split(X, Y, test_size=0.3, random_state=42)\n",
    "X_train1, X_test1, y_train1, y_test1 = train_test_split(X_norm, Y, test_size=0.3, random_state=42)"
   ]
  },
  {
   "cell_type": "markdown",
   "metadata": {},
   "source": [
    "## RF"
   ]
  },
  {
   "cell_type": "code",
   "execution_count": 478,
   "metadata": {},
   "outputs": [
    {
     "ename": "ValueError",
     "evalue": "Class label 2 not present.",
     "output_type": "error",
     "traceback": [
      "\u001b[1;31m---------------------------------------------------------------------------\u001b[0m",
      "\u001b[1;31mValueError\u001b[0m                                Traceback (most recent call last)",
      "\u001b[1;32m<ipython-input-478-a0709325a36a>\u001b[0m in \u001b[0;36m<module>\u001b[1;34m\u001b[0m\n\u001b[0;32m      1\u001b[0m \u001b[0mclassifier\u001b[0m \u001b[1;33m=\u001b[0m \u001b[0mRandomForestClassifier\u001b[0m\u001b[1;33m(\u001b[0m\u001b[0mn_estimators\u001b[0m\u001b[1;33m=\u001b[0m\u001b[1;36m50\u001b[0m\u001b[1;33m,\u001b[0m \u001b[0mrandom_state\u001b[0m\u001b[1;33m=\u001b[0m\u001b[1;36m5\u001b[0m\u001b[1;33m,\u001b[0m\u001b[0mclass_weight\u001b[0m\u001b[1;33m=\u001b[0m\u001b[1;33m{\u001b[0m\u001b[1;36m1\u001b[0m\u001b[1;33m:\u001b[0m\u001b[1;36m1\u001b[0m\u001b[1;33m,\u001b[0m\u001b[1;36m2\u001b[0m\u001b[1;33m:\u001b[0m\u001b[1;36m4\u001b[0m\u001b[1;33m}\u001b[0m\u001b[1;33m)\u001b[0m\u001b[1;33m\u001b[0m\u001b[1;33m\u001b[0m\u001b[0m\n\u001b[1;32m----> 2\u001b[1;33m \u001b[0mclassifier\u001b[0m\u001b[1;33m.\u001b[0m\u001b[0mfit\u001b[0m\u001b[1;33m(\u001b[0m\u001b[0mX_train\u001b[0m\u001b[1;33m,\u001b[0m \u001b[0my_train\u001b[0m\u001b[1;33m)\u001b[0m\u001b[1;33m\u001b[0m\u001b[1;33m\u001b[0m\u001b[0m\n\u001b[0m",
      "\u001b[1;32m~\\AppData\\Roaming\\Python\\Python37\\site-packages\\sklearn\\ensemble\\_forest.py\u001b[0m in \u001b[0;36mfit\u001b[1;34m(self, X, y, sample_weight)\u001b[0m\n\u001b[0;32m    319\u001b[0m         \u001b[0mself\u001b[0m\u001b[1;33m.\u001b[0m\u001b[0mn_outputs_\u001b[0m \u001b[1;33m=\u001b[0m \u001b[0my\u001b[0m\u001b[1;33m.\u001b[0m\u001b[0mshape\u001b[0m\u001b[1;33m[\u001b[0m\u001b[1;36m1\u001b[0m\u001b[1;33m]\u001b[0m\u001b[1;33m\u001b[0m\u001b[1;33m\u001b[0m\u001b[0m\n\u001b[0;32m    320\u001b[0m \u001b[1;33m\u001b[0m\u001b[0m\n\u001b[1;32m--> 321\u001b[1;33m         \u001b[0my\u001b[0m\u001b[1;33m,\u001b[0m \u001b[0mexpanded_class_weight\u001b[0m \u001b[1;33m=\u001b[0m \u001b[0mself\u001b[0m\u001b[1;33m.\u001b[0m\u001b[0m_validate_y_class_weight\u001b[0m\u001b[1;33m(\u001b[0m\u001b[0my\u001b[0m\u001b[1;33m)\u001b[0m\u001b[1;33m\u001b[0m\u001b[1;33m\u001b[0m\u001b[0m\n\u001b[0m\u001b[0;32m    322\u001b[0m \u001b[1;33m\u001b[0m\u001b[0m\n\u001b[0;32m    323\u001b[0m         \u001b[1;32mif\u001b[0m \u001b[0mgetattr\u001b[0m\u001b[1;33m(\u001b[0m\u001b[0my\u001b[0m\u001b[1;33m,\u001b[0m \u001b[1;34m\"dtype\"\u001b[0m\u001b[1;33m,\u001b[0m \u001b[1;32mNone\u001b[0m\u001b[1;33m)\u001b[0m \u001b[1;33m!=\u001b[0m \u001b[0mDOUBLE\u001b[0m \u001b[1;32mor\u001b[0m \u001b[1;32mnot\u001b[0m \u001b[0my\u001b[0m\u001b[1;33m.\u001b[0m\u001b[0mflags\u001b[0m\u001b[1;33m.\u001b[0m\u001b[0mcontiguous\u001b[0m\u001b[1;33m:\u001b[0m\u001b[1;33m\u001b[0m\u001b[1;33m\u001b[0m\u001b[0m\n",
      "\u001b[1;32m~\\AppData\\Roaming\\Python\\Python37\\site-packages\\sklearn\\ensemble\\_forest.py\u001b[0m in \u001b[0;36m_validate_y_class_weight\u001b[1;34m(self, y)\u001b[0m\n\u001b[0;32m    585\u001b[0m                     \u001b[0mclass_weight\u001b[0m \u001b[1;33m=\u001b[0m \u001b[0mself\u001b[0m\u001b[1;33m.\u001b[0m\u001b[0mclass_weight\u001b[0m\u001b[1;33m\u001b[0m\u001b[1;33m\u001b[0m\u001b[0m\n\u001b[0;32m    586\u001b[0m                 expanded_class_weight = compute_sample_weight(class_weight,\n\u001b[1;32m--> 587\u001b[1;33m                                                               y_original)\n\u001b[0m\u001b[0;32m    588\u001b[0m \u001b[1;33m\u001b[0m\u001b[0m\n\u001b[0;32m    589\u001b[0m         \u001b[1;32mreturn\u001b[0m \u001b[0my\u001b[0m\u001b[1;33m,\u001b[0m \u001b[0mexpanded_class_weight\u001b[0m\u001b[1;33m\u001b[0m\u001b[1;33m\u001b[0m\u001b[0m\n",
      "\u001b[1;32m~\\AppData\\Roaming\\Python\\Python37\\site-packages\\sklearn\\utils\\class_weight.py\u001b[0m in \u001b[0;36mcompute_sample_weight\u001b[1;34m(class_weight, y, indices)\u001b[0m\n\u001b[0;32m    161\u001b[0m             weight_k = compute_class_weight(class_weight_k,\n\u001b[0;32m    162\u001b[0m                                             \u001b[0mclasses_full\u001b[0m\u001b[1;33m,\u001b[0m\u001b[1;33m\u001b[0m\u001b[1;33m\u001b[0m\u001b[0m\n\u001b[1;32m--> 163\u001b[1;33m                                             y_full)\n\u001b[0m\u001b[0;32m    164\u001b[0m \u001b[1;33m\u001b[0m\u001b[0m\n\u001b[0;32m    165\u001b[0m         \u001b[0mweight_k\u001b[0m \u001b[1;33m=\u001b[0m \u001b[0mweight_k\u001b[0m\u001b[1;33m[\u001b[0m\u001b[0mnp\u001b[0m\u001b[1;33m.\u001b[0m\u001b[0msearchsorted\u001b[0m\u001b[1;33m(\u001b[0m\u001b[0mclasses_full\u001b[0m\u001b[1;33m,\u001b[0m \u001b[0my_full\u001b[0m\u001b[1;33m)\u001b[0m\u001b[1;33m]\u001b[0m\u001b[1;33m\u001b[0m\u001b[1;33m\u001b[0m\u001b[0m\n",
      "\u001b[1;32m~\\AppData\\Roaming\\Python\\Python37\\site-packages\\sklearn\\utils\\class_weight.py\u001b[0m in \u001b[0;36mcompute_class_weight\u001b[1;34m(class_weight, classes, y)\u001b[0m\n\u001b[0;32m     63\u001b[0m             \u001b[0mi\u001b[0m \u001b[1;33m=\u001b[0m \u001b[0mnp\u001b[0m\u001b[1;33m.\u001b[0m\u001b[0msearchsorted\u001b[0m\u001b[1;33m(\u001b[0m\u001b[0mclasses\u001b[0m\u001b[1;33m,\u001b[0m \u001b[0mc\u001b[0m\u001b[1;33m)\u001b[0m\u001b[1;33m\u001b[0m\u001b[1;33m\u001b[0m\u001b[0m\n\u001b[0;32m     64\u001b[0m             \u001b[1;32mif\u001b[0m \u001b[0mi\u001b[0m \u001b[1;33m>=\u001b[0m \u001b[0mlen\u001b[0m\u001b[1;33m(\u001b[0m\u001b[0mclasses\u001b[0m\u001b[1;33m)\u001b[0m \u001b[1;32mor\u001b[0m \u001b[0mclasses\u001b[0m\u001b[1;33m[\u001b[0m\u001b[0mi\u001b[0m\u001b[1;33m]\u001b[0m \u001b[1;33m!=\u001b[0m \u001b[0mc\u001b[0m\u001b[1;33m:\u001b[0m\u001b[1;33m\u001b[0m\u001b[1;33m\u001b[0m\u001b[0m\n\u001b[1;32m---> 65\u001b[1;33m                 \u001b[1;32mraise\u001b[0m \u001b[0mValueError\u001b[0m\u001b[1;33m(\u001b[0m\u001b[1;34m\"Class label {} not present.\"\u001b[0m\u001b[1;33m.\u001b[0m\u001b[0mformat\u001b[0m\u001b[1;33m(\u001b[0m\u001b[0mc\u001b[0m\u001b[1;33m)\u001b[0m\u001b[1;33m)\u001b[0m\u001b[1;33m\u001b[0m\u001b[1;33m\u001b[0m\u001b[0m\n\u001b[0m\u001b[0;32m     66\u001b[0m             \u001b[1;32melse\u001b[0m\u001b[1;33m:\u001b[0m\u001b[1;33m\u001b[0m\u001b[1;33m\u001b[0m\u001b[0m\n\u001b[0;32m     67\u001b[0m                 \u001b[0mweight\u001b[0m\u001b[1;33m[\u001b[0m\u001b[0mi\u001b[0m\u001b[1;33m]\u001b[0m \u001b[1;33m=\u001b[0m \u001b[0mclass_weight\u001b[0m\u001b[1;33m[\u001b[0m\u001b[0mc\u001b[0m\u001b[1;33m]\u001b[0m\u001b[1;33m\u001b[0m\u001b[1;33m\u001b[0m\u001b[0m\n",
      "\u001b[1;31mValueError\u001b[0m: Class label 2 not present."
     ]
    }
   ],
   "source": [
    "classifier = RandomForestClassifier(n_estimators=50, random_state=5,class_weight={1:1,2:4})\n",
    "classifier.fit(X_train, y_train)"
   ]
  },
  {
   "cell_type": "code",
   "execution_count": 369,
   "metadata": {},
   "outputs": [
    {
     "name": "stdout",
     "output_type": "stream",
     "text": [
      "[[ 49   0]\n",
      " [  0 208]]\n",
      "              precision    recall  f1-score   support\n",
      "\n",
      "           1       1.00      1.00      1.00        49\n",
      "           2       1.00      1.00      1.00       208\n",
      "\n",
      "    accuracy                           1.00       257\n",
      "   macro avg       1.00      1.00      1.00       257\n",
      "weighted avg       1.00      1.00      1.00       257\n",
      "\n",
      "1.0\n"
     ]
    }
   ],
   "source": [
    "y_pred = classifier.predict(X_train)\n",
    "from sklearn.metrics import classification_report, confusion_matrix, accuracy_score\n",
    "print(confusion_matrix(y_train,y_pred))\n",
    "print(classification_report(y_train,y_pred))\n",
    "print(accuracy_score(y_train, y_pred))"
   ]
  },
  {
   "cell_type": "code",
   "execution_count": 371,
   "metadata": {},
   "outputs": [
    {
     "name": "stdout",
     "output_type": "stream",
     "text": [
      "[[18  5]\n",
      " [ 2 86]]\n",
      "              precision    recall  f1-score   support\n",
      "\n",
      "           1       0.90      0.78      0.84        23\n",
      "           2       0.95      0.98      0.96        88\n",
      "\n",
      "    accuracy                           0.94       111\n",
      "   macro avg       0.92      0.88      0.90       111\n",
      "weighted avg       0.94      0.94      0.94       111\n",
      "\n",
      "0.9369369369369369\n"
     ]
    }
   ],
   "source": [
    "y_pred = classifier.predict(X_test)\n",
    "from sklearn.metrics import classification_report, confusion_matrix, accuracy_score\n",
    "print(confusion_matrix(y_test,y_pred))\n",
    "print(classification_report(y_test,y_pred))\n",
    "print(accuracy_score(y_test, y_pred))"
   ]
  },
  {
   "cell_type": "markdown",
   "metadata": {},
   "source": [
    "## XGBoost"
   ]
  },
  {
   "cell_type": "code",
   "execution_count": 372,
   "metadata": {},
   "outputs": [
    {
     "data": {
      "text/plain": [
       "XGBClassifier(base_score=0.5, booster='gbtree', colsample_bylevel=1,\n",
       "              colsample_bynode=1, colsample_bytree=1, gamma=0,\n",
       "              learning_rate=0.1, max_delta_step=0, max_depth=3,\n",
       "              min_child_weight=1, missing=None, n_estimators=100, n_jobs=1,\n",
       "              nthread=None, objective='binary:logistic', random_state=0,\n",
       "              reg_alpha=0, reg_lambda=1, scale_pos_weight=1, seed=None,\n",
       "              silent=None, subsample=1, verbosity=1)"
      ]
     },
     "execution_count": 372,
     "metadata": {},
     "output_type": "execute_result"
    }
   ],
   "source": [
    "model.fit(X_train,y_train)"
   ]
  },
  {
   "cell_type": "code",
   "execution_count": 373,
   "metadata": {},
   "outputs": [
    {
     "name": "stdout",
     "output_type": "stream",
     "text": [
      "[[ 48   1]\n",
      " [  0 208]]\n",
      "              precision    recall  f1-score   support\n",
      "\n",
      "           1       1.00      0.98      0.99        49\n",
      "           2       1.00      1.00      1.00       208\n",
      "\n",
      "    accuracy                           1.00       257\n",
      "   macro avg       1.00      0.99      0.99       257\n",
      "weighted avg       1.00      1.00      1.00       257\n",
      "\n",
      "0.9961089494163424\n"
     ]
    }
   ],
   "source": [
    "y_pred = model.predict(X_train)\n",
    "print(confusion_matrix(y_train,y_pred))\n",
    "print(classification_report(y_train,y_pred))\n",
    "print(accuracy_score(y_train, y_pred))"
   ]
  },
  {
   "cell_type": "code",
   "execution_count": 375,
   "metadata": {},
   "outputs": [
    {
     "name": "stdout",
     "output_type": "stream",
     "text": [
      "[[19  4]\n",
      " [ 1 87]]\n",
      "              precision    recall  f1-score   support\n",
      "\n",
      "           1       0.95      0.83      0.88        23\n",
      "           2       0.96      0.99      0.97        88\n",
      "\n",
      "    accuracy                           0.95       111\n",
      "   macro avg       0.95      0.91      0.93       111\n",
      "weighted avg       0.95      0.95      0.95       111\n",
      "\n",
      "0.954954954954955\n"
     ]
    }
   ],
   "source": [
    "y_pred = model.predict(X_test)\n",
    "from sklearn.metrics import classification_report, confusion_matrix, accuracy_score\n",
    "print(confusion_matrix(y_test,y_pred))\n",
    "print(classification_report(y_test,y_pred))\n",
    "print(accuracy_score(y_test, y_pred))"
   ]
  },
  {
   "cell_type": "markdown",
   "metadata": {},
   "source": [
    "## SVM"
   ]
  },
  {
   "cell_type": "code",
   "execution_count": 384,
   "metadata": {},
   "outputs": [
    {
     "data": {
      "text/plain": [
       "SVC(C=1.0, break_ties=False, cache_size=200, class_weight=None, coef0=0.0,\n",
       "    decision_function_shape='ovr', degree=3, gamma='scale', kernel='linear',\n",
       "    max_iter=-1, probability=False, random_state=None, shrinking=True,\n",
       "    tol=0.001, verbose=False)"
      ]
     },
     "execution_count": 384,
     "metadata": {},
     "output_type": "execute_result"
    }
   ],
   "source": [
    "clf.fit(X_train, y_train)"
   ]
  },
  {
   "cell_type": "code",
   "execution_count": 385,
   "metadata": {},
   "outputs": [
    {
     "name": "stdout",
     "output_type": "stream",
     "text": [
      "[[ 30  19]\n",
      " [ 11 197]]\n",
      "              precision    recall  f1-score   support\n",
      "\n",
      "           1       0.73      0.61      0.67        49\n",
      "           2       0.91      0.95      0.93       208\n",
      "\n",
      "    accuracy                           0.88       257\n",
      "   macro avg       0.82      0.78      0.80       257\n",
      "weighted avg       0.88      0.88      0.88       257\n",
      "\n",
      "0.8832684824902723\n"
     ]
    }
   ],
   "source": [
    "y_pred = clf.predict(X_train)\n",
    "print(confusion_matrix(y_train,y_pred))\n",
    "print(classification_report(y_train,y_pred))\n",
    "print(accuracy_score(y_train, y_pred))"
   ]
  },
  {
   "cell_type": "code",
   "execution_count": 386,
   "metadata": {},
   "outputs": [
    {
     "name": "stdout",
     "output_type": "stream",
     "text": [
      "[[19  4]\n",
      " [ 6 82]]\n",
      "              precision    recall  f1-score   support\n",
      "\n",
      "           1       0.76      0.83      0.79        23\n",
      "           2       0.95      0.93      0.94        88\n",
      "\n",
      "    accuracy                           0.91       111\n",
      "   macro avg       0.86      0.88      0.87       111\n",
      "weighted avg       0.91      0.91      0.91       111\n",
      "\n",
      "0.9099099099099099\n"
     ]
    }
   ],
   "source": [
    "y_pred = clf.predict(X_test)\n",
    "from sklearn.metrics import classification_report, confusion_matrix, accuracy_score\n",
    "print(confusion_matrix(y_test,y_pred))\n",
    "print(classification_report(y_test,y_pred))\n",
    "print(accuracy_score(y_test, y_pred))"
   ]
  },
  {
   "cell_type": "markdown",
   "metadata": {},
   "source": [
    "### with normalization"
   ]
  },
  {
   "cell_type": "code",
   "execution_count": 311,
   "metadata": {},
   "outputs": [
    {
     "data": {
      "text/plain": [
       "SVC(C=1.0, break_ties=False, cache_size=200, class_weight=None, coef0=0.0,\n",
       "    decision_function_shape='ovr', degree=3, gamma='scale', kernel='linear',\n",
       "    max_iter=-1, probability=False, random_state=None, shrinking=True,\n",
       "    tol=0.001, verbose=False)"
      ]
     },
     "execution_count": 311,
     "metadata": {},
     "output_type": "execute_result"
    }
   ],
   "source": [
    "clf.fit(X_train1, y_train1)"
   ]
  },
  {
   "cell_type": "code",
   "execution_count": 312,
   "metadata": {},
   "outputs": [
    {
     "name": "stdout",
     "output_type": "stream",
     "text": [
      "[[81 18]\n",
      " [ 6 79]]\n",
      "              precision    recall  f1-score   support\n",
      "\n",
      "           1       0.93      0.82      0.87        99\n",
      "           2       0.81      0.93      0.87        85\n",
      "\n",
      "    accuracy                           0.87       184\n",
      "   macro avg       0.87      0.87      0.87       184\n",
      "weighted avg       0.88      0.87      0.87       184\n",
      "\n",
      "0.8695652173913043\n"
     ]
    }
   ],
   "source": [
    "y_pred = clf.predict(X_train1)\n",
    "print(confusion_matrix(y_train1,y_pred))\n",
    "print(classification_report(y_train1,y_pred))\n",
    "print(accuracy_score(y_train1, y_pred))"
   ]
  },
  {
   "cell_type": "code",
   "execution_count": 313,
   "metadata": {},
   "outputs": [
    {
     "name": "stdout",
     "output_type": "stream",
     "text": [
      "[[28 13]\n",
      " [ 2 37]]\n",
      "              precision    recall  f1-score   support\n",
      "\n",
      "           1       0.93      0.68      0.79        41\n",
      "           2       0.74      0.95      0.83        39\n",
      "\n",
      "    accuracy                           0.81        80\n",
      "   macro avg       0.84      0.82      0.81        80\n",
      "weighted avg       0.84      0.81      0.81        80\n",
      "\n",
      "0.8125\n"
     ]
    }
   ],
   "source": [
    "y_pred = clf.predict(X_test1)\n",
    "from sklearn.metrics import classification_report, confusion_matrix, accuracy_score\n",
    "print(confusion_matrix(y_test1,y_pred))\n",
    "print(classification_report(y_test1,y_pred))\n",
    "print(accuracy_score(y_test1, y_pred))"
   ]
  },
  {
   "cell_type": "markdown",
   "metadata": {},
   "source": [
    "### Neural network"
   ]
  },
  {
   "cell_type": "code",
   "execution_count": 474,
   "metadata": {},
   "outputs": [
    {
     "name": "stderr",
     "output_type": "stream",
     "text": [
      "C:\\ProgramData\\Anaconda3\\lib\\site-packages\\ipykernel_launcher.py:1: SettingWithCopyWarning: \n",
      "A value is trying to be set on a copy of a slice from a DataFrame\n",
      "\n",
      "See the caveats in the documentation: https://pandas.pydata.org/pandas-docs/stable/user_guide/indexing.html#returning-a-view-versus-a-copy\n",
      "  \"\"\"Entry point for launching an IPython kernel.\n",
      "C:\\ProgramData\\Anaconda3\\lib\\site-packages\\ipykernel_launcher.py:2: SettingWithCopyWarning: \n",
      "A value is trying to be set on a copy of a slice from a DataFrame\n",
      "\n",
      "See the caveats in the documentation: https://pandas.pydata.org/pandas-docs/stable/user_guide/indexing.html#returning-a-view-versus-a-copy\n",
      "  \n"
     ]
    }
   ],
   "source": [
    "Y[Y==1]=0\n",
    "Y[Y==2]=1"
   ]
  },
  {
   "cell_type": "code",
   "execution_count": 481,
   "metadata": {},
   "outputs": [],
   "source": [
    "import tensorflow as tf\n",
    "from tensorflow import keras\n",
    "from tensorflow.keras import layers\n",
    "from tensorflow.python.framework import ops\n",
    "ops.reset_default_graph()\n",
    "\n",
    "model = tf.keras.Sequential()\n",
    "model.add(layers.Dense(8, input_dim=11, activation='relu'))\n",
    "model.add(layers.Dense(4, activation='relu'))\n",
    "model.add(layers.Dense(1, activation='sigmoid'))"
   ]
  },
  {
   "cell_type": "code",
   "execution_count": 482,
   "metadata": {},
   "outputs": [
    {
     "data": {
      "text/plain": [
       "Counter({1: 208, 0: 49})"
      ]
     },
     "execution_count": 482,
     "metadata": {},
     "output_type": "execute_result"
    }
   ],
   "source": [
    "Counter(y_train)"
   ]
  },
  {
   "cell_type": "code",
   "execution_count": 483,
   "metadata": {},
   "outputs": [
    {
     "name": "stdout",
     "output_type": "stream",
     "text": [
      "Epoch 1/50\n",
      "17/17 [==============================] - 0s 657us/step - loss: 1.4778 - accuracy: 0.8093\n",
      "Epoch 2/50\n",
      "17/17 [==============================] - 0s 645us/step - loss: 1.2892 - accuracy: 0.8093\n",
      "Epoch 3/50\n",
      "17/17 [==============================] - 0s 587us/step - loss: 1.0801 - accuracy: 0.8093\n",
      "Epoch 4/50\n",
      "17/17 [==============================] - 0s 530us/step - loss: 0.8921 - accuracy: 0.8093\n",
      "Epoch 5/50\n",
      "17/17 [==============================] - 0s 634us/step - loss: 0.7672 - accuracy: 0.8093\n",
      "Epoch 6/50\n",
      "17/17 [==============================] - 0s 613us/step - loss: 0.7047 - accuracy: 0.8093\n",
      "Epoch 7/50\n",
      "17/17 [==============================] - 0s 560us/step - loss: 0.6833 - accuracy: 0.8093\n",
      "Epoch 8/50\n",
      "17/17 [==============================] - 0s 806us/step - loss: 0.6748 - accuracy: 0.8093\n",
      "Epoch 9/50\n",
      "17/17 [==============================] - 0s 880us/step - loss: 0.6699 - accuracy: 0.8093\n",
      "Epoch 10/50\n",
      "17/17 [==============================] - 0s 891us/step - loss: 0.6653 - accuracy: 0.8093\n",
      "Epoch 11/50\n",
      "17/17 [==============================] - 0s 939us/step - loss: 0.6626 - accuracy: 0.8093\n",
      "Epoch 12/50\n",
      "17/17 [==============================] - 0s 1ms/step - loss: 0.6600 - accuracy: 0.8093\n",
      "Epoch 13/50\n",
      "17/17 [==============================] - 0s 965us/step - loss: 0.6573 - accuracy: 0.8093\n",
      "Epoch 14/50\n",
      "17/17 [==============================] - 0s 1ms/step - loss: 0.6542 - accuracy: 0.8093\n",
      "Epoch 15/50\n",
      "17/17 [==============================] - 0s 861us/step - loss: 0.6516 - accuracy: 0.8093\n",
      "Epoch 16/50\n",
      "17/17 [==============================] - 0s 899us/step - loss: 0.6498 - accuracy: 0.8093\n",
      "Epoch 17/50\n",
      "17/17 [==============================] - 0s 940us/step - loss: 0.6480 - accuracy: 0.8093\n",
      "Epoch 18/50\n",
      "17/17 [==============================] - 0s 991us/step - loss: 0.6456 - accuracy: 0.8093\n",
      "Epoch 19/50\n",
      "17/17 [==============================] - 0s 992us/step - loss: 0.6435 - accuracy: 0.8093\n",
      "Epoch 20/50\n",
      "17/17 [==============================] - 0s 828us/step - loss: 0.6416 - accuracy: 0.8093\n",
      "Epoch 21/50\n",
      "17/17 [==============================] - 0s 949us/step - loss: 0.6398 - accuracy: 0.8093\n",
      "Epoch 22/50\n",
      "17/17 [==============================] - 0s 940us/step - loss: 0.6374 - accuracy: 0.8093\n",
      "Epoch 23/50\n",
      "17/17 [==============================] - 0s 902us/step - loss: 0.6361 - accuracy: 0.8093\n",
      "Epoch 24/50\n",
      "17/17 [==============================] - 0s 899us/step - loss: 0.6336 - accuracy: 0.8093\n",
      "Epoch 25/50\n",
      "17/17 [==============================] - 0s 865us/step - loss: 0.6308 - accuracy: 0.8093\n",
      "Epoch 26/50\n",
      "17/17 [==============================] - 0s 705us/step - loss: 0.6281 - accuracy: 0.8093\n",
      "Epoch 27/50\n",
      "17/17 [==============================] - 0s 708us/step - loss: 0.6261 - accuracy: 0.8093\n",
      "Epoch 28/50\n",
      "17/17 [==============================] - 0s 760us/step - loss: 0.6238 - accuracy: 0.8093\n",
      "Epoch 29/50\n",
      "17/17 [==============================] - 0s 781us/step - loss: 0.6219 - accuracy: 0.8093\n",
      "Epoch 30/50\n",
      "17/17 [==============================] - 0s 841us/step - loss: 0.6201 - accuracy: 0.8093\n",
      "Epoch 31/50\n",
      "17/17 [==============================] - 0s 871us/step - loss: 0.6174 - accuracy: 0.8093\n",
      "Epoch 32/50\n",
      "17/17 [==============================] - 0s 846us/step - loss: 0.6146 - accuracy: 0.8093\n",
      "Epoch 33/50\n",
      "17/17 [==============================] - 0s 821us/step - loss: 0.6123 - accuracy: 0.8093\n",
      "Epoch 34/50\n",
      "17/17 [==============================] - 0s 1ms/step - loss: 0.6100 - accuracy: 0.8093\n",
      "Epoch 35/50\n",
      "17/17 [==============================] - 0s 1ms/step - loss: 0.6072 - accuracy: 0.8093\n",
      "Epoch 36/50\n",
      "17/17 [==============================] - 0s 1ms/step - loss: 0.6053 - accuracy: 0.8093\n",
      "Epoch 37/50\n",
      "17/17 [==============================] - 0s 1ms/step - loss: 0.6037 - accuracy: 0.8093\n",
      "Epoch 38/50\n",
      "17/17 [==============================] - 0s 1ms/step - loss: 0.6008 - accuracy: 0.8093\n",
      "Epoch 39/50\n",
      "17/17 [==============================] - 0s 974us/step - loss: 0.5991 - accuracy: 0.8093\n",
      "Epoch 40/50\n",
      "17/17 [==============================] - 0s 917us/step - loss: 0.5969 - accuracy: 0.8093\n",
      "Epoch 41/50\n",
      "17/17 [==============================] - 0s 897us/step - loss: 0.5922 - accuracy: 0.8093\n",
      "Epoch 42/50\n",
      "17/17 [==============================] - 0s 1ms/step - loss: 0.5918 - accuracy: 0.8093\n",
      "Epoch 43/50\n",
      "17/17 [==============================] - 0s 973us/step - loss: 0.5888 - accuracy: 0.8093\n",
      "Epoch 44/50\n",
      "17/17 [==============================] - 0s 905us/step - loss: 0.5863 - accuracy: 0.8093\n",
      "Epoch 45/50\n",
      "17/17 [==============================] - 0s 1ms/step - loss: 0.5854 - accuracy: 0.8093\n",
      "Epoch 46/50\n",
      "17/17 [==============================] - 0s 821us/step - loss: 0.5820 - accuracy: 0.8093\n",
      "Epoch 47/50\n",
      "17/17 [==============================] - 0s 758us/step - loss: 0.5793 - accuracy: 0.8093\n",
      "Epoch 48/50\n",
      "17/17 [==============================] - 0s 879us/step - loss: 0.5772 - accuracy: 0.8093\n",
      "Epoch 49/50\n",
      "17/17 [==============================] - 0s 705us/step - loss: 0.5743 - accuracy: 0.8093\n",
      "Epoch 50/50\n",
      "17/17 [==============================] - 0s 1ms/step - loss: 0.5740 - accuracy: 0.8093\n"
     ]
    },
    {
     "data": {
      "text/plain": [
       "<tensorflow.python.keras.callbacks.History at 0x1edc726cb70>"
      ]
     },
     "execution_count": 483,
     "metadata": {},
     "output_type": "execute_result"
    }
   ],
   "source": [
    "model.compile(loss='binary_crossentropy', optimizer='adam', metrics=['accuracy'])\n",
    "model.fit(X_train1, y_train1, epochs=50, batch_size=16,class_weight={0:1,1:3})\n"
   ]
  },
  {
   "cell_type": "code",
   "execution_count": 484,
   "metadata": {},
   "outputs": [
    {
     "name": "stdout",
     "output_type": "stream",
     "text": [
      "[[  0  49]\n",
      " [  0 208]]\n",
      "              precision    recall  f1-score   support\n",
      "\n",
      "           0       0.00      0.00      0.00        49\n",
      "           1       0.81      1.00      0.89       208\n",
      "\n",
      "    accuracy                           0.81       257\n",
      "   macro avg       0.40      0.50      0.45       257\n",
      "weighted avg       0.66      0.81      0.72       257\n",
      "\n",
      "0.8093385214007782\n"
     ]
    },
    {
     "name": "stderr",
     "output_type": "stream",
     "text": [
      "C:\\Users\\aumkar\\AppData\\Roaming\\Python\\Python37\\site-packages\\sklearn\\metrics\\_classification.py:1268: UndefinedMetricWarning: Precision and F-score are ill-defined and being set to 0.0 in labels with no predicted samples. Use `zero_division` parameter to control this behavior.\n",
      "  _warn_prf(average, modifier, msg_start, len(result))\n",
      "C:\\Users\\aumkar\\AppData\\Roaming\\Python\\Python37\\site-packages\\sklearn\\metrics\\_classification.py:1268: UndefinedMetricWarning: Precision and F-score are ill-defined and being set to 0.0 in labels with no predicted samples. Use `zero_division` parameter to control this behavior.\n",
      "  _warn_prf(average, modifier, msg_start, len(result))\n",
      "C:\\Users\\aumkar\\AppData\\Roaming\\Python\\Python37\\site-packages\\sklearn\\metrics\\_classification.py:1268: UndefinedMetricWarning: Precision and F-score are ill-defined and being set to 0.0 in labels with no predicted samples. Use `zero_division` parameter to control this behavior.\n",
      "  _warn_prf(average, modifier, msg_start, len(result))\n"
     ]
    }
   ],
   "source": [
    "y_pred = model.predict(X_train)\n",
    "y_pred[y_pred>=0.5]=1\n",
    "y_pred[y_pred<0.5]=0\n",
    "from sklearn.metrics import classification_report, confusion_matrix, accuracy_score\n",
    "print(confusion_matrix(y_train,y_pred))\n",
    "print(classification_report(y_train,y_pred))\n",
    "print(accuracy_score(y_train, y_pred))"
   ]
  },
  {
   "cell_type": "code",
   "execution_count": 485,
   "metadata": {},
   "outputs": [
    {
     "name": "stdout",
     "output_type": "stream",
     "text": [
      "[[ 0 23]\n",
      " [ 0 88]]\n",
      "              precision    recall  f1-score   support\n",
      "\n",
      "           0       0.00      0.00      0.00        23\n",
      "           1       0.79      1.00      0.88        88\n",
      "\n",
      "    accuracy                           0.79       111\n",
      "   macro avg       0.40      0.50      0.44       111\n",
      "weighted avg       0.63      0.79      0.70       111\n",
      "\n",
      "0.7927927927927928\n"
     ]
    },
    {
     "name": "stderr",
     "output_type": "stream",
     "text": [
      "C:\\Users\\aumkar\\AppData\\Roaming\\Python\\Python37\\site-packages\\sklearn\\metrics\\_classification.py:1268: UndefinedMetricWarning: Precision and F-score are ill-defined and being set to 0.0 in labels with no predicted samples. Use `zero_division` parameter to control this behavior.\n",
      "  _warn_prf(average, modifier, msg_start, len(result))\n",
      "C:\\Users\\aumkar\\AppData\\Roaming\\Python\\Python37\\site-packages\\sklearn\\metrics\\_classification.py:1268: UndefinedMetricWarning: Precision and F-score are ill-defined and being set to 0.0 in labels with no predicted samples. Use `zero_division` parameter to control this behavior.\n",
      "  _warn_prf(average, modifier, msg_start, len(result))\n",
      "C:\\Users\\aumkar\\AppData\\Roaming\\Python\\Python37\\site-packages\\sklearn\\metrics\\_classification.py:1268: UndefinedMetricWarning: Precision and F-score are ill-defined and being set to 0.0 in labels with no predicted samples. Use `zero_division` parameter to control this behavior.\n",
      "  _warn_prf(average, modifier, msg_start, len(result))\n"
     ]
    }
   ],
   "source": [
    "y_pred = model.predict(X_test)\n",
    "y_pred[y_pred>=0.5]=1\n",
    "y_pred[y_pred<0.5]=0\n",
    "from sklearn.metrics import classification_report, confusion_matrix, accuracy_score\n",
    "print(confusion_matrix(y_test,y_pred))\n",
    "print(classification_report(y_test,y_pred))\n",
    "print(accuracy_score(y_test, y_pred))"
   ]
  },
  {
   "cell_type": "code",
   "execution_count": null,
   "metadata": {},
   "outputs": [],
   "source": []
  }
 ],
 "metadata": {
  "kernelspec": {
   "display_name": "Python 3",
   "language": "python",
   "name": "python3"
  },
  "language_info": {
   "codemirror_mode": {
    "name": "ipython",
    "version": 3
   },
   "file_extension": ".py",
   "mimetype": "text/x-python",
   "name": "python",
   "nbconvert_exporter": "python",
   "pygments_lexer": "ipython3",
   "version": "3.8.3"
  }
 },
 "nbformat": 4,
 "nbformat_minor": 2
}
