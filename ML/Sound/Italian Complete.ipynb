{
 "cells": [
  {
   "cell_type": "code",
   "execution_count": 1,
   "metadata": {},
   "outputs": [],
   "source": [
    "import numpy as np\n",
    "import pandas as pd\n",
    "from matplotlib import pyplot as plt\n",
    "import seaborn as sns"
   ]
  },
  {
   "cell_type": "code",
   "execution_count": 2,
   "metadata": {},
   "outputs": [],
   "source": [
    "df=pd.read_csv('Data/control_it.csv')"
   ]
  },
  {
   "cell_type": "code",
   "execution_count": 3,
   "metadata": {},
   "outputs": [
    {
     "data": {
      "text/plain": [
       "Index(['voiceID', 'localJitter', 'localabsoluteJitter', 'rapJitter',\n",
       "       'ppq5Jitter', 'ddpJitter', 'localShimmer', 'localdbShimmer',\n",
       "       'apq3Shimmer', 'aqpq5Shimmer', 'apq11Shimmer', 'ddaShimmer', 'ac',\n",
       "       'nth', 'htn', 'median_pitch', 'meanF0', 'stdevF0', 'min_pitch',\n",
       "       'max_pitch', 'n_pulses', 'n_periods', 'mean_period',\n",
       "       'standard_deviation_period', 'fraction_unvoiced_frames',\n",
       "       'num_voice_breaks', 'degree_voice_breaks', 'class'],\n",
       "      dtype='object')"
      ]
     },
     "execution_count": 3,
     "metadata": {},
     "output_type": "execute_result"
    }
   ],
   "source": [
    "df.columns"
   ]
  },
  {
   "cell_type": "code",
   "execution_count": 4,
   "metadata": {},
   "outputs": [
    {
     "data": {
      "text/html": [
       "<div>\n",
       "<style scoped>\n",
       "    .dataframe tbody tr th:only-of-type {\n",
       "        vertical-align: middle;\n",
       "    }\n",
       "\n",
       "    .dataframe tbody tr th {\n",
       "        vertical-align: top;\n",
       "    }\n",
       "\n",
       "    .dataframe thead th {\n",
       "        text-align: right;\n",
       "    }\n",
       "</style>\n",
       "<table border=\"1\" class=\"dataframe\">\n",
       "  <thead>\n",
       "    <tr style=\"text-align: right;\">\n",
       "      <th></th>\n",
       "      <th>voiceID</th>\n",
       "      <th>localJitter</th>\n",
       "      <th>localabsoluteJitter</th>\n",
       "      <th>rapJitter</th>\n",
       "      <th>ppq5Jitter</th>\n",
       "      <th>ddpJitter</th>\n",
       "      <th>localShimmer</th>\n",
       "      <th>localdbShimmer</th>\n",
       "      <th>apq3Shimmer</th>\n",
       "      <th>aqpq5Shimmer</th>\n",
       "      <th>...</th>\n",
       "      <th>min_pitch</th>\n",
       "      <th>max_pitch</th>\n",
       "      <th>n_pulses</th>\n",
       "      <th>n_periods</th>\n",
       "      <th>mean_period</th>\n",
       "      <th>standard_deviation_period</th>\n",
       "      <th>fraction_unvoiced_frames</th>\n",
       "      <th>num_voice_breaks</th>\n",
       "      <th>degree_voice_breaks</th>\n",
       "      <th>class</th>\n",
       "    </tr>\n",
       "  </thead>\n",
       "  <tbody>\n",
       "    <tr>\n",
       "      <th>0</th>\n",
       "      <td>B1ACNAGRER49F210320170916.wav</td>\n",
       "      <td>0.027563</td>\n",
       "      <td>0.000073</td>\n",
       "      <td>0.011999</td>\n",
       "      <td>0.014552</td>\n",
       "      <td>0.035996</td>\n",
       "      <td>0.127578</td>\n",
       "      <td>1.202943</td>\n",
       "      <td>0.052486</td>\n",
       "      <td>0.075037</td>\n",
       "      <td>...</td>\n",
       "      <td>137.442</td>\n",
       "      <td>527.547</td>\n",
       "      <td>3709</td>\n",
       "      <td>3556</td>\n",
       "      <td>0.002634</td>\n",
       "      <td>0.000563</td>\n",
       "      <td>0.47395</td>\n",
       "      <td>47.0</td>\n",
       "      <td>0.51332</td>\n",
       "      <td>0</td>\n",
       "    </tr>\n",
       "    <tr>\n",
       "      <th>1</th>\n",
       "      <td>B1ACNUTCOC40M230320171121.wav</td>\n",
       "      <td>0.023413</td>\n",
       "      <td>0.000063</td>\n",
       "      <td>0.010166</td>\n",
       "      <td>0.012283</td>\n",
       "      <td>0.030497</td>\n",
       "      <td>0.120930</td>\n",
       "      <td>1.152869</td>\n",
       "      <td>0.045974</td>\n",
       "      <td>0.069131</td>\n",
       "      <td>...</td>\n",
       "      <td>214.902</td>\n",
       "      <td>522.564</td>\n",
       "      <td>4242</td>\n",
       "      <td>4085</td>\n",
       "      <td>0.002732</td>\n",
       "      <td>0.000518</td>\n",
       "      <td>0.50100</td>\n",
       "      <td>49.0</td>\n",
       "      <td>0.54580</td>\n",
       "      <td>0</td>\n",
       "    </tr>\n",
       "    <tr>\n",
       "      <th>2</th>\n",
       "      <td>B1AGNIGNEE54F230320171018.wav</td>\n",
       "      <td>0.022856</td>\n",
       "      <td>0.000064</td>\n",
       "      <td>0.010395</td>\n",
       "      <td>0.011400</td>\n",
       "      <td>0.031185</td>\n",
       "      <td>0.119258</td>\n",
       "      <td>1.096128</td>\n",
       "      <td>0.048339</td>\n",
       "      <td>0.069816</td>\n",
       "      <td>...</td>\n",
       "      <td>223.186</td>\n",
       "      <td>526.174</td>\n",
       "      <td>4394</td>\n",
       "      <td>4233</td>\n",
       "      <td>0.002763</td>\n",
       "      <td>0.000576</td>\n",
       "      <td>0.53607</td>\n",
       "      <td>43.0</td>\n",
       "      <td>0.56002</td>\n",
       "      <td>0</td>\n",
       "    </tr>\n",
       "    <tr>\n",
       "      <th>3</th>\n",
       "      <td>B1AMULCAAS94M100120171016.wav</td>\n",
       "      <td>0.034014</td>\n",
       "      <td>0.000104</td>\n",
       "      <td>0.015382</td>\n",
       "      <td>0.017247</td>\n",
       "      <td>0.046147</td>\n",
       "      <td>0.127031</td>\n",
       "      <td>1.227445</td>\n",
       "      <td>0.051471</td>\n",
       "      <td>0.073664</td>\n",
       "      <td>...</td>\n",
       "      <td>115.548</td>\n",
       "      <td>508.225</td>\n",
       "      <td>2567</td>\n",
       "      <td>2424</td>\n",
       "      <td>0.003121</td>\n",
       "      <td>0.000714</td>\n",
       "      <td>0.42685</td>\n",
       "      <td>44.0</td>\n",
       "      <td>0.44646</td>\n",
       "      <td>0</td>\n",
       "    </tr>\n",
       "    <tr>\n",
       "      <th>4</th>\n",
       "      <td>B1APGANRET55F170320171104.wav</td>\n",
       "      <td>0.020658</td>\n",
       "      <td>0.000090</td>\n",
       "      <td>0.010893</td>\n",
       "      <td>0.010895</td>\n",
       "      <td>0.032678</td>\n",
       "      <td>0.196675</td>\n",
       "      <td>1.350282</td>\n",
       "      <td>0.096671</td>\n",
       "      <td>0.109729</td>\n",
       "      <td>...</td>\n",
       "      <td>84.063</td>\n",
       "      <td>527.074</td>\n",
       "      <td>5647</td>\n",
       "      <td>5366</td>\n",
       "      <td>0.004170</td>\n",
       "      <td>0.001960</td>\n",
       "      <td>0.26152</td>\n",
       "      <td>46.0</td>\n",
       "      <td>0.42950</td>\n",
       "      <td>0</td>\n",
       "    </tr>\n",
       "  </tbody>\n",
       "</table>\n",
       "<p>5 rows × 28 columns</p>\n",
       "</div>"
      ],
      "text/plain": [
       "                         voiceID  localJitter  localabsoluteJitter  rapJitter  \\\n",
       "0  B1ACNAGRER49F210320170916.wav     0.027563             0.000073   0.011999   \n",
       "1  B1ACNUTCOC40M230320171121.wav     0.023413             0.000063   0.010166   \n",
       "2  B1AGNIGNEE54F230320171018.wav     0.022856             0.000064   0.010395   \n",
       "3  B1AMULCAAS94M100120171016.wav     0.034014             0.000104   0.015382   \n",
       "4  B1APGANRET55F170320171104.wav     0.020658             0.000090   0.010893   \n",
       "\n",
       "   ppq5Jitter  ddpJitter  localShimmer  localdbShimmer  apq3Shimmer  \\\n",
       "0    0.014552   0.035996      0.127578        1.202943     0.052486   \n",
       "1    0.012283   0.030497      0.120930        1.152869     0.045974   \n",
       "2    0.011400   0.031185      0.119258        1.096128     0.048339   \n",
       "3    0.017247   0.046147      0.127031        1.227445     0.051471   \n",
       "4    0.010895   0.032678      0.196675        1.350282     0.096671   \n",
       "\n",
       "   aqpq5Shimmer  ...  min_pitch  max_pitch  n_pulses  n_periods  mean_period  \\\n",
       "0      0.075037  ...    137.442    527.547      3709       3556     0.002634   \n",
       "1      0.069131  ...    214.902    522.564      4242       4085     0.002732   \n",
       "2      0.069816  ...    223.186    526.174      4394       4233     0.002763   \n",
       "3      0.073664  ...    115.548    508.225      2567       2424     0.003121   \n",
       "4      0.109729  ...     84.063    527.074      5647       5366     0.004170   \n",
       "\n",
       "   standard_deviation_period  fraction_unvoiced_frames  num_voice_breaks  \\\n",
       "0                   0.000563                   0.47395              47.0   \n",
       "1                   0.000518                   0.50100              49.0   \n",
       "2                   0.000576                   0.53607              43.0   \n",
       "3                   0.000714                   0.42685              44.0   \n",
       "4                   0.001960                   0.26152              46.0   \n",
       "\n",
       "   degree_voice_breaks  class  \n",
       "0              0.51332      0  \n",
       "1              0.54580      0  \n",
       "2              0.56002      0  \n",
       "3              0.44646      0  \n",
       "4              0.42950      0  \n",
       "\n",
       "[5 rows x 28 columns]"
      ]
     },
     "execution_count": 4,
     "metadata": {},
     "output_type": "execute_result"
    }
   ],
   "source": [
    "df.head()"
   ]
  },
  {
   "cell_type": "code",
   "execution_count": 5,
   "metadata": {},
   "outputs": [],
   "source": [
    "df=df.loc[:, df.columns !='voiceID']"
   ]
  },
  {
   "cell_type": "code",
   "execution_count": 5,
   "metadata": {},
   "outputs": [],
   "source": [
    "df1=pd.read_csv('Data/pd_it.csv')"
   ]
  },
  {
   "cell_type": "code",
   "execution_count": 6,
   "metadata": {},
   "outputs": [],
   "source": [
    "df1=pd.read_csv('Data/Srilanka.csv')\n",
    "df1=df1.loc[:, df1.columns !='Subject ID']\n",
    "df1.columns=df.columns"
   ]
  },
  {
   "cell_type": "code",
   "execution_count": 6,
   "metadata": {},
   "outputs": [],
   "source": [
    "df=pd.concat((df,df1))"
   ]
  },
  {
   "cell_type": "code",
   "execution_count": 17,
   "metadata": {},
   "outputs": [],
   "source": [
    "df=df.dropna()"
   ]
  },
  {
   "cell_type": "code",
   "execution_count": 18,
   "metadata": {},
   "outputs": [
    {
     "data": {
      "text/html": [
       "<div>\n",
       "<style scoped>\n",
       "    .dataframe tbody tr th:only-of-type {\n",
       "        vertical-align: middle;\n",
       "    }\n",
       "\n",
       "    .dataframe tbody tr th {\n",
       "        vertical-align: top;\n",
       "    }\n",
       "\n",
       "    .dataframe thead th {\n",
       "        text-align: right;\n",
       "    }\n",
       "</style>\n",
       "<table border=\"1\" class=\"dataframe\">\n",
       "  <thead>\n",
       "    <tr style=\"text-align: right;\">\n",
       "      <th></th>\n",
       "      <th>localJitter</th>\n",
       "      <th>localabsoluteJitter</th>\n",
       "      <th>rapJitter</th>\n",
       "      <th>ppq5Jitter</th>\n",
       "      <th>ddpJitter</th>\n",
       "      <th>localShimmer</th>\n",
       "      <th>localdbShimmer</th>\n",
       "      <th>apq3Shimmer</th>\n",
       "      <th>aqpq5Shimmer</th>\n",
       "      <th>apq11Shimmer</th>\n",
       "      <th>...</th>\n",
       "      <th>stdevF0</th>\n",
       "      <th>min_pitch</th>\n",
       "      <th>max_pitch</th>\n",
       "      <th>n_pulses</th>\n",
       "      <th>n_periods</th>\n",
       "      <th>mean_period</th>\n",
       "      <th>standard_deviation_period</th>\n",
       "      <th>fraction_unvoiced_frames</th>\n",
       "      <th>num_voice_breaks</th>\n",
       "      <th>degree_voice_breaks</th>\n",
       "    </tr>\n",
       "  </thead>\n",
       "  <tbody>\n",
       "    <tr>\n",
       "      <th>0</th>\n",
       "      <td>0.027563</td>\n",
       "      <td>0.000073</td>\n",
       "      <td>0.011999</td>\n",
       "      <td>0.014552</td>\n",
       "      <td>0.035996</td>\n",
       "      <td>0.127578</td>\n",
       "      <td>1.202943</td>\n",
       "      <td>0.052486</td>\n",
       "      <td>0.075037</td>\n",
       "      <td>0.128051</td>\n",
       "      <td>...</td>\n",
       "      <td>79.970543</td>\n",
       "      <td>137.442</td>\n",
       "      <td>527.547</td>\n",
       "      <td>3709</td>\n",
       "      <td>3556</td>\n",
       "      <td>0.002634</td>\n",
       "      <td>0.000563</td>\n",
       "      <td>0.47395</td>\n",
       "      <td>47.0</td>\n",
       "      <td>0.51332</td>\n",
       "    </tr>\n",
       "    <tr>\n",
       "      <th>1</th>\n",
       "      <td>0.023413</td>\n",
       "      <td>0.000063</td>\n",
       "      <td>0.010166</td>\n",
       "      <td>0.012283</td>\n",
       "      <td>0.030497</td>\n",
       "      <td>0.120930</td>\n",
       "      <td>1.152869</td>\n",
       "      <td>0.045974</td>\n",
       "      <td>0.069131</td>\n",
       "      <td>0.125031</td>\n",
       "      <td>...</td>\n",
       "      <td>66.181343</td>\n",
       "      <td>214.902</td>\n",
       "      <td>522.564</td>\n",
       "      <td>4242</td>\n",
       "      <td>4085</td>\n",
       "      <td>0.002732</td>\n",
       "      <td>0.000518</td>\n",
       "      <td>0.50100</td>\n",
       "      <td>49.0</td>\n",
       "      <td>0.54580</td>\n",
       "    </tr>\n",
       "    <tr>\n",
       "      <th>2</th>\n",
       "      <td>0.022856</td>\n",
       "      <td>0.000064</td>\n",
       "      <td>0.010395</td>\n",
       "      <td>0.011400</td>\n",
       "      <td>0.031185</td>\n",
       "      <td>0.119258</td>\n",
       "      <td>1.096128</td>\n",
       "      <td>0.048339</td>\n",
       "      <td>0.069816</td>\n",
       "      <td>0.106198</td>\n",
       "      <td>...</td>\n",
       "      <td>81.283591</td>\n",
       "      <td>223.186</td>\n",
       "      <td>526.174</td>\n",
       "      <td>4394</td>\n",
       "      <td>4233</td>\n",
       "      <td>0.002763</td>\n",
       "      <td>0.000576</td>\n",
       "      <td>0.53607</td>\n",
       "      <td>43.0</td>\n",
       "      <td>0.56002</td>\n",
       "    </tr>\n",
       "    <tr>\n",
       "      <th>3</th>\n",
       "      <td>0.034014</td>\n",
       "      <td>0.000104</td>\n",
       "      <td>0.015382</td>\n",
       "      <td>0.017247</td>\n",
       "      <td>0.046147</td>\n",
       "      <td>0.127031</td>\n",
       "      <td>1.227445</td>\n",
       "      <td>0.051471</td>\n",
       "      <td>0.073664</td>\n",
       "      <td>0.143142</td>\n",
       "      <td>...</td>\n",
       "      <td>62.581340</td>\n",
       "      <td>115.548</td>\n",
       "      <td>508.225</td>\n",
       "      <td>2567</td>\n",
       "      <td>2424</td>\n",
       "      <td>0.003121</td>\n",
       "      <td>0.000714</td>\n",
       "      <td>0.42685</td>\n",
       "      <td>44.0</td>\n",
       "      <td>0.44646</td>\n",
       "    </tr>\n",
       "    <tr>\n",
       "      <th>4</th>\n",
       "      <td>0.020658</td>\n",
       "      <td>0.000090</td>\n",
       "      <td>0.010893</td>\n",
       "      <td>0.010895</td>\n",
       "      <td>0.032678</td>\n",
       "      <td>0.196675</td>\n",
       "      <td>1.350282</td>\n",
       "      <td>0.096671</td>\n",
       "      <td>0.109729</td>\n",
       "      <td>0.089241</td>\n",
       "      <td>...</td>\n",
       "      <td>121.019897</td>\n",
       "      <td>84.063</td>\n",
       "      <td>527.074</td>\n",
       "      <td>5647</td>\n",
       "      <td>5366</td>\n",
       "      <td>0.004170</td>\n",
       "      <td>0.001960</td>\n",
       "      <td>0.26152</td>\n",
       "      <td>46.0</td>\n",
       "      <td>0.42950</td>\n",
       "    </tr>\n",
       "    <tr>\n",
       "      <th>...</th>\n",
       "      <td>...</td>\n",
       "      <td>...</td>\n",
       "      <td>...</td>\n",
       "      <td>...</td>\n",
       "      <td>...</td>\n",
       "      <td>...</td>\n",
       "      <td>...</td>\n",
       "      <td>...</td>\n",
       "      <td>...</td>\n",
       "      <td>...</td>\n",
       "      <td>...</td>\n",
       "      <td>...</td>\n",
       "      <td>...</td>\n",
       "      <td>...</td>\n",
       "      <td>...</td>\n",
       "      <td>...</td>\n",
       "      <td>...</td>\n",
       "      <td>...</td>\n",
       "      <td>...</td>\n",
       "      <td>...</td>\n",
       "      <td>...</td>\n",
       "    </tr>\n",
       "    <tr>\n",
       "      <th>432</th>\n",
       "      <td>0.003732</td>\n",
       "      <td>0.000022</td>\n",
       "      <td>0.002014</td>\n",
       "      <td>0.002061</td>\n",
       "      <td>0.006042</td>\n",
       "      <td>0.022310</td>\n",
       "      <td>0.192040</td>\n",
       "      <td>0.011445</td>\n",
       "      <td>0.012812</td>\n",
       "      <td>0.016640</td>\n",
       "      <td>...</td>\n",
       "      <td>2.123320</td>\n",
       "      <td>163.334</td>\n",
       "      <td>183.920</td>\n",
       "      <td>919</td>\n",
       "      <td>918</td>\n",
       "      <td>0.005937</td>\n",
       "      <td>0.000076</td>\n",
       "      <td>0.15871</td>\n",
       "      <td>0.0</td>\n",
       "      <td>0.00000</td>\n",
       "    </tr>\n",
       "    <tr>\n",
       "      <th>433</th>\n",
       "      <td>0.001447</td>\n",
       "      <td>0.000004</td>\n",
       "      <td>0.000721</td>\n",
       "      <td>0.000872</td>\n",
       "      <td>0.002164</td>\n",
       "      <td>0.011706</td>\n",
       "      <td>0.100186</td>\n",
       "      <td>0.006535</td>\n",
       "      <td>0.007289</td>\n",
       "      <td>0.008502</td>\n",
       "      <td>...</td>\n",
       "      <td>3.177220</td>\n",
       "      <td>394.705</td>\n",
       "      <td>412.633</td>\n",
       "      <td>841</td>\n",
       "      <td>840</td>\n",
       "      <td>0.002501</td>\n",
       "      <td>0.000020</td>\n",
       "      <td>0.00000</td>\n",
       "      <td>0.0</td>\n",
       "      <td>0.00000</td>\n",
       "    </tr>\n",
       "    <tr>\n",
       "      <th>434</th>\n",
       "      <td>0.004921</td>\n",
       "      <td>0.000012</td>\n",
       "      <td>0.002695</td>\n",
       "      <td>0.002887</td>\n",
       "      <td>0.008086</td>\n",
       "      <td>0.020926</td>\n",
       "      <td>0.173922</td>\n",
       "      <td>0.011309</td>\n",
       "      <td>0.012486</td>\n",
       "      <td>0.017906</td>\n",
       "      <td>...</td>\n",
       "      <td>3.297544</td>\n",
       "      <td>400.345</td>\n",
       "      <td>416.263</td>\n",
       "      <td>877</td>\n",
       "      <td>876</td>\n",
       "      <td>0.002446</td>\n",
       "      <td>0.000024</td>\n",
       "      <td>0.00000</td>\n",
       "      <td>0.0</td>\n",
       "      <td>0.00000</td>\n",
       "    </tr>\n",
       "    <tr>\n",
       "      <th>435</th>\n",
       "      <td>0.001815</td>\n",
       "      <td>0.000009</td>\n",
       "      <td>0.000882</td>\n",
       "      <td>0.000886</td>\n",
       "      <td>0.002647</td>\n",
       "      <td>0.009250</td>\n",
       "      <td>0.085882</td>\n",
       "      <td>0.002700</td>\n",
       "      <td>0.003594</td>\n",
       "      <td>0.008378</td>\n",
       "      <td>...</td>\n",
       "      <td>3.430511</td>\n",
       "      <td>187.229</td>\n",
       "      <td>218.339</td>\n",
       "      <td>1145</td>\n",
       "      <td>1144</td>\n",
       "      <td>0.004748</td>\n",
       "      <td>0.000080</td>\n",
       "      <td>0.15920</td>\n",
       "      <td>0.0</td>\n",
       "      <td>0.00000</td>\n",
       "    </tr>\n",
       "    <tr>\n",
       "      <th>436</th>\n",
       "      <td>0.002579</td>\n",
       "      <td>0.000007</td>\n",
       "      <td>0.001116</td>\n",
       "      <td>0.001458</td>\n",
       "      <td>0.003349</td>\n",
       "      <td>0.017543</td>\n",
       "      <td>0.157130</td>\n",
       "      <td>0.007715</td>\n",
       "      <td>0.011420</td>\n",
       "      <td>0.018161</td>\n",
       "      <td>...</td>\n",
       "      <td>122.204097</td>\n",
       "      <td>219.181</td>\n",
       "      <td>528.350</td>\n",
       "      <td>831</td>\n",
       "      <td>829</td>\n",
       "      <td>0.002638</td>\n",
       "      <td>0.000922</td>\n",
       "      <td>0.00000</td>\n",
       "      <td>0.0</td>\n",
       "      <td>0.00000</td>\n",
       "    </tr>\n",
       "  </tbody>\n",
       "</table>\n",
       "<p>828 rows × 26 columns</p>\n",
       "</div>"
      ],
      "text/plain": [
       "     localJitter  localabsoluteJitter  rapJitter  ppq5Jitter  ddpJitter  \\\n",
       "0       0.027563             0.000073   0.011999    0.014552   0.035996   \n",
       "1       0.023413             0.000063   0.010166    0.012283   0.030497   \n",
       "2       0.022856             0.000064   0.010395    0.011400   0.031185   \n",
       "3       0.034014             0.000104   0.015382    0.017247   0.046147   \n",
       "4       0.020658             0.000090   0.010893    0.010895   0.032678   \n",
       "..           ...                  ...        ...         ...        ...   \n",
       "432     0.003732             0.000022   0.002014    0.002061   0.006042   \n",
       "433     0.001447             0.000004   0.000721    0.000872   0.002164   \n",
       "434     0.004921             0.000012   0.002695    0.002887   0.008086   \n",
       "435     0.001815             0.000009   0.000882    0.000886   0.002647   \n",
       "436     0.002579             0.000007   0.001116    0.001458   0.003349   \n",
       "\n",
       "     localShimmer  localdbShimmer  apq3Shimmer  aqpq5Shimmer  apq11Shimmer  \\\n",
       "0        0.127578        1.202943     0.052486      0.075037      0.128051   \n",
       "1        0.120930        1.152869     0.045974      0.069131      0.125031   \n",
       "2        0.119258        1.096128     0.048339      0.069816      0.106198   \n",
       "3        0.127031        1.227445     0.051471      0.073664      0.143142   \n",
       "4        0.196675        1.350282     0.096671      0.109729      0.089241   \n",
       "..            ...             ...          ...           ...           ...   \n",
       "432      0.022310        0.192040     0.011445      0.012812      0.016640   \n",
       "433      0.011706        0.100186     0.006535      0.007289      0.008502   \n",
       "434      0.020926        0.173922     0.011309      0.012486      0.017906   \n",
       "435      0.009250        0.085882     0.002700      0.003594      0.008378   \n",
       "436      0.017543        0.157130     0.007715      0.011420      0.018161   \n",
       "\n",
       "     ...     stdevF0  min_pitch  max_pitch  n_pulses  n_periods  mean_period  \\\n",
       "0    ...   79.970543    137.442    527.547      3709       3556     0.002634   \n",
       "1    ...   66.181343    214.902    522.564      4242       4085     0.002732   \n",
       "2    ...   81.283591    223.186    526.174      4394       4233     0.002763   \n",
       "3    ...   62.581340    115.548    508.225      2567       2424     0.003121   \n",
       "4    ...  121.019897     84.063    527.074      5647       5366     0.004170   \n",
       "..   ...         ...        ...        ...       ...        ...          ...   \n",
       "432  ...    2.123320    163.334    183.920       919        918     0.005937   \n",
       "433  ...    3.177220    394.705    412.633       841        840     0.002501   \n",
       "434  ...    3.297544    400.345    416.263       877        876     0.002446   \n",
       "435  ...    3.430511    187.229    218.339      1145       1144     0.004748   \n",
       "436  ...  122.204097    219.181    528.350       831        829     0.002638   \n",
       "\n",
       "     standard_deviation_period  fraction_unvoiced_frames  num_voice_breaks  \\\n",
       "0                     0.000563                   0.47395              47.0   \n",
       "1                     0.000518                   0.50100              49.0   \n",
       "2                     0.000576                   0.53607              43.0   \n",
       "3                     0.000714                   0.42685              44.0   \n",
       "4                     0.001960                   0.26152              46.0   \n",
       "..                         ...                       ...               ...   \n",
       "432                   0.000076                   0.15871               0.0   \n",
       "433                   0.000020                   0.00000               0.0   \n",
       "434                   0.000024                   0.00000               0.0   \n",
       "435                   0.000080                   0.15920               0.0   \n",
       "436                   0.000922                   0.00000               0.0   \n",
       "\n",
       "     degree_voice_breaks  \n",
       "0                0.51332  \n",
       "1                0.54580  \n",
       "2                0.56002  \n",
       "3                0.44646  \n",
       "4                0.42950  \n",
       "..                   ...  \n",
       "432              0.00000  \n",
       "433              0.00000  \n",
       "434              0.00000  \n",
       "435              0.00000  \n",
       "436              0.00000  \n",
       "\n",
       "[828 rows x 26 columns]"
      ]
     },
     "execution_count": 18,
     "metadata": {},
     "output_type": "execute_result"
    }
   ],
   "source": [
    "X=df.loc[:, df.columns !='class']\n",
    "X=X.loc[:, X.columns !='voiceID']\n",
    "X"
   ]
  },
  {
   "cell_type": "code",
   "execution_count": 19,
   "metadata": {},
   "outputs": [
    {
     "data": {
      "text/plain": [
       "Counter({0: 393, 1: 435})"
      ]
     },
     "execution_count": 19,
     "metadata": {},
     "output_type": "execute_result"
    }
   ],
   "source": [
    "from collections import Counter\n",
    "Y=df['class']\n",
    "Counter(Y)"
   ]
  },
  {
   "cell_type": "markdown",
   "metadata": {},
   "source": [
    "### Correlation Matrix"
   ]
  },
  {
   "cell_type": "code",
   "execution_count": 18,
   "metadata": {},
   "outputs": [
    {
     "data": {
      "image/png": "[encoded data removed]",
      "text/plain": [
       "<Figure size 432x288 with 2 Axes>"
      ]
     },
     "metadata": {
      "needs_background": "light"
     },
     "output_type": "display_data"
    }
   ],
   "source": [
    "%matplotlib inline\n",
    "ax = sns.heatmap(X.corr())"
   ]
  },
  {
   "cell_type": "markdown",
   "metadata": {},
   "source": [
    "### Highly correlated columns"
   ]
  },
  {
   "cell_type": "code",
   "execution_count": 19,
   "metadata": {},
   "outputs": [
    {
     "name": "stdout",
     "output_type": "stream",
     "text": [
      "localJitter ppq5Jitter 0.9754946861594324\n",
      "rapJitter ppq5Jitter 0.9797827766341928\n",
      "localShimmer aqpq5Shimmer 0.9826926160240672\n",
      "apq3Shimmer aqpq5Shimmer 0.9713134524256306\n",
      "apq3Shimmer ddaShimmer 0.9999999275203098\n",
      "aqpq5Shimmer ddaShimmer 0.9713127688794209\n",
      "median_pitch meanF0 0.9822992164512372\n",
      "n_pulses n_periods 0.9999950488423531\n"
     ]
    }
   ],
   "source": [
    "corr=np.array(X.corr())\n",
    "for i in range(26):\n",
    "    for j in range(i+1,26):\n",
    "        if(corr[i][j]>0.97):\n",
    "            print(X.columns[i],X.columns[j],corr[i][j])"
   ]
  },
  {
   "cell_type": "code",
   "execution_count": 20,
   "metadata": {},
   "outputs": [
    {
     "data": {
      "text/plain": [
       "array([['0.011', 'rapJitter'],\n",
       "       ['0.02', 'ppq5Jitter'],\n",
       "       ['0.027', 'ddpJitter'],\n",
       "       ['0.03', 'fraction_unvoiced_frames'],\n",
       "       ['0.031', 'standard_deviation_period'],\n",
       "       ['0.033', 'num_voice_breaks'],\n",
       "       ['0.038', 'degree_voice_breaks'],\n",
       "       ['0.043', 'n_periods'],\n",
       "       ['0.043', 'n_pulses'],\n",
       "       ['0.048', 'localJitter'],\n",
       "       ['0.098', 'localabsoluteJitter'],\n",
       "       ['0.124', 'nth'],\n",
       "       ['0.183', 'ac'],\n",
       "       ['0.241', 'stdevF0'],\n",
       "       ['0.258', 'min_pitch'],\n",
       "       ['0.334', 'localdbShimmer'],\n",
       "       ['0.338', 'apq3Shimmer'],\n",
       "       ['0.338', 'ddaShimmer'],\n",
       "       ['0.338', 'localShimmer'],\n",
       "       ['0.349', 'aqpq5Shimmer'],\n",
       "       ['0.354', 'apq11Shimmer'],\n",
       "       ['0.362', 'htn'],\n",
       "       ['0.409', 'median_pitch'],\n",
       "       ['0.427', 'meanF0'],\n",
       "       ['0.429', 'mean_period'],\n",
       "       ['0.441', 'max_pitch']], dtype='<U32')"
      ]
     },
     "execution_count": 20,
     "metadata": {},
     "output_type": "execute_result"
    }
   ],
   "source": [
    "relation=df.corr()['class']\n",
    "rel=[[round(abs(relation[i]),3),df.columns[i]] for i in range(26)]\n",
    "rel.sort(reverse=False)\n",
    "rel=np.array(rel)\n",
    "rel"
   ]
  },
  {
   "cell_type": "code",
   "execution_count": 21,
   "metadata": {},
   "outputs": [
    {
     "data": {
      "image/png": "[encoded data removed]",
      "text/plain": [
       "<Figure size 2400x800 with 1 Axes>"
      ]
     },
     "metadata": {},
     "output_type": "display_data"
    }
   ],
   "source": [
    "from matplotlib.pyplot import figure\n",
    "figure(num=None, figsize=(30, 10), dpi=80, facecolor='w', edgecolor='k')\n",
    "plt.bar(rel[:,1],rel[:,0])\n",
    "plt.tight_layout()"
   ]
  },
  {
   "cell_type": "markdown",
   "metadata": {},
   "source": [
    "### Feature importance"
   ]
  },
  {
   "cell_type": "code",
   "execution_count": 22,
   "metadata": {},
   "outputs": [
    {
     "data": {
      "image/png": "[encoded data removed]",
      "text/plain": [
       "<Figure size 432x288 with 1 Axes>"
      ]
     },
     "metadata": {
      "needs_background": "light"
     },
     "output_type": "display_data"
    }
   ],
   "source": [
    "from sklearn.manifold import TSNE\n",
    "\n",
    "X_embedded = TSNE(n_components=2).fit_transform(X)\n",
    "for i, t in enumerate(set(Y)):\n",
    "    idx=Y==t\n",
    "    plt.scatter(X_embedded[idx, 0], X_embedded[idx, 1], label=t)   "
   ]
  },
  {
   "cell_type": "code",
   "execution_count": 23,
   "metadata": {},
   "outputs": [
    {
     "data": {
      "image/png": "[encoded data removed]",
      "text/plain": [
       "<Figure size 432x288 with 1 Axes>"
      ]
     },
     "metadata": {
      "needs_background": "light"
     },
     "output_type": "display_data"
    }
   ],
   "source": [
    "from sklearn import preprocessing\n",
    "\n",
    "min_max_scaler = preprocessing.MinMaxScaler()\n",
    "x_scaled = min_max_scaler.fit_transform(X)\n",
    "X_norm = pd.DataFrame(x_scaled)\n",
    "\n",
    "X_embedded = TSNE(n_components=2).fit_transform(X_norm)\n",
    "for i, t in enumerate(set(Y)):\n",
    "    idx=Y==t\n",
    "    plt.scatter(X_embedded[idx, 0], X_embedded[idx, 1], label=t)   "
   ]
  },
  {
   "cell_type": "code",
   "execution_count": 24,
   "metadata": {},
   "outputs": [
    {
     "name": "stdout",
     "output_type": "stream",
     "text": [
      "[ 3.9195027   4.2985673   0.9970556   5.100893    1.456171    4.56204\n",
      "  2.782117    4.620704    4.3223166   7.6603456   0.          2.4482694\n",
      "  2.2918382   2.866163    1.4223144  14.322122    0.95569295  0.5936456\n",
      "  9.22137     2.7104254   4.2120314   4.559046    1.9275446  10.217017\n",
      "  1.457705    1.0750936 ]\n"
     ]
    }
   ],
   "source": [
    "from xgboost import XGBClassifier\n",
    "from matplotlib import pyplot\n",
    "\n",
    "model = XGBClassifier()\n",
    "model.fit(X, Y)\n",
    "imp=model.feature_importances_*100\n",
    "print(imp)"
   ]
  },
  {
   "cell_type": "code",
   "execution_count": 25,
   "metadata": {},
   "outputs": [
    {
     "data": {
      "text/plain": [
       "array([['0.0', 'ddaShimmer'],\n",
       "       ['0.594', 'min_pitch'],\n",
       "       ['0.956', 'stdevF0'],\n",
       "       ['0.997', 'rapJitter'],\n",
       "       ['1.075', 'degree_voice_breaks'],\n",
       "       ['1.422', 'median_pitch'],\n",
       "       ['1.456', 'ddpJitter'],\n",
       "       ['1.458', 'num_voice_breaks'],\n",
       "       ['1.928', 'standard_deviation_period'],\n",
       "       ['2.292', 'nth'],\n",
       "       ['2.448', 'ac'],\n",
       "       ['2.71', 'n_pulses'],\n",
       "       ['2.782', 'localdbShimmer'],\n",
       "       ['2.866', 'htn'],\n",
       "       ['3.92', 'localJitter'],\n",
       "       ['4.212', 'n_periods'],\n",
       "       ['4.299', 'localabsoluteJitter'],\n",
       "       ['4.322', 'aqpq5Shimmer'],\n",
       "       ['4.559', 'mean_period'],\n",
       "       ['4.562', 'localShimmer'],\n",
       "       ['4.621', 'apq3Shimmer'],\n",
       "       ['5.101', 'ppq5Jitter'],\n",
       "       ['7.66', 'apq11Shimmer'],\n",
       "       ['9.221', 'max_pitch'],\n",
       "       ['10.217', 'fraction_unvoiced_frames'],\n",
       "       ['14.322', 'meanF0']], dtype='<U32')"
      ]
     },
     "execution_count": 25,
     "metadata": {},
     "output_type": "execute_result"
    }
   ],
   "source": [
    "rel=[[round(imp[i],3),X.columns[i]] for i in range(26)]\n",
    "rel.sort(reverse=False)\n",
    "rel=np.array(rel)\n",
    "rel"
   ]
  },
  {
   "cell_type": "code",
   "execution_count": 26,
   "metadata": {},
   "outputs": [
    {
     "data": {
      "text/plain": [
       "Index(['localJitter', 'localabsoluteJitter', 'rapJitter', 'ppq5Jitter',\n",
       "       'ddpJitter', 'localShimmer', 'localdbShimmer', 'apq3Shimmer',\n",
       "       'aqpq5Shimmer', 'apq11Shimmer', 'ddaShimmer', 'ac', 'nth', 'htn',\n",
       "       'median_pitch', 'meanF0', 'stdevF0', 'min_pitch', 'max_pitch',\n",
       "       'n_pulses', 'n_periods', 'mean_period', 'standard_deviation_period',\n",
       "       'fraction_unvoiced_frames', 'num_voice_breaks', 'degree_voice_breaks'],\n",
       "      dtype='object')"
      ]
     },
     "execution_count": 26,
     "metadata": {},
     "output_type": "execute_result"
    }
   ],
   "source": [
    "X.columns"
   ]
  },
  {
   "cell_type": "code",
   "execution_count": 27,
   "metadata": {},
   "outputs": [
    {
     "data": {
      "text/plain": [
       "Counter({0: 220, 1: 365})"
      ]
     },
     "execution_count": 27,
     "metadata": {},
     "output_type": "execute_result"
    }
   ],
   "source": [
    "from collections import Counter\n",
    "Y=df['class']\n",
    "Counter(Y)"
   ]
  },
  {
   "cell_type": "markdown",
   "metadata": {},
   "source": [
    "## Train and validate on train data"
   ]
  },
  {
   "cell_type": "code",
   "execution_count": 117,
   "metadata": {},
   "outputs": [],
   "source": [
    "from sklearn.model_selection import train_test_split\n",
    "X_train, X_test, y_train, y_test = train_test_split(X, Y, test_size=0.3, random_state=42)\n",
    "#X_train1, X_test1, y_train1, y_test1 = train_test_split(X_norm, Y, test_size=0.3, random_state=42)"
   ]
  },
  {
   "cell_type": "code",
   "execution_count": 10,
   "metadata": {},
   "outputs": [
    {
     "ename": "NameError",
     "evalue": "name 'X_norm' is not defined",
     "output_type": "error",
     "traceback": [
      "\u001b[1;31m---------------------------------------------------------------------------\u001b[0m",
      "\u001b[1;31mNameError\u001b[0m                                 Traceback (most recent call last)",
      "\u001b[1;32m<ipython-input-10-4d0652bb7550>\u001b[0m in \u001b[0;36m<module>\u001b[1;34m\u001b[0m\n\u001b[1;32m----> 1\u001b[1;33m \u001b[0mX_norm\u001b[0m\u001b[1;33m\u001b[0m\u001b[1;33m\u001b[0m\u001b[0m\n\u001b[0m",
      "\u001b[1;31mNameError\u001b[0m: name 'X_norm' is not defined"
     ]
    }
   ],
   "source": [
    "X_norm"
   ]
  },
  {
   "cell_type": "markdown",
   "metadata": {},
   "source": [
    "### Class weight vs Accuracy"
   ]
  },
  {
   "cell_type": "code",
   "execution_count": 118,
   "metadata": {},
   "outputs": [
    {
     "name": "stdout",
     "output_type": "stream",
     "text": [
      "[[107   9]\n",
      " [  9 124]] 0.2\n",
      "[[105  11]\n",
      " [ 10 123]] 0.30000000000000004\n",
      "[[107   9]\n",
      " [ 11 122]] 0.4\n",
      "[[105  11]\n",
      " [ 10 123]] 0.5\n",
      "[[107   9]\n",
      " [ 10 123]] 0.6\n",
      "[[104  12]\n",
      " [  7 126]] 0.7\n",
      "[[104  12]\n",
      " [  9 124]] 0.7999999999999999\n",
      "[[103  13]\n",
      " [  8 125]] 0.8999999999999999\n",
      "[[105  11]\n",
      " [  9 124]] 0.9999999999999999\n",
      "[[103  13]\n",
      " [ 10 123]] 1.0999999999999999\n",
      "[[104  12]\n",
      " [  7 126]] 1.2\n",
      "[[106  10]\n",
      " [ 10 123]] 1.3\n",
      "[[105  11]\n",
      " [ 10 123]] 1.4000000000000001\n",
      "[[103  13]\n",
      " [ 10 123]] 1.5000000000000002\n",
      "[[105  11]\n",
      " [ 10 123]] 1.6000000000000003\n",
      "[[104  12]\n",
      " [  9 124]] 1.7000000000000004\n",
      "[[104  12]\n",
      " [ 10 123]] 1.8000000000000005\n",
      "[[104  12]\n",
      " [ 10 123]] 1.9000000000000006\n",
      "[[105  11]\n",
      " [  8 125]] 2.0000000000000004\n",
      "[[105  11]\n",
      " [  7 126]] 2.1000000000000005\n",
      "[[105  11]\n",
      " [  6 127]] 2.2000000000000006\n",
      "[[105  11]\n",
      " [  6 127]] 2.3000000000000007\n",
      "[[105  11]\n",
      " [  7 126]] 2.400000000000001\n",
      "[[104  12]\n",
      " [  6 127]] 2.500000000000001\n",
      "[[106  10]\n",
      " [  6 127]] 2.600000000000001\n",
      "[[105  11]\n",
      " [  7 126]] 2.700000000000001\n",
      "[[106  10]\n",
      " [  7 126]] 2.800000000000001\n",
      "[[106  10]\n",
      " [  6 127]] 2.9000000000000012\n",
      "[[106  10]\n",
      " [  6 127]] 3.0000000000000013\n",
      "[[104  12]\n",
      " [  8 125]] 3.1000000000000014\n",
      "[[103  13]\n",
      " [  6 127]] 3.2000000000000015\n",
      "[[105  11]\n",
      " [  9 124]] 3.3000000000000016\n",
      "[[104  12]\n",
      " [  8 125]] 3.4000000000000017\n",
      "[[105  11]\n",
      " [  6 127]] 3.5000000000000018\n",
      "[[104  12]\n",
      " [  9 124]] 3.600000000000002\n",
      "[[105  11]\n",
      " [  9 124]] 3.700000000000002\n",
      "[[105  11]\n",
      " [  8 125]] 3.800000000000002\n",
      "[[103  13]\n",
      " [  9 124]] 3.900000000000002\n",
      "[[104  12]\n",
      " [  8 125]] 4.000000000000002\n",
      "[[105  11]\n",
      " [  8 125]] 4.100000000000001\n",
      "[[104  12]\n",
      " [  9 124]] 4.200000000000001\n",
      "[[104  12]\n",
      " [  9 124]] 4.300000000000001\n",
      "[[102  14]\n",
      " [  9 124]] 4.4\n",
      "[[102  14]\n",
      " [  8 125]] 4.5\n",
      "[[101  15]\n",
      " [  7 126]] 4.6\n",
      "[[101  15]\n",
      " [  6 127]] 4.699999999999999\n",
      "[[103  13]\n",
      " [  6 127]] 4.799999999999999\n",
      "[[103  13]\n",
      " [  9 124]] 4.899999999999999\n",
      "[[105  11]\n",
      " [ 10 123]] 4.999999999999998\n"
     ]
    }
   ],
   "source": [
    "w=0.2\n",
    "weight=[]\n",
    "train_acc=[]\n",
    "train_f1=[]\n",
    "test_acc=[]\n",
    "test_f1=[]\n",
    "while(w<5):\n",
    "    classifier = RandomForestClassifier(n_estimators=50, random_state=5,class_weight={0:w,1:1})\n",
    "    classifier.fit(X_train, y_train)\n",
    "    y_pred = classifier.predict(X_train)\n",
    "    train_acc.append(accuracy_score(y_train, y_pred))\n",
    "    train_f1.append(f1_score(y_train, y_pred))\n",
    "    y_pred = classifier.predict(X_test)\n",
    "    test_acc.append(accuracy_score(y_test, y_pred))\n",
    "    test_f1.append(f1_score(y_test, y_pred))\n",
    "    print(confusion_matrix(y_test,y_pred),w)\n",
    "    weight.append(w)\n",
    "    w+=0.1"
   ]
  },
  {
   "cell_type": "code",
   "execution_count": 73,
   "metadata": {},
   "outputs": [
    {
     "data": {
      "text/plain": [
       "0.2"
      ]
     },
     "execution_count": 73,
     "metadata": {},
     "output_type": "execute_result"
    }
   ],
   "source": [
    "weight[]"
   ]
  },
  {
   "cell_type": "code",
   "execution_count": 119,
   "metadata": {},
   "outputs": [
    {
     "data": {
      "image/png": "[encoded data removed]",
      "text/plain": [
       "<Figure size 432x288 with 1 Axes>"
      ]
     },
     "metadata": {
      "needs_background": "light"
     },
     "output_type": "display_data"
    }
   ],
   "source": [
    "plt.plot(weight,train_acc)\n",
    "plt.plot(weight,train_f1)\n",
    "plt.plot(weight,test_acc)\n",
    "plt.plot(weight,test_f1)\n",
    "plt.xticks(np.arange(0, 6, 0.3))\n",
    "plt.show()"
   ]
  },
  {
   "cell_type": "code",
   "execution_count": 120,
   "metadata": {},
   "outputs": [
    {
     "data": {
      "text/plain": [
       "[0.9323308270676691,\n",
       " 0.9213483146067416,\n",
       " 0.9242424242424241,\n",
       " 0.9213483146067416,\n",
       " 0.9283018867924527,\n",
       " 0.9298892988929889,\n",
       " 0.9219330855018587,\n",
       " 0.9225092250922509,\n",
       " 0.9253731343283582,\n",
       " 0.9144981412639406,\n",
       " 0.9298892988929889,\n",
       " 0.924812030075188,\n",
       " 0.9213483146067416,\n",
       " 0.9144981412639406,\n",
       " 0.9213483146067416,\n",
       " 0.9219330855018587,\n",
       " 0.917910447761194,\n",
       " 0.917910447761194,\n",
       " 0.929368029739777,\n",
       " 0.9333333333333333,\n",
       " 0.937269372693727,\n",
       " 0.937269372693727,\n",
       " 0.9333333333333333,\n",
       " 0.9338235294117647,\n",
       " 0.9407407407407407,\n",
       " 0.9333333333333333,\n",
       " 0.9368029739776952,\n",
       " 0.9407407407407407,\n",
       " 0.9407407407407407,\n",
       " 0.9259259259259258,\n",
       " 0.9304029304029303,\n",
       " 0.9253731343283582,\n",
       " 0.9259259259259258,\n",
       " 0.937269372693727,\n",
       " 0.9219330855018587,\n",
       " 0.9253731343283582,\n",
       " 0.929368029739777,\n",
       " 0.9185185185185184,\n",
       " 0.9259259259259258,\n",
       " 0.929368029739777,\n",
       " 0.9219330855018587,\n",
       " 0.9219330855018587,\n",
       " 0.9151291512915128,\n",
       " 0.9191176470588236,\n",
       " 0.9197080291970802,\n",
       " 0.9236363636363636,\n",
       " 0.9304029304029303,\n",
       " 0.9185185185185184,\n",
       " 0.9213483146067416]"
      ]
     },
     "execution_count": 120,
     "metadata": {},
     "output_type": "execute_result"
    }
   ],
   "source": [
    "test_f1"
   ]
  },
  {
   "cell_type": "markdown",
   "metadata": {},
   "source": [
    "### Train"
   ]
  },
  {
   "cell_type": "code",
   "execution_count": 113,
   "metadata": {},
   "outputs": [
    {
     "data": {
      "text/plain": [
       "RandomForestClassifier(bootstrap=True, ccp_alpha=0.0,\n",
       "                       class_weight={0: 1.9000000000000006, 1: 1},\n",
       "                       criterion='gini', max_depth=None, max_features='auto',\n",
       "                       max_leaf_nodes=None, max_samples=None,\n",
       "                       min_impurity_decrease=0.0, min_impurity_split=None,\n",
       "                       min_samples_leaf=1, min_samples_split=2,\n",
       "                       min_weight_fraction_leaf=0.0, n_estimators=50,\n",
       "                       n_jobs=None, oob_score=False, random_state=5, verbose=0,\n",
       "                       warm_start=False)"
      ]
     },
     "execution_count": 113,
     "metadata": {},
     "output_type": "execute_result"
    }
   ],
   "source": [
    "from sklearn.ensemble import RandomForestClassifier\n",
    "classifier = RandomForestClassifier(n_estimators=50, random_state=5,class_weight={0:1.9000000000000006,1:1})\n",
    "classifier.fit(X_train, y_train)"
   ]
  },
  {
   "cell_type": "code",
   "execution_count": 114,
   "metadata": {},
   "outputs": [
    {
     "name": "stdout",
     "output_type": "stream",
     "text": [
      "[[317   0]\n",
      " [  0 345]]\n",
      "              precision    recall  f1-score   support\n",
      "\n",
      "           0       1.00      1.00      1.00       317\n",
      "           1       1.00      1.00      1.00       345\n",
      "\n",
      "    accuracy                           1.00       662\n",
      "   macro avg       1.00      1.00      1.00       662\n",
      "weighted avg       1.00      1.00      1.00       662\n",
      "\n",
      "1.0\n",
      "1.0\n"
     ]
    }
   ],
   "source": [
    "y_pred = classifier.predict(X_train)\n",
    "from sklearn.metrics import classification_report, confusion_matrix, accuracy_score, f1_score\n",
    "print(confusion_matrix(y_train,y_pred))\n",
    "print(classification_report(y_train,y_pred))\n",
    "print(accuracy_score(y_train, y_pred))\n",
    "print(f1_score(y_train, y_pred))"
   ]
  },
  {
   "cell_type": "markdown",
   "metadata": {},
   "source": [
    "### Validation data"
   ]
  },
  {
   "cell_type": "code",
   "execution_count": 115,
   "metadata": {},
   "outputs": [
    {
     "data": {
      "text/plain": [
       "(166, 26)"
      ]
     },
     "execution_count": 115,
     "metadata": {},
     "output_type": "execute_result"
    }
   ],
   "source": [
    "X_test.shape"
   ]
  },
  {
   "cell_type": "code",
   "execution_count": 116,
   "metadata": {},
   "outputs": [
    {
     "name": "stdout",
     "output_type": "stream",
     "text": [
      "[[71  5]\n",
      " [ 6 84]]\n",
      "              precision    recall  f1-score   support\n",
      "\n",
      "           0       0.92      0.93      0.93        76\n",
      "           1       0.94      0.93      0.94        90\n",
      "\n",
      "    accuracy                           0.93       166\n",
      "   macro avg       0.93      0.93      0.93       166\n",
      "weighted avg       0.93      0.93      0.93       166\n",
      "\n",
      "0.9337349397590361\n",
      "0.9385474860335196\n"
     ]
    }
   ],
   "source": [
    "y_pred = classifier.predict(X_test)\n",
    "print(confusion_matrix(y_test,y_pred))\n",
    "print(classification_report(y_test,y_pred))\n",
    "print(accuracy_score(y_test, y_pred))\n",
    "print(f1_score(y_test, y_pred))"
   ]
  },
  {
   "cell_type": "code",
   "execution_count": 108,
   "metadata": {},
   "outputs": [
    {
     "data": {
      "text/plain": [
       "['./random_forest.joblib']"
      ]
     },
     "execution_count": 108,
     "metadata": {},
     "output_type": "execute_result"
    }
   ],
   "source": [
    "import joblib\n",
    "joblib.dump(classifier, \"./random_forest.joblib\")"
   ]
  },
  {
   "cell_type": "markdown",
   "metadata": {},
   "source": [
    "### XGBoost"
   ]
  },
  {
   "cell_type": "code",
   "execution_count": 50,
   "metadata": {},
   "outputs": [
    {
     "data": {
      "text/plain": [
       "77     0\n",
       "436    1\n",
       "211    0\n",
       "192    0\n",
       "450    1\n",
       "      ..\n",
       "71     0\n",
       "106    0\n",
       "270    1\n",
       "435    1\n",
       "102    0\n",
       "Name: class, Length: 468, dtype: int64"
      ]
     },
     "execution_count": 50,
     "metadata": {},
     "output_type": "execute_result"
    }
   ],
   "source": [
    "y_train"
   ]
  },
  {
   "cell_type": "code",
   "execution_count": 53,
   "metadata": {},
   "outputs": [],
   "source": [
    "w=0.2\n",
    "weight=[]\n",
    "train_acc=[]\n",
    "train_f1=[]\n",
    "test_acc=[]\n",
    "test_f1=[]\n",
    "while(w<5):\n",
    "    model = XGBClassifier(class_weight={0:w,1:1})\n",
    "    model.fit(X_train, y_train)  \n",
    "    y_pred = model.predict(X_train)\n",
    "    train_acc.append(accuracy_score(y_train, y_pred))\n",
    "    train_f1.append(f1_score(y_train, y_pred))\n",
    "    y_pred = model.predict(X_test)\n",
    "    test_acc.append(accuracy_score(y_test, y_pred))\n",
    "    test_f1.append(f1_score(y_test, y_pred))\n",
    "    weight.append(w)\n",
    "    w+=0.1"
   ]
  },
  {
   "cell_type": "code",
   "execution_count": 54,
   "metadata": {},
   "outputs": [
    {
     "data": {
      "text/plain": [
       "[<matplotlib.lines.Line2D at 0x243af305a20>]"
      ]
     },
     "execution_count": 54,
     "metadata": {},
     "output_type": "execute_result"
    },
    {
     "data": {
      "image/png": "[encoded data removed]",
      "text/plain": [
       "<Figure size 432x288 with 1 Axes>"
      ]
     },
     "metadata": {
      "needs_background": "light"
     },
     "output_type": "display_data"
    }
   ],
   "source": [
    "plt.plot(weight,train_acc)\n",
    "plt.plot(weight,train_f1)\n",
    "plt.plot(weight,test_acc)\n",
    "plt.plot(weight,test_f1)"
   ]
  },
  {
   "cell_type": "code",
   "execution_count": 58,
   "metadata": {},
   "outputs": [
    {
     "data": {
      "text/plain": [
       "XGBClassifier(base_score=0.5, booster='gbtree', class_weight={0: 1.2, 1: 1},\n",
       "              colsample_bylevel=1, colsample_bynode=1, colsample_bytree=1,\n",
       "              gamma=0, learning_rate=0.1, max_delta_step=0, max_depth=3,\n",
       "              min_child_weight=1, missing=None, n_estimators=100, n_jobs=1,\n",
       "              nthread=None, objective='binary:logistic', random_state=0,\n",
       "              reg_alpha=0, reg_lambda=1, scale_pos_weight=1, seed=None,\n",
       "              silent=None, subsample=1, verbosity=1)"
      ]
     },
     "execution_count": 58,
     "metadata": {},
     "output_type": "execute_result"
    }
   ],
   "source": [
    "from xgboost import XGBClassifier\n",
    "from matplotlib import pyplot\n",
    "\n",
    "model = XGBClassifier(class_weight={0:1.2,1:1})\n",
    "model.fit(X_train, y_train)"
   ]
  },
  {
   "cell_type": "code",
   "execution_count": 59,
   "metadata": {},
   "outputs": [
    {
     "name": "stdout",
     "output_type": "stream",
     "text": [
      "[[172   0]\n",
      " [  0 296]]\n",
      "              precision    recall  f1-score   support\n",
      "\n",
      "           0       1.00      1.00      1.00       172\n",
      "           1       1.00      1.00      1.00       296\n",
      "\n",
      "    accuracy                           1.00       468\n",
      "   macro avg       1.00      1.00      1.00       468\n",
      "weighted avg       1.00      1.00      1.00       468\n",
      "\n",
      "1.0\n"
     ]
    }
   ],
   "source": [
    "y_pred = model.predict(X_train)\n",
    "from sklearn.metrics import classification_report, confusion_matrix, accuracy_score\n",
    "print(confusion_matrix(y_train,y_pred))\n",
    "print(classification_report(y_train,y_pred))\n",
    "print(accuracy_score(y_train, y_pred))"
   ]
  },
  {
   "cell_type": "code",
   "execution_count": 60,
   "metadata": {},
   "outputs": [
    {
     "name": "stdout",
     "output_type": "stream",
     "text": [
      "[[44  4]\n",
      " [ 5 64]]\n",
      "              precision    recall  f1-score   support\n",
      "\n",
      "           0       0.90      0.92      0.91        48\n",
      "           1       0.94      0.93      0.93        69\n",
      "\n",
      "    accuracy                           0.92       117\n",
      "   macro avg       0.92      0.92      0.92       117\n",
      "weighted avg       0.92      0.92      0.92       117\n",
      "\n",
      "0.9230769230769231\n"
     ]
    }
   ],
   "source": [
    "y_pred = model.predict(X_test)\n",
    "from sklearn.metrics import classification_report, confusion_matrix, accuracy_score\n",
    "print(confusion_matrix(y_test,y_pred))\n",
    "print(classification_report(y_test,y_pred))\n",
    "print(accuracy_score(y_test, y_pred))"
   ]
  },
  {
   "cell_type": "markdown",
   "metadata": {},
   "source": [
    "### Neural Network"
   ]
  },
  {
   "cell_type": "code",
   "execution_count": 61,
   "metadata": {},
   "outputs": [],
   "source": [
    "import tensorflow as tf\n",
    "from tensorflow import keras\n",
    "from tensorflow.keras import layers\n",
    "from tensorflow.python.framework import ops\n",
    "ops.reset_default_graph()"
   ]
  },
  {
   "cell_type": "code",
   "execution_count": null,
   "metadata": {},
   "outputs": [],
   "source": []
  },
  {
   "cell_type": "code",
   "execution_count": 105,
   "metadata": {},
   "outputs": [],
   "source": [
    "model = tf.keras.Sequential()\n",
    "model.add(layers.Dense(12, input_dim=26, activation='relu'))\n",
    "model.add(layers.Dense(6, activation='relu'))\n",
    "model.add(layers.Dense(1, activation='sigmoid'))"
   ]
  },
  {
   "cell_type": "code",
   "execution_count": 106,
   "metadata": {},
   "outputs": [],
   "source": [
    "model.compile(loss='binary_crossentropy', optimizer='adam', metrics=['accuracy'])\n"
   ]
  },
  {
   "cell_type": "code",
   "execution_count": 107,
   "metadata": {},
   "outputs": [
    {
     "name": "stdout",
     "output_type": "stream",
     "text": [
      "Epoch 1/300\n",
      "15/15 [==============================] - 0s 798us/step - loss: 8.8357 - accuracy: 0.5427\n",
      "Epoch 2/300\n",
      "15/15 [==============================] - 0s 931us/step - loss: 3.2093 - accuracy: 0.5385\n",
      "Epoch 3/300\n",
      "15/15 [==============================] - 0s 864us/step - loss: 1.9887 - accuracy: 0.5150\n",
      "Epoch 4/300\n",
      "15/15 [==============================] - 0s 931us/step - loss: 1.4364 - accuracy: 0.5321\n",
      "Epoch 5/300\n",
      "15/15 [==============================] - 0s 887us/step - loss: 1.1244 - accuracy: 0.6111\n",
      "Epoch 6/300\n",
      "15/15 [==============================] - 0s 1ms/step - loss: 1.1102 - accuracy: 0.6282\n",
      "Epoch 7/300\n",
      "15/15 [==============================] - 0s 864us/step - loss: 0.9662 - accuracy: 0.6474\n",
      "Epoch 8/300\n",
      "15/15 [==============================] - 0s 780us/step - loss: 0.9004 - accuracy: 0.6560\n",
      "Epoch 9/300\n",
      "15/15 [==============================] - 0s 864us/step - loss: 0.8488 - accuracy: 0.6624\n",
      "Epoch 10/300\n",
      "15/15 [==============================] - 0s 762us/step - loss: 0.8308 - accuracy: 0.6624\n",
      "Epoch 11/300\n",
      "15/15 [==============================] - 0s 797us/step - loss: 0.8003 - accuracy: 0.6709\n",
      "Epoch 12/300\n",
      "15/15 [==============================] - 0s 997us/step - loss: 0.8524 - accuracy: 0.6517\n",
      "Epoch 13/300\n",
      "15/15 [==============================] - 0s 797us/step - loss: 0.9272 - accuracy: 0.6432\n",
      "Epoch 14/300\n",
      "15/15 [==============================] - 0s 798us/step - loss: 0.8582 - accuracy: 0.6496\n",
      "Epoch 15/300\n",
      "15/15 [==============================] - 0s 797us/step - loss: 0.7355 - accuracy: 0.6966\n",
      "Epoch 16/300\n",
      "15/15 [==============================] - 0s 798us/step - loss: 0.6988 - accuracy: 0.6966\n",
      "Epoch 17/300\n",
      "15/15 [==============================] - 0s 997us/step - loss: 0.6862 - accuracy: 0.7073\n",
      "Epoch 18/300\n",
      "15/15 [==============================] - 0s 931us/step - loss: 0.7328 - accuracy: 0.6731\n",
      "Epoch 19/300\n",
      "15/15 [==============================] - 0s 997us/step - loss: 0.6856 - accuracy: 0.6944\n",
      "Epoch 20/300\n",
      "15/15 [==============================] - 0s 798us/step - loss: 0.6442 - accuracy: 0.7179\n",
      "Epoch 21/300\n",
      "15/15 [==============================] - 0s 864us/step - loss: 0.6735 - accuracy: 0.6987\n",
      "Epoch 22/300\n",
      "15/15 [==============================] - 0s 928us/step - loss: 0.6270 - accuracy: 0.7051\n",
      "Epoch 23/300\n",
      "15/15 [==============================] - 0s 797us/step - loss: 0.6284 - accuracy: 0.7030\n",
      "Epoch 24/300\n",
      "15/15 [==============================] - 0s 929us/step - loss: 0.6040 - accuracy: 0.7350\n",
      "Epoch 25/300\n",
      "15/15 [==============================] - 0s 1ms/step - loss: 0.6362 - accuracy: 0.7137\n",
      "Epoch 26/300\n",
      "15/15 [==============================] - 0s 864us/step - loss: 0.6181 - accuracy: 0.7030\n",
      "Epoch 27/300\n",
      "15/15 [==============================] - 0s 798us/step - loss: 0.6204 - accuracy: 0.7009\n",
      "Epoch 28/300\n",
      "15/15 [==============================] - 0s 931us/step - loss: 0.5623 - accuracy: 0.7179\n",
      "Epoch 29/300\n",
      "15/15 [==============================] - 0s 862us/step - loss: 0.5570 - accuracy: 0.7393\n",
      "Epoch 30/300\n",
      "15/15 [==============================] - 0s 732us/step - loss: 0.5923 - accuracy: 0.7179\n",
      "Epoch 31/300\n",
      "15/15 [==============================] - 0s 798us/step - loss: 0.5562 - accuracy: 0.7179\n",
      "Epoch 32/300\n",
      "15/15 [==============================] - 0s 731us/step - loss: 0.7856 - accuracy: 0.6603\n",
      "Epoch 33/300\n",
      "15/15 [==============================] - 0s 799us/step - loss: 0.7713 - accuracy: 0.6859\n",
      "Epoch 34/300\n",
      "15/15 [==============================] - 0s 862us/step - loss: 0.6555 - accuracy: 0.6902\n",
      "Epoch 35/300\n",
      "15/15 [==============================] - 0s 864us/step - loss: 0.7339 - accuracy: 0.6645\n",
      "Epoch 36/300\n",
      "15/15 [==============================] - 0s 866us/step - loss: 0.6167 - accuracy: 0.6880\n",
      "Epoch 37/300\n",
      "15/15 [==============================] - 0s 798us/step - loss: 0.5511 - accuracy: 0.7286\n",
      "Epoch 38/300\n",
      "15/15 [==============================] - 0s 861us/step - loss: 0.5262 - accuracy: 0.7329\n",
      "Epoch 39/300\n",
      "15/15 [==============================] - 0s 864us/step - loss: 0.4946 - accuracy: 0.7500\n",
      "Epoch 40/300\n",
      "15/15 [==============================] - 0s 863us/step - loss: 0.4925 - accuracy: 0.7372\n",
      "Epoch 41/300\n",
      "15/15 [==============================] - 0s 931us/step - loss: 0.5017 - accuracy: 0.7222\n",
      "Epoch 42/300\n",
      "15/15 [==============================] - 0s 931us/step - loss: 0.5350 - accuracy: 0.7244\n",
      "Epoch 43/300\n",
      "15/15 [==============================] - 0s 864us/step - loss: 0.6401 - accuracy: 0.6838\n",
      "Epoch 44/300\n",
      "15/15 [==============================] - 0s 794us/step - loss: 0.5056 - accuracy: 0.7479\n",
      "Epoch 45/300\n",
      "15/15 [==============================] - 0s 731us/step - loss: 0.4891 - accuracy: 0.7457\n",
      "Epoch 46/300\n",
      "15/15 [==============================] - 0s 798us/step - loss: 0.5177 - accuracy: 0.7500\n",
      "Epoch 47/300\n",
      "15/15 [==============================] - 0s 1ms/step - loss: 0.5071 - accuracy: 0.7329\n",
      "Epoch 48/300\n",
      "15/15 [==============================] - 0s 997us/step - loss: 0.4944 - accuracy: 0.7457\n",
      "Epoch 49/300\n",
      "15/15 [==============================] - 0s 931us/step - loss: 0.4924 - accuracy: 0.7415\n",
      "Epoch 50/300\n",
      "15/15 [==============================] - 0s 931us/step - loss: 0.4798 - accuracy: 0.7500\n",
      "Epoch 51/300\n",
      "15/15 [==============================] - 0s 865us/step - loss: 0.4809 - accuracy: 0.7393\n",
      "Epoch 52/300\n",
      "15/15 [==============================] - 0s 864us/step - loss: 0.4858 - accuracy: 0.7265\n",
      "Epoch 53/300\n",
      "15/15 [==============================] - 0s 798us/step - loss: 0.4745 - accuracy: 0.7286\n",
      "Epoch 54/300\n",
      "15/15 [==============================] - 0s 800us/step - loss: 0.4817 - accuracy: 0.7543\n",
      "Epoch 55/300\n",
      "15/15 [==============================] - 0s 864us/step - loss: 0.5493 - accuracy: 0.7137\n",
      "Epoch 56/300\n",
      "15/15 [==============================] - 0s 798us/step - loss: 0.5881 - accuracy: 0.7094\n",
      "Epoch 57/300\n",
      "15/15 [==============================] - 0s 665us/step - loss: 0.5096 - accuracy: 0.7137\n",
      "Epoch 58/300\n",
      "15/15 [==============================] - 0s 731us/step - loss: 0.4979 - accuracy: 0.7286\n",
      "Epoch 59/300\n",
      "15/15 [==============================] - 0s 665us/step - loss: 0.4676 - accuracy: 0.7457\n",
      "Epoch 60/300\n",
      "15/15 [==============================] - 0s 667us/step - loss: 0.4849 - accuracy: 0.7500\n",
      "Epoch 61/300\n",
      "15/15 [==============================] - 0s 798us/step - loss: 0.4982 - accuracy: 0.7244\n",
      "Epoch 62/300\n",
      "15/15 [==============================] - 0s 731us/step - loss: 0.4777 - accuracy: 0.7564\n",
      "Epoch 63/300\n",
      "15/15 [==============================] - 0s 665us/step - loss: 0.4960 - accuracy: 0.7244\n",
      "Epoch 64/300\n",
      "15/15 [==============================] - 0s 733us/step - loss: 0.4838 - accuracy: 0.7521\n",
      "Epoch 65/300\n",
      "15/15 [==============================] - 0s 663us/step - loss: 0.4666 - accuracy: 0.7500\n",
      "Epoch 66/300\n",
      "15/15 [==============================] - 0s 731us/step - loss: 0.4651 - accuracy: 0.7650\n",
      "Epoch 67/300\n",
      "15/15 [==============================] - 0s 796us/step - loss: 0.4913 - accuracy: 0.7350\n",
      "Epoch 68/300\n",
      "15/15 [==============================] - 0s 665us/step - loss: 0.5478 - accuracy: 0.7329\n",
      "Epoch 69/300\n",
      "15/15 [==============================] - 0s 665us/step - loss: 0.4905 - accuracy: 0.7457\n",
      "Epoch 70/300\n",
      "15/15 [==============================] - 0s 665us/step - loss: 0.4671 - accuracy: 0.7585\n",
      "Epoch 71/300\n",
      "15/15 [==============================] - 0s 731us/step - loss: 0.5763 - accuracy: 0.7115\n",
      "Epoch 72/300\n",
      "15/15 [==============================] - 0s 664us/step - loss: 0.5863 - accuracy: 0.7372\n",
      "Epoch 73/300\n",
      "15/15 [==============================] - 0s 731us/step - loss: 0.5022 - accuracy: 0.7457\n",
      "Epoch 74/300\n",
      "15/15 [==============================] - 0s 731us/step - loss: 0.5235 - accuracy: 0.7158\n",
      "Epoch 75/300\n",
      "15/15 [==============================] - 0s 731us/step - loss: 0.5128 - accuracy: 0.7329\n",
      "Epoch 76/300\n",
      "15/15 [==============================] - 0s 733us/step - loss: 0.4760 - accuracy: 0.7521\n",
      "Epoch 77/300\n",
      "15/15 [==============================] - 0s 796us/step - loss: 0.4496 - accuracy: 0.7756\n",
      "Epoch 78/300\n",
      "15/15 [==============================] - 0s 731us/step - loss: 0.4760 - accuracy: 0.7393\n",
      "Epoch 79/300\n",
      "15/15 [==============================] - 0s 731us/step - loss: 0.5385 - accuracy: 0.7201\n",
      "Epoch 80/300\n",
      "15/15 [==============================] - 0s 730us/step - loss: 0.4620 - accuracy: 0.7500\n",
      "Epoch 81/300\n",
      "15/15 [==============================] - 0s 665us/step - loss: 0.4455 - accuracy: 0.7863\n",
      "Epoch 82/300\n",
      "15/15 [==============================] - 0s 731us/step - loss: 0.4681 - accuracy: 0.7500\n",
      "Epoch 83/300\n",
      "15/15 [==============================] - 0s 798us/step - loss: 0.4520 - accuracy: 0.7521\n",
      "Epoch 84/300\n",
      "15/15 [==============================] - 0s 665us/step - loss: 0.4460 - accuracy: 0.7735\n",
      "Epoch 85/300\n",
      "15/15 [==============================] - 0s 798us/step - loss: 0.4826 - accuracy: 0.7564\n",
      "Epoch 86/300\n",
      "15/15 [==============================] - 0s 864us/step - loss: 0.4780 - accuracy: 0.7350\n",
      "Epoch 87/300\n",
      "15/15 [==============================] - 0s 864us/step - loss: 0.4775 - accuracy: 0.7521\n",
      "Epoch 88/300\n",
      "15/15 [==============================] - 0s 733us/step - loss: 0.4537 - accuracy: 0.7585\n",
      "Epoch 89/300\n",
      "15/15 [==============================] - 0s 665us/step - loss: 0.4455 - accuracy: 0.7692\n",
      "Epoch 90/300\n",
      "15/15 [==============================] - ETA: 0s - loss: 0.5425 - accuracy: 0.81 - 0s 598us/step - loss: 0.5165 - accuracy: 0.7372\n",
      "Epoch 91/300\n",
      "15/15 [==============================] - 0s 796us/step - loss: 0.4528 - accuracy: 0.7607\n",
      "Epoch 92/300\n",
      "15/15 [==============================] - 0s 666us/step - loss: 0.4483 - accuracy: 0.7756\n",
      "Epoch 93/300\n",
      "15/15 [==============================] - 0s 731us/step - loss: 0.4601 - accuracy: 0.7671\n",
      "Epoch 94/300\n",
      "15/15 [==============================] - 0s 730us/step - loss: 0.5064 - accuracy: 0.7436\n",
      "Epoch 95/300\n",
      "15/15 [==============================] - 0s 663us/step - loss: 0.5554 - accuracy: 0.7372\n",
      "Epoch 96/300\n",
      "15/15 [==============================] - 0s 598us/step - loss: 0.5937 - accuracy: 0.7094\n",
      "Epoch 97/300\n",
      "15/15 [==============================] - 0s 731us/step - loss: 0.5753 - accuracy: 0.7244\n",
      "Epoch 98/300\n",
      "15/15 [==============================] - 0s 730us/step - loss: 0.5280 - accuracy: 0.7329\n",
      "Epoch 99/300\n",
      "15/15 [==============================] - 0s 734us/step - loss: 0.6229 - accuracy: 0.7094\n",
      "Epoch 100/300\n",
      "15/15 [==============================] - 0s 665us/step - loss: 0.4727 - accuracy: 0.7521\n",
      "Epoch 101/300\n",
      "15/15 [==============================] - 0s 598us/step - loss: 0.4725 - accuracy: 0.7415\n",
      "Epoch 102/300\n",
      "15/15 [==============================] - 0s 665us/step - loss: 0.4730 - accuracy: 0.7436\n",
      "Epoch 103/300\n",
      "15/15 [==============================] - 0s 731us/step - loss: 0.5197 - accuracy: 0.7329\n",
      "Epoch 104/300\n",
      "15/15 [==============================] - 0s 730us/step - loss: 0.5102 - accuracy: 0.7372\n",
      "Epoch 105/300\n",
      "15/15 [==============================] - 0s 798us/step - loss: 0.4826 - accuracy: 0.7415\n",
      "Epoch 106/300\n",
      "15/15 [==============================] - 0s 665us/step - loss: 0.4662 - accuracy: 0.7692\n",
      "Epoch 107/300\n",
      "15/15 [==============================] - 0s 665us/step - loss: 0.4436 - accuracy: 0.7543\n",
      "Epoch 108/300\n",
      "15/15 [==============================] - 0s 730us/step - loss: 0.4624 - accuracy: 0.7521\n",
      "Epoch 109/300\n",
      "15/15 [==============================] - 0s 731us/step - loss: 0.4448 - accuracy: 0.7607\n",
      "Epoch 110/300\n",
      "15/15 [==============================] - 0s 665us/step - loss: 0.4524 - accuracy: 0.7564\n",
      "Epoch 111/300\n",
      "15/15 [==============================] - 0s 599us/step - loss: 0.4894 - accuracy: 0.7457\n",
      "Epoch 112/300\n",
      "15/15 [==============================] - 0s 665us/step - loss: 0.4710 - accuracy: 0.7286\n",
      "Epoch 113/300\n",
      "15/15 [==============================] - 0s 733us/step - loss: 0.4562 - accuracy: 0.7393\n",
      "Epoch 114/300\n",
      "15/15 [==============================] - 0s 731us/step - loss: 0.5219 - accuracy: 0.7521\n",
      "Epoch 115/300\n",
      "15/15 [==============================] - 0s 730us/step - loss: 0.6400 - accuracy: 0.6944\n",
      "Epoch 116/300\n",
      "15/15 [==============================] - 0s 665us/step - loss: 0.5477 - accuracy: 0.7286\n",
      "Epoch 117/300\n",
      "15/15 [==============================] - 0s 665us/step - loss: 0.4860 - accuracy: 0.7265\n",
      "Epoch 118/300\n",
      "15/15 [==============================] - 0s 731us/step - loss: 0.4550 - accuracy: 0.7671\n",
      "Epoch 119/300\n",
      "15/15 [==============================] - 0s 732us/step - loss: 0.5902 - accuracy: 0.7329\n",
      "Epoch 120/300\n",
      "15/15 [==============================] - 0s 731us/step - loss: 0.5038 - accuracy: 0.7393\n",
      "Epoch 121/300\n",
      "15/15 [==============================] - 0s 864us/step - loss: 0.5095 - accuracy: 0.7329\n",
      "Epoch 122/300\n",
      "15/15 [==============================] - 0s 798us/step - loss: 0.4638 - accuracy: 0.7607\n",
      "Epoch 123/300\n",
      "15/15 [==============================] - 0s 731us/step - loss: 0.4410 - accuracy: 0.7607\n",
      "Epoch 124/300\n",
      "15/15 [==============================] - 0s 665us/step - loss: 0.4602 - accuracy: 0.7543\n",
      "Epoch 125/300\n",
      "15/15 [==============================] - 0s 731us/step - loss: 0.4708 - accuracy: 0.7607\n",
      "Epoch 126/300\n",
      "15/15 [==============================] - 0s 665us/step - loss: 0.4398 - accuracy: 0.7756\n",
      "Epoch 127/300\n",
      "15/15 [==============================] - 0s 731us/step - loss: 0.4532 - accuracy: 0.7650\n",
      "Epoch 128/300\n",
      "15/15 [==============================] - 0s 665us/step - loss: 0.4604 - accuracy: 0.7756\n",
      "Epoch 129/300\n",
      "15/15 [==============================] - 0s 665us/step - loss: 0.5152 - accuracy: 0.7479\n",
      "Epoch 130/300\n",
      "15/15 [==============================] - 0s 731us/step - loss: 0.4631 - accuracy: 0.7650\n",
      "Epoch 131/300\n",
      "15/15 [==============================] - 0s 665us/step - loss: 0.5341 - accuracy: 0.7308\n",
      "Epoch 132/300\n",
      "15/15 [==============================] - 0s 796us/step - loss: 0.5111 - accuracy: 0.7265\n",
      "Epoch 133/300\n",
      "15/15 [==============================] - 0s 731us/step - loss: 0.5265 - accuracy: 0.7137\n",
      "Epoch 134/300\n",
      "15/15 [==============================] - 0s 731us/step - loss: 0.5903 - accuracy: 0.7201\n",
      "Epoch 135/300\n",
      "15/15 [==============================] - 0s 598us/step - loss: 0.4570 - accuracy: 0.7735\n",
      "Epoch 136/300\n",
      "15/15 [==============================] - 0s 666us/step - loss: 0.4724 - accuracy: 0.7479\n",
      "Epoch 137/300\n",
      "15/15 [==============================] - 0s 731us/step - loss: 0.4468 - accuracy: 0.7564\n",
      "Epoch 138/300\n",
      "15/15 [==============================] - 0s 665us/step - loss: 0.4327 - accuracy: 0.7885\n",
      "Epoch 139/300\n",
      "15/15 [==============================] - 0s 663us/step - loss: 0.4596 - accuracy: 0.7500\n",
      "Epoch 140/300\n",
      "15/15 [==============================] - 0s 598us/step - loss: 0.4963 - accuracy: 0.7393\n",
      "Epoch 141/300\n",
      "15/15 [==============================] - 0s 731us/step - loss: 0.5451 - accuracy: 0.7137\n",
      "Epoch 142/300\n",
      "15/15 [==============================] - 0s 731us/step - loss: 0.5505 - accuracy: 0.7521\n",
      "Epoch 143/300\n",
      "15/15 [==============================] - 0s 865us/step - loss: 0.4732 - accuracy: 0.7543\n",
      "Epoch 144/300\n",
      "15/15 [==============================] - 0s 798us/step - loss: 0.4824 - accuracy: 0.7521\n",
      "Epoch 145/300\n",
      "15/15 [==============================] - 0s 731us/step - loss: 0.4864 - accuracy: 0.7415\n",
      "Epoch 146/300\n",
      "15/15 [==============================] - 0s 665us/step - loss: 0.5273 - accuracy: 0.7308\n",
      "Epoch 147/300\n",
      "15/15 [==============================] - 0s 665us/step - loss: 0.5487 - accuracy: 0.7244\n",
      "Epoch 148/300\n",
      "15/15 [==============================] - 0s 665us/step - loss: 0.5006 - accuracy: 0.7457\n",
      "Epoch 149/300\n",
      "15/15 [==============================] - 0s 730us/step - loss: 0.4667 - accuracy: 0.7585\n",
      "Epoch 150/300\n",
      "15/15 [==============================] - 0s 796us/step - loss: 0.4648 - accuracy: 0.7521\n",
      "Epoch 151/300\n",
      "15/15 [==============================] - 0s 796us/step - loss: 0.5139 - accuracy: 0.7137\n",
      "Epoch 152/300\n",
      "15/15 [==============================] - 0s 731us/step - loss: 0.4644 - accuracy: 0.7585\n",
      "Epoch 153/300\n",
      "15/15 [==============================] - 0s 866us/step - loss: 0.4708 - accuracy: 0.7564\n",
      "Epoch 154/300\n",
      "15/15 [==============================] - 0s 731us/step - loss: 0.4717 - accuracy: 0.7714\n",
      "Epoch 155/300\n",
      "15/15 [==============================] - 0s 667us/step - loss: 0.4565 - accuracy: 0.7585\n",
      "Epoch 156/300\n",
      "15/15 [==============================] - 0s 731us/step - loss: 0.4403 - accuracy: 0.7607\n",
      "Epoch 157/300\n",
      "15/15 [==============================] - 0s 663us/step - loss: 0.4739 - accuracy: 0.7521\n",
      "Epoch 158/300\n",
      "15/15 [==============================] - 0s 663us/step - loss: 0.5218 - accuracy: 0.7179\n",
      "Epoch 159/300\n",
      "15/15 [==============================] - 0s 729us/step - loss: 0.4580 - accuracy: 0.7650\n",
      "Epoch 160/300\n"
     ]
    },
    {
     "name": "stdout",
     "output_type": "stream",
     "text": [
      "15/15 [==============================] - 0s 730us/step - loss: 0.4360 - accuracy: 0.7650\n",
      "Epoch 161/300\n",
      "15/15 [==============================] - 0s 933us/step - loss: 0.4476 - accuracy: 0.7564\n",
      "Epoch 162/300\n",
      "15/15 [==============================] - 0s 796us/step - loss: 0.4451 - accuracy: 0.7692\n",
      "Epoch 163/300\n",
      "15/15 [==============================] - 0s 997us/step - loss: 0.4601 - accuracy: 0.7756\n",
      "Epoch 164/300\n",
      "15/15 [==============================] - 0s 667us/step - loss: 0.4651 - accuracy: 0.7650\n",
      "Epoch 165/300\n",
      "15/15 [==============================] - 0s 731us/step - loss: 0.4561 - accuracy: 0.7735\n",
      "Epoch 166/300\n",
      "15/15 [==============================] - 0s 796us/step - loss: 0.4935 - accuracy: 0.7457\n",
      "Epoch 167/300\n",
      "15/15 [==============================] - 0s 751us/step - loss: 0.4449 - accuracy: 0.7735\n",
      "Epoch 168/300\n",
      "15/15 [==============================] - 0s 765us/step - loss: 0.4400 - accuracy: 0.7821\n",
      "Epoch 169/300\n",
      "15/15 [==============================] - 0s 663us/step - loss: 0.4536 - accuracy: 0.7607\n",
      "Epoch 170/300\n",
      "15/15 [==============================] - 0s 598us/step - loss: 0.4514 - accuracy: 0.7479\n",
      "Epoch 171/300\n",
      "15/15 [==============================] - 0s 733us/step - loss: 0.4596 - accuracy: 0.7607\n",
      "Epoch 172/300\n",
      "15/15 [==============================] - 0s 665us/step - loss: 0.4535 - accuracy: 0.7415\n",
      "Epoch 173/300\n",
      "15/15 [==============================] - 0s 731us/step - loss: 0.4725 - accuracy: 0.7778\n",
      "Epoch 174/300\n",
      "15/15 [==============================] - 0s 665us/step - loss: 0.4605 - accuracy: 0.7500\n",
      "Epoch 175/300\n",
      "15/15 [==============================] - 0s 600us/step - loss: 0.4372 - accuracy: 0.7885\n",
      "Epoch 176/300\n",
      "15/15 [==============================] - 0s 731us/step - loss: 0.4330 - accuracy: 0.7756\n",
      "Epoch 177/300\n",
      "15/15 [==============================] - 0s 798us/step - loss: 0.4535 - accuracy: 0.7714\n",
      "Epoch 178/300\n",
      "15/15 [==============================] - 0s 665us/step - loss: 0.4732 - accuracy: 0.7607\n",
      "Epoch 179/300\n",
      "15/15 [==============================] - 0s 665us/step - loss: 0.5636 - accuracy: 0.7244\n",
      "Epoch 180/300\n",
      "15/15 [==============================] - 0s 598us/step - loss: 0.4524 - accuracy: 0.7607\n",
      "Epoch 181/300\n",
      "15/15 [==============================] - 0s 665us/step - loss: 0.4670 - accuracy: 0.7372\n",
      "Epoch 182/300\n",
      "15/15 [==============================] - 0s 665us/step - loss: 0.4359 - accuracy: 0.7970\n",
      "Epoch 183/300\n",
      "15/15 [==============================] - 0s 663us/step - loss: 0.4541 - accuracy: 0.7778\n",
      "Epoch 184/300\n",
      "15/15 [==============================] - 0s 663us/step - loss: 0.4474 - accuracy: 0.7692\n",
      "Epoch 185/300\n",
      "15/15 [==============================] - ETA: 0s - loss: 0.5177 - accuracy: 0.68 - 0s 663us/step - loss: 0.4376 - accuracy: 0.7692\n",
      "Epoch 186/300\n",
      "15/15 [==============================] - ETA: 0s - loss: 0.4964 - accuracy: 0.78 - 0s 798us/step - loss: 0.4850 - accuracy: 0.7543\n",
      "Epoch 187/300\n",
      "15/15 [==============================] - 0s 796us/step - loss: 0.4764 - accuracy: 0.7564\n",
      "Epoch 188/300\n",
      "15/15 [==============================] - 0s 731us/step - loss: 0.4486 - accuracy: 0.7799\n",
      "Epoch 189/300\n",
      "15/15 [==============================] - 0s 731us/step - loss: 0.4534 - accuracy: 0.7607\n",
      "Epoch 190/300\n",
      "15/15 [==============================] - 0s 663us/step - loss: 0.4679 - accuracy: 0.7543\n",
      "Epoch 191/300\n",
      "15/15 [==============================] - 0s 665us/step - loss: 0.4336 - accuracy: 0.7842\n",
      "Epoch 192/300\n",
      "15/15 [==============================] - 0s 731us/step - loss: 0.5061 - accuracy: 0.7500\n",
      "Epoch 193/300\n",
      "15/15 [==============================] - 0s 730us/step - loss: 0.5644 - accuracy: 0.7051\n",
      "Epoch 194/300\n",
      "15/15 [==============================] - 0s 665us/step - loss: 0.4454 - accuracy: 0.7628\n",
      "Epoch 195/300\n",
      "15/15 [==============================] - 0s 732us/step - loss: 0.4693 - accuracy: 0.7607\n",
      "Epoch 196/300\n",
      "15/15 [==============================] - 0s 997us/step - loss: 0.6065 - accuracy: 0.7030\n",
      "Epoch 197/300\n",
      "15/15 [==============================] - 0s 864us/step - loss: 0.5314 - accuracy: 0.7500\n",
      "Epoch 198/300\n",
      "15/15 [==============================] - 0s 731us/step - loss: 0.5256 - accuracy: 0.7436\n",
      "Epoch 199/300\n",
      "15/15 [==============================] - 0s 731us/step - loss: 0.4729 - accuracy: 0.7607\n",
      "Epoch 200/300\n",
      "15/15 [==============================] - 0s 730us/step - loss: 0.4346 - accuracy: 0.7842\n",
      "Epoch 201/300\n",
      "15/15 [==============================] - 0s 731us/step - loss: 0.4682 - accuracy: 0.7543\n",
      "Epoch 202/300\n",
      "15/15 [==============================] - 0s 665us/step - loss: 0.4346 - accuracy: 0.7521\n",
      "Epoch 203/300\n",
      "15/15 [==============================] - 0s 665us/step - loss: 0.4377 - accuracy: 0.7778\n",
      "Epoch 204/300\n",
      "15/15 [==============================] - 0s 731us/step - loss: 0.4705 - accuracy: 0.7564\n",
      "Epoch 205/300\n",
      "15/15 [==============================] - 0s 731us/step - loss: 0.5150 - accuracy: 0.7521\n",
      "Epoch 206/300\n",
      "15/15 [==============================] - 0s 665us/step - loss: 0.4268 - accuracy: 0.7949\n",
      "Epoch 207/300\n",
      "15/15 [==============================] - 0s 665us/step - loss: 0.4490 - accuracy: 0.7778\n",
      "Epoch 208/300\n",
      "15/15 [==============================] - 0s 665us/step - loss: 0.4528 - accuracy: 0.7607\n",
      "Epoch 209/300\n",
      "15/15 [==============================] - 0s 666us/step - loss: 0.4745 - accuracy: 0.7607\n",
      "Epoch 210/300\n",
      "15/15 [==============================] - 0s 667us/step - loss: 0.4521 - accuracy: 0.7628\n",
      "Epoch 211/300\n",
      "15/15 [==============================] - 0s 666us/step - loss: 0.4883 - accuracy: 0.7415\n",
      "Epoch 212/300\n",
      "15/15 [==============================] - 0s 663us/step - loss: 0.5079 - accuracy: 0.7222\n",
      "Epoch 213/300\n",
      "15/15 [==============================] - 0s 665us/step - loss: 0.4468 - accuracy: 0.7735\n",
      "Epoch 214/300\n",
      "15/15 [==============================] - 0s 665us/step - loss: 0.4310 - accuracy: 0.7692\n",
      "Epoch 215/300\n",
      "15/15 [==============================] - 0s 734us/step - loss: 0.4958 - accuracy: 0.7286\n",
      "Epoch 216/300\n",
      "15/15 [==============================] - 0s 731us/step - loss: 0.4376 - accuracy: 0.7671\n",
      "Epoch 217/300\n",
      "15/15 [==============================] - 0s 729us/step - loss: 0.4343 - accuracy: 0.7799\n",
      "Epoch 218/300\n",
      "15/15 [==============================] - 0s 731us/step - loss: 0.4662 - accuracy: 0.7671\n",
      "Epoch 219/300\n",
      "15/15 [==============================] - 0s 665us/step - loss: 0.4940 - accuracy: 0.7500\n",
      "Epoch 220/300\n",
      "15/15 [==============================] - 0s 798us/step - loss: 0.4412 - accuracy: 0.7628\n",
      "Epoch 221/300\n",
      "15/15 [==============================] - 0s 798us/step - loss: 0.5197 - accuracy: 0.7692\n",
      "Epoch 222/300\n",
      "15/15 [==============================] - 0s 665us/step - loss: 0.4504 - accuracy: 0.7714\n",
      "Epoch 223/300\n",
      "15/15 [==============================] - 0s 797us/step - loss: 0.5669 - accuracy: 0.7329\n",
      "Epoch 224/300\n",
      "15/15 [==============================] - 0s 798us/step - loss: 0.4747 - accuracy: 0.7500\n",
      "Epoch 225/300\n",
      "15/15 [==============================] - 0s 731us/step - loss: 0.4835 - accuracy: 0.7479\n",
      "Epoch 226/300\n",
      "15/15 [==============================] - 0s 731us/step - loss: 0.4487 - accuracy: 0.7714\n",
      "Epoch 227/300\n",
      "15/15 [==============================] - 0s 665us/step - loss: 0.4450 - accuracy: 0.7650\n",
      "Epoch 228/300\n",
      "15/15 [==============================] - 0s 798us/step - loss: 0.4762 - accuracy: 0.7372\n",
      "Epoch 229/300\n",
      "15/15 [==============================] - 0s 796us/step - loss: 0.4321 - accuracy: 0.7564\n",
      "Epoch 230/300\n",
      "15/15 [==============================] - 0s 665us/step - loss: 0.4487 - accuracy: 0.7543\n",
      "Epoch 231/300\n",
      "15/15 [==============================] - 0s 731us/step - loss: 0.4430 - accuracy: 0.7778\n",
      "Epoch 232/300\n",
      "15/15 [==============================] - 0s 731us/step - loss: 0.4772 - accuracy: 0.7585\n",
      "Epoch 233/300\n",
      "15/15 [==============================] - 0s 731us/step - loss: 0.4411 - accuracy: 0.7735\n",
      "Epoch 234/300\n",
      "15/15 [==============================] - 0s 731us/step - loss: 0.4535 - accuracy: 0.7628\n",
      "Epoch 235/300\n",
      "15/15 [==============================] - 0s 824us/step - loss: 0.5017 - accuracy: 0.7500\n",
      "Epoch 236/300\n",
      "15/15 [==============================] - 0s 1ms/step - loss: 0.4368 - accuracy: 0.7735\n",
      "Epoch 237/300\n",
      "15/15 [==============================] - 0s 864us/step - loss: 0.4253 - accuracy: 0.7650\n",
      "Epoch 238/300\n",
      "15/15 [==============================] - 0s 864us/step - loss: 0.4474 - accuracy: 0.7650\n",
      "Epoch 239/300\n",
      "15/15 [==============================] - 0s 864us/step - loss: 0.4471 - accuracy: 0.7671\n",
      "Epoch 240/300\n",
      "15/15 [==============================] - 0s 796us/step - loss: 0.4422 - accuracy: 0.7885\n",
      "Epoch 241/300\n",
      "15/15 [==============================] - 0s 731us/step - loss: 0.4389 - accuracy: 0.7714\n",
      "Epoch 242/300\n",
      "15/15 [==============================] - 0s 667us/step - loss: 0.4709 - accuracy: 0.7244\n",
      "Epoch 243/300\n",
      "15/15 [==============================] - 0s 665us/step - loss: 0.4621 - accuracy: 0.7585\n",
      "Epoch 244/300\n",
      "15/15 [==============================] - 0s 665us/step - loss: 0.4386 - accuracy: 0.7778\n",
      "Epoch 245/300\n",
      "15/15 [==============================] - 0s 731us/step - loss: 0.4782 - accuracy: 0.7607\n",
      "Epoch 246/300\n",
      "15/15 [==============================] - 0s 796us/step - loss: 0.4646 - accuracy: 0.7671\n",
      "Epoch 247/300\n",
      "15/15 [==============================] - 0s 798us/step - loss: 0.4919 - accuracy: 0.7479\n",
      "Epoch 248/300\n",
      "15/15 [==============================] - 0s 731us/step - loss: 0.4909 - accuracy: 0.7500\n",
      "Epoch 249/300\n",
      "15/15 [==============================] - 0s 665us/step - loss: 0.4631 - accuracy: 0.7842\n",
      "Epoch 250/300\n",
      "15/15 [==============================] - 0s 665us/step - loss: 0.4829 - accuracy: 0.7628\n",
      "Epoch 251/300\n",
      "15/15 [==============================] - 0s 733us/step - loss: 0.5608 - accuracy: 0.7244\n",
      "Epoch 252/300\n",
      "15/15 [==============================] - 0s 733us/step - loss: 0.4332 - accuracy: 0.7799\n",
      "Epoch 253/300\n",
      "15/15 [==============================] - 0s 731us/step - loss: 0.4417 - accuracy: 0.7714\n",
      "Epoch 254/300\n",
      "15/15 [==============================] - 0s 666us/step - loss: 0.4651 - accuracy: 0.7628\n",
      "Epoch 255/300\n",
      "15/15 [==============================] - 0s 731us/step - loss: 0.4281 - accuracy: 0.7799\n",
      "Epoch 256/300\n",
      "15/15 [==============================] - 0s 666us/step - loss: 0.4469 - accuracy: 0.7799\n",
      "Epoch 257/300\n",
      "15/15 [==============================] - 0s 931us/step - loss: 0.4516 - accuracy: 0.7756\n",
      "Epoch 258/300\n",
      "15/15 [==============================] - 0s 798us/step - loss: 0.5102 - accuracy: 0.7415\n",
      "Epoch 259/300\n",
      "15/15 [==============================] - 0s 730us/step - loss: 0.4356 - accuracy: 0.7671\n",
      "Epoch 260/300\n",
      "15/15 [==============================] - 0s 796us/step - loss: 0.4594 - accuracy: 0.7714\n",
      "Epoch 261/300\n",
      "15/15 [==============================] - 0s 667us/step - loss: 0.4290 - accuracy: 0.7821\n",
      "Epoch 262/300\n",
      "15/15 [==============================] - 0s 601us/step - loss: 0.4261 - accuracy: 0.7927\n",
      "Epoch 263/300\n",
      "15/15 [==============================] - 0s 731us/step - loss: 0.4636 - accuracy: 0.7543\n",
      "Epoch 264/300\n",
      "15/15 [==============================] - 0s 731us/step - loss: 0.4178 - accuracy: 0.7735\n",
      "Epoch 265/300\n",
      "15/15 [==============================] - 0s 796us/step - loss: 0.4301 - accuracy: 0.7821\n",
      "Epoch 266/300\n",
      "15/15 [==============================] - 0s 731us/step - loss: 0.5419 - accuracy: 0.7350\n",
      "Epoch 267/300\n",
      "15/15 [==============================] - 0s 731us/step - loss: 0.4886 - accuracy: 0.7265\n",
      "Epoch 268/300\n",
      "15/15 [==============================] - 0s 665us/step - loss: 0.4378 - accuracy: 0.7778\n",
      "Epoch 269/300\n",
      "15/15 [==============================] - 0s 864us/step - loss: 0.4252 - accuracy: 0.7756\n",
      "Epoch 270/300\n",
      "15/15 [==============================] - 0s 865us/step - loss: 0.4393 - accuracy: 0.7885\n",
      "Epoch 271/300\n",
      "15/15 [==============================] - 0s 798us/step - loss: 0.4263 - accuracy: 0.7799\n",
      "Epoch 272/300\n",
      "15/15 [==============================] - 0s 798us/step - loss: 0.4711 - accuracy: 0.7543\n",
      "Epoch 273/300\n",
      "15/15 [==============================] - 0s 731us/step - loss: 0.4553 - accuracy: 0.7628\n",
      "Epoch 274/300\n",
      "15/15 [==============================] - 0s 691us/step - loss: 0.5031 - accuracy: 0.7372\n",
      "Epoch 275/300\n",
      "15/15 [==============================] - 0s 730us/step - loss: 0.4389 - accuracy: 0.7842\n",
      "Epoch 276/300\n",
      "15/15 [==============================] - 0s 665us/step - loss: 0.4257 - accuracy: 0.7821\n",
      "Epoch 277/300\n",
      "15/15 [==============================] - 0s 733us/step - loss: 0.5062 - accuracy: 0.7308\n",
      "Epoch 278/300\n",
      "15/15 [==============================] - 0s 731us/step - loss: 0.4275 - accuracy: 0.7863\n",
      "Epoch 279/300\n",
      "15/15 [==============================] - 0s 798us/step - loss: 0.4515 - accuracy: 0.7692\n",
      "Epoch 280/300\n",
      "15/15 [==============================] - 0s 798us/step - loss: 0.4655 - accuracy: 0.7521\n",
      "Epoch 281/300\n",
      "15/15 [==============================] - 0s 731us/step - loss: 0.4527 - accuracy: 0.7735\n",
      "Epoch 282/300\n",
      "15/15 [==============================] - 0s 665us/step - loss: 0.4247 - accuracy: 0.7714\n",
      "Epoch 283/300\n",
      "15/15 [==============================] - 0s 731us/step - loss: 0.4355 - accuracy: 0.7692\n",
      "Epoch 284/300\n",
      "15/15 [==============================] - 0s 2ms/step - loss: 0.4414 - accuracy: 0.7842\n",
      "Epoch 285/300\n",
      "15/15 [==============================] - 0s 864us/step - loss: 0.4410 - accuracy: 0.7778\n",
      "Epoch 286/300\n",
      "15/15 [==============================] - 0s 794us/step - loss: 0.4746 - accuracy: 0.7543\n",
      "Epoch 287/300\n",
      "15/15 [==============================] - 0s 665us/step - loss: 0.4663 - accuracy: 0.7628\n",
      "Epoch 288/300\n",
      "15/15 [==============================] - 0s 800us/step - loss: 0.4325 - accuracy: 0.7821\n",
      "Epoch 289/300\n",
      "15/15 [==============================] - 0s 731us/step - loss: 0.4280 - accuracy: 0.7735\n",
      "Epoch 290/300\n",
      "15/15 [==============================] - 0s 796us/step - loss: 0.4364 - accuracy: 0.7714\n",
      "Epoch 291/300\n",
      "15/15 [==============================] - 0s 731us/step - loss: 0.4224 - accuracy: 0.7906\n",
      "Epoch 292/300\n",
      "15/15 [==============================] - 0s 865us/step - loss: 0.4447 - accuracy: 0.7521\n",
      "Epoch 293/300\n",
      "15/15 [==============================] - 0s 797us/step - loss: 0.4351 - accuracy: 0.7821\n",
      "Epoch 294/300\n",
      "15/15 [==============================] - 0s 729us/step - loss: 0.4813 - accuracy: 0.7628\n",
      "Epoch 295/300\n",
      "15/15 [==============================] - 0s 731us/step - loss: 0.4505 - accuracy: 0.7650\n",
      "Epoch 296/300\n",
      "15/15 [==============================] - 0s 733us/step - loss: 0.4488 - accuracy: 0.7671\n",
      "Epoch 297/300\n",
      "15/15 [==============================] - 0s 664us/step - loss: 0.4353 - accuracy: 0.7714\n",
      "Epoch 298/300\n",
      "15/15 [==============================] - 0s 730us/step - loss: 0.4842 - accuracy: 0.7457\n",
      "Epoch 299/300\n",
      "15/15 [==============================] - 0s 665us/step - loss: 0.4171 - accuracy: 0.7863\n",
      "Epoch 300/300\n",
      "15/15 [==============================] - 0s 731us/step - loss: 0.4308 - accuracy: 0.7863\n"
     ]
    },
    {
     "data": {
      "text/plain": [
       "<tensorflow.python.keras.callbacks.History at 0x243bbfaea58>"
      ]
     },
     "execution_count": 107,
     "metadata": {},
     "output_type": "execute_result"
    }
   ],
   "source": [
    "class_weights={0: 1,1: 1}\n",
    "\n",
    "model.fit(X_train, y_train, epochs=300, batch_size=32,class_weight=class_weights)\n"
   ]
  },
  {
   "cell_type": "code",
   "execution_count": 108,
   "metadata": {},
   "outputs": [],
   "source": [
    "y_pred[y_pred>=0.5]=1\n",
    "y_pred[y_pred<0.5]=0"
   ]
  },
  {
   "cell_type": "code",
   "execution_count": 109,
   "metadata": {},
   "outputs": [
    {
     "name": "stdout",
     "output_type": "stream",
     "text": [
      "[[134  38]\n",
      " [ 60 236]]\n",
      "              precision    recall  f1-score   support\n",
      "\n",
      "           0       0.69      0.78      0.73       172\n",
      "           1       0.86      0.80      0.83       296\n",
      "\n",
      "    accuracy                           0.79       468\n",
      "   macro avg       0.78      0.79      0.78       468\n",
      "weighted avg       0.80      0.79      0.79       468\n",
      "\n",
      "0.7905982905982906\n"
     ]
    }
   ],
   "source": [
    "y_pred = model.predict(X_train)\n",
    "y_pred[y_pred>=0.5]=1\n",
    "y_pred[y_pred<0.5]=0\n",
    "from sklearn.metrics import classification_report, confusion_matrix, accuracy_score\n",
    "print(confusion_matrix(y_train,y_pred))\n",
    "print(classification_report(y_train,y_pred))\n",
    "print(accuracy_score(y_train, y_pred))"
   ]
  },
  {
   "cell_type": "code",
   "execution_count": 110,
   "metadata": {},
   "outputs": [
    {
     "name": "stdout",
     "output_type": "stream",
     "text": [
      "[[35 13]\n",
      " [12 57]]\n",
      "              precision    recall  f1-score   support\n",
      "\n",
      "           0       0.74      0.73      0.74        48\n",
      "           1       0.81      0.83      0.82        69\n",
      "\n",
      "    accuracy                           0.79       117\n",
      "   macro avg       0.78      0.78      0.78       117\n",
      "weighted avg       0.79      0.79      0.79       117\n",
      "\n",
      "0.7863247863247863\n"
     ]
    }
   ],
   "source": [
    "y_pred = model.predict(X_test)\n",
    "y_pred[y_pred>=0.5]=1\n",
    "y_pred[y_pred<0.5]=0\n",
    "from sklearn.metrics import classification_report, confusion_matrix, accuracy_score\n",
    "print(confusion_matrix(y_test,y_pred))\n",
    "print(classification_report(y_test,y_pred))\n",
    "print(accuracy_score(y_test, y_pred))"
   ]
  },
  {
   "cell_type": "code",
   "execution_count": 69,
   "metadata": {},
   "outputs": [
    {
     "data": {
      "text/plain": [
       "SVC(C=1.0, break_ties=False, cache_size=200, class_weight={0: 1.1, 1: 1},\n",
       "    coef0=0.0, decision_function_shape='ovr', degree=3, gamma='scale',\n",
       "    kernel='linear', max_iter=-1, probability=False, random_state=None,\n",
       "    shrinking=True, tol=0.001, verbose=False)"
      ]
     },
     "execution_count": 69,
     "metadata": {},
     "output_type": "execute_result"
    }
   ],
   "source": [
    "from sklearn import svm\n",
    "\n",
    "clf = svm.SVC(kernel='linear',class_weight={0:1.1,1:1})\n",
    "clf.fit(X_train, y_train)"
   ]
  },
  {
   "cell_type": "code",
   "execution_count": 278,
   "metadata": {},
   "outputs": [],
   "source": [
    "df1=pd.read_csv('Data/Srilanka.csv')\n",
    "df1=df1.loc[:, df1.columns !='Subject ID']\n",
    "df1.columns=df.columns"
   ]
  }
 ],
 "metadata": {
  "kernelspec": {
   "display_name": "Python 3",
   "language": "python",
   "name": "python3"
  },
  "language_info": {
   "codemirror_mode": {
    "name": "ipython",
    "version": 3
   },
   "file_extension": ".py",
   "mimetype": "text/x-python",
   "name": "python",
   "nbconvert_exporter": "python",
   "pygments_lexer": "ipython3",
   "version": "3.8.3"
  }
 },
 "nbformat": 4,
 "nbformat_minor": 2
}
