{
 "cells": [
  {
   "cell_type": "code",
   "execution_count": 2,
   "metadata": {},
   "outputs": [],
   "source": [
    "import pandas as pd\n",
    "import numpy as np"
   ]
  },
  {
   "cell_type": "markdown",
   "metadata": {},
   "source": [
    "### Spiral"
   ]
  },
  {
   "cell_type": "code",
   "execution_count": 4,
   "metadata": {},
   "outputs": [],
   "source": [
    "df=pd.read_csv('Trace/Tracing Data/Old Data/Spiral_HandPD.csv')"
   ]
  },
  {
   "cell_type": "code",
   "execution_count": 5,
   "metadata": {},
   "outputs": [
    {
     "data": {
      "text/html": [
       "<div>\n",
       "<style scoped>\n",
       "    .dataframe tbody tr th:only-of-type {\n",
       "        vertical-align: middle;\n",
       "    }\n",
       "\n",
       "    .dataframe tbody tr th {\n",
       "        vertical-align: top;\n",
       "    }\n",
       "\n",
       "    .dataframe thead th {\n",
       "        text-align: right;\n",
       "    }\n",
       "</style>\n",
       "<table border=\"1\" class=\"dataframe\">\n",
       "  <thead>\n",
       "    <tr style=\"text-align: right;\">\n",
       "      <th></th>\n",
       "      <th>_ID_EXAM</th>\n",
       "      <th>IMAGE_NAME</th>\n",
       "      <th>ID_PATIENT</th>\n",
       "      <th>CLASS_TYPE</th>\n",
       "      <th>GENDER</th>\n",
       "      <th>RIGH/LEFT-HANDED</th>\n",
       "      <th>AGE</th>\n",
       "      <th>RMS</th>\n",
       "      <th>MAX_BETWEEN_ET_HT</th>\n",
       "      <th>MIN_BETWEEN_ET_HT</th>\n",
       "      <th>STD_DEVIATION_ET_HT</th>\n",
       "      <th>MRT</th>\n",
       "      <th>MAX_HT</th>\n",
       "      <th>MIN_HT</th>\n",
       "      <th>STD_HT</th>\n",
       "      <th>CHANGES_FROM_NEGATIVE_TO_POSITIVE_BETWEEN_ET_HT</th>\n",
       "    </tr>\n",
       "  </thead>\n",
       "  <tbody>\n",
       "    <tr>\n",
       "      <th>0</th>\n",
       "      <td>68</td>\n",
       "      <td>0068-1.jpg</td>\n",
       "      <td>1</td>\n",
       "      <td>1</td>\n",
       "      <td>F</td>\n",
       "      <td>L</td>\n",
       "      <td>28</td>\n",
       "      <td>2446.759108</td>\n",
       "      <td>5388.771096</td>\n",
       "      <td>33435.39545</td>\n",
       "      <td>0.0</td>\n",
       "      <td>26.849731</td>\n",
       "      <td>183.854351</td>\n",
       "      <td>0.017068</td>\n",
       "      <td>1779.550502</td>\n",
       "      <td>0.216138</td>\n",
       "    </tr>\n",
       "    <tr>\n",
       "      <th>1</th>\n",
       "      <td>68</td>\n",
       "      <td>0068-2.jpg</td>\n",
       "      <td>1</td>\n",
       "      <td>1</td>\n",
       "      <td>F</td>\n",
       "      <td>L</td>\n",
       "      <td>28</td>\n",
       "      <td>2159.220559</td>\n",
       "      <td>4617.939790</td>\n",
       "      <td>34428.29401</td>\n",
       "      <td>0.0</td>\n",
       "      <td>26.758489</td>\n",
       "      <td>186.609895</td>\n",
       "      <td>0.000000</td>\n",
       "      <td>1885.340368</td>\n",
       "      <td>0.184438</td>\n",
       "    </tr>\n",
       "    <tr>\n",
       "      <th>2</th>\n",
       "      <td>68</td>\n",
       "      <td>0068-3.jpg</td>\n",
       "      <td>1</td>\n",
       "      <td>1</td>\n",
       "      <td>F</td>\n",
       "      <td>L</td>\n",
       "      <td>28</td>\n",
       "      <td>1740.390711</td>\n",
       "      <td>4260.973134</td>\n",
       "      <td>33632.95400</td>\n",
       "      <td>0.0</td>\n",
       "      <td>30.973944</td>\n",
       "      <td>183.868389</td>\n",
       "      <td>0.006510</td>\n",
       "      <td>2197.159165</td>\n",
       "      <td>0.181287</td>\n",
       "    </tr>\n",
       "    <tr>\n",
       "      <th>3</th>\n",
       "      <td>68</td>\n",
       "      <td>0068-4.jpg</td>\n",
       "      <td>1</td>\n",
       "      <td>1</td>\n",
       "      <td>F</td>\n",
       "      <td>L</td>\n",
       "      <td>28</td>\n",
       "      <td>2047.900847</td>\n",
       "      <td>4286.241318</td>\n",
       "      <td>32412.94476</td>\n",
       "      <td>0.0</td>\n",
       "      <td>28.165933</td>\n",
       "      <td>186.055214</td>\n",
       "      <td>0.025942</td>\n",
       "      <td>1875.711604</td>\n",
       "      <td>0.193084</td>\n",
       "    </tr>\n",
       "    <tr>\n",
       "      <th>4</th>\n",
       "      <td>92</td>\n",
       "      <td>0092-1.jpg</td>\n",
       "      <td>2</td>\n",
       "      <td>1</td>\n",
       "      <td>M</td>\n",
       "      <td>R</td>\n",
       "      <td>37</td>\n",
       "      <td>2059.220895</td>\n",
       "      <td>4733.016802</td>\n",
       "      <td>35437.08102</td>\n",
       "      <td>0.0</td>\n",
       "      <td>22.091342</td>\n",
       "      <td>186.092103</td>\n",
       "      <td>0.000000</td>\n",
       "      <td>1625.325851</td>\n",
       "      <td>0.193642</td>\n",
       "    </tr>\n",
       "  </tbody>\n",
       "</table>\n",
       "</div>"
      ],
      "text/plain": [
       "   _ID_EXAM  IMAGE_NAME  ID_PATIENT  CLASS_TYPE GENDER RIGH/LEFT-HANDED  AGE  \\\n",
       "0        68  0068-1.jpg           1           1      F                L   28   \n",
       "1        68  0068-2.jpg           1           1      F                L   28   \n",
       "2        68  0068-3.jpg           1           1      F                L   28   \n",
       "3        68  0068-4.jpg           1           1      F                L   28   \n",
       "4        92  0092-1.jpg           2           1      M                R   37   \n",
       "\n",
       "           RMS  MAX_BETWEEN_ET_HT  MIN_BETWEEN_ET_HT  STD_DEVIATION_ET_HT  \\\n",
       "0  2446.759108        5388.771096        33435.39545                  0.0   \n",
       "1  2159.220559        4617.939790        34428.29401                  0.0   \n",
       "2  1740.390711        4260.973134        33632.95400                  0.0   \n",
       "3  2047.900847        4286.241318        32412.94476                  0.0   \n",
       "4  2059.220895        4733.016802        35437.08102                  0.0   \n",
       "\n",
       "         MRT      MAX_HT    MIN_HT       STD_HT  \\\n",
       "0  26.849731  183.854351  0.017068  1779.550502   \n",
       "1  26.758489  186.609895  0.000000  1885.340368   \n",
       "2  30.973944  183.868389  0.006510  2197.159165   \n",
       "3  28.165933  186.055214  0.025942  1875.711604   \n",
       "4  22.091342  186.092103  0.000000  1625.325851   \n",
       "\n",
       "   CHANGES_FROM_NEGATIVE_TO_POSITIVE_BETWEEN_ET_HT  \n",
       "0                                         0.216138  \n",
       "1                                         0.184438  \n",
       "2                                         0.181287  \n",
       "3                                         0.193084  \n",
       "4                                         0.193642  "
      ]
     },
     "execution_count": 5,
     "metadata": {},
     "output_type": "execute_result"
    }
   ],
   "source": [
    "df.head()"
   ]
  },
  {
   "cell_type": "code",
   "execution_count": 6,
   "metadata": {},
   "outputs": [
    {
     "data": {
      "text/plain": [
       "Index(['_ID_EXAM', 'IMAGE_NAME', 'ID_PATIENT', 'CLASS_TYPE', 'GENDER',\n",
       "       'RIGH/LEFT-HANDED', 'AGE', 'RMS', 'MAX_BETWEEN_ET_HT',\n",
       "       'MIN_BETWEEN_ET_HT', 'STD_DEVIATION_ET_HT', 'MRT', 'MAX_HT', 'MIN_HT',\n",
       "       'STD_HT', 'CHANGES_FROM_NEGATIVE_TO_POSITIVE_BETWEEN_ET_HT'],\n",
       "      dtype='object')"
      ]
     },
     "execution_count": 6,
     "metadata": {},
     "output_type": "execute_result"
    }
   ],
   "source": [
    "df.columns"
   ]
  },
  {
   "cell_type": "code",
   "execution_count": 7,
   "metadata": {},
   "outputs": [],
   "source": [
    "df=df.rename(columns={\"CHANGES_FROM_NEGATIVE_TO_POSITIVE_BETWEEN_ET_HT\": \"change\", \"MAX_BETWEEN_ET_HT\": \"MB\",'MIN_BETWEEN_ET_HT':'MINB'})"
   ]
  },
  {
   "cell_type": "code",
   "execution_count": 8,
   "metadata": {},
   "outputs": [
    {
     "data": {
      "text/html": [
       "<div>\n",
       "<style scoped>\n",
       "    .dataframe tbody tr th:only-of-type {\n",
       "        vertical-align: middle;\n",
       "    }\n",
       "\n",
       "    .dataframe tbody tr th {\n",
       "        vertical-align: top;\n",
       "    }\n",
       "\n",
       "    .dataframe thead th {\n",
       "        text-align: right;\n",
       "    }\n",
       "</style>\n",
       "<table border=\"1\" class=\"dataframe\">\n",
       "  <thead>\n",
       "    <tr style=\"text-align: right;\">\n",
       "      <th></th>\n",
       "      <th>_ID_EXAM</th>\n",
       "      <th>IMAGE_NAME</th>\n",
       "      <th>ID_PATIENT</th>\n",
       "      <th>CLASS_TYPE</th>\n",
       "      <th>GENDER</th>\n",
       "      <th>RIGH/LEFT-HANDED</th>\n",
       "      <th>AGE</th>\n",
       "      <th>RMS</th>\n",
       "      <th>MB</th>\n",
       "      <th>MINB</th>\n",
       "      <th>STD_DEVIATION_ET_HT</th>\n",
       "      <th>MRT</th>\n",
       "      <th>MAX_HT</th>\n",
       "      <th>MIN_HT</th>\n",
       "      <th>STD_HT</th>\n",
       "      <th>change</th>\n",
       "    </tr>\n",
       "  </thead>\n",
       "  <tbody>\n",
       "    <tr>\n",
       "      <th>0</th>\n",
       "      <td>68</td>\n",
       "      <td>0068-1.jpg</td>\n",
       "      <td>1</td>\n",
       "      <td>1</td>\n",
       "      <td>F</td>\n",
       "      <td>L</td>\n",
       "      <td>28</td>\n",
       "      <td>2446.759108</td>\n",
       "      <td>5388.771096</td>\n",
       "      <td>33435.39545</td>\n",
       "      <td>0.000000</td>\n",
       "      <td>26.849731</td>\n",
       "      <td>183.854351</td>\n",
       "      <td>0.017068</td>\n",
       "      <td>1779.550502</td>\n",
       "      <td>0.216138</td>\n",
       "    </tr>\n",
       "    <tr>\n",
       "      <th>1</th>\n",
       "      <td>68</td>\n",
       "      <td>0068-2.jpg</td>\n",
       "      <td>1</td>\n",
       "      <td>1</td>\n",
       "      <td>F</td>\n",
       "      <td>L</td>\n",
       "      <td>28</td>\n",
       "      <td>2159.220559</td>\n",
       "      <td>4617.939790</td>\n",
       "      <td>34428.29401</td>\n",
       "      <td>0.000000</td>\n",
       "      <td>26.758489</td>\n",
       "      <td>186.609895</td>\n",
       "      <td>0.000000</td>\n",
       "      <td>1885.340368</td>\n",
       "      <td>0.184438</td>\n",
       "    </tr>\n",
       "    <tr>\n",
       "      <th>2</th>\n",
       "      <td>68</td>\n",
       "      <td>0068-3.jpg</td>\n",
       "      <td>1</td>\n",
       "      <td>1</td>\n",
       "      <td>F</td>\n",
       "      <td>L</td>\n",
       "      <td>28</td>\n",
       "      <td>1740.390711</td>\n",
       "      <td>4260.973134</td>\n",
       "      <td>33632.95400</td>\n",
       "      <td>0.000000</td>\n",
       "      <td>30.973944</td>\n",
       "      <td>183.868389</td>\n",
       "      <td>0.006510</td>\n",
       "      <td>2197.159165</td>\n",
       "      <td>0.181287</td>\n",
       "    </tr>\n",
       "    <tr>\n",
       "      <th>3</th>\n",
       "      <td>68</td>\n",
       "      <td>0068-4.jpg</td>\n",
       "      <td>1</td>\n",
       "      <td>1</td>\n",
       "      <td>F</td>\n",
       "      <td>L</td>\n",
       "      <td>28</td>\n",
       "      <td>2047.900847</td>\n",
       "      <td>4286.241318</td>\n",
       "      <td>32412.94476</td>\n",
       "      <td>0.000000</td>\n",
       "      <td>28.165933</td>\n",
       "      <td>186.055214</td>\n",
       "      <td>0.025942</td>\n",
       "      <td>1875.711604</td>\n",
       "      <td>0.193084</td>\n",
       "    </tr>\n",
       "    <tr>\n",
       "      <th>4</th>\n",
       "      <td>92</td>\n",
       "      <td>0092-1.jpg</td>\n",
       "      <td>2</td>\n",
       "      <td>1</td>\n",
       "      <td>M</td>\n",
       "      <td>R</td>\n",
       "      <td>37</td>\n",
       "      <td>2059.220895</td>\n",
       "      <td>4733.016802</td>\n",
       "      <td>35437.08102</td>\n",
       "      <td>0.000000</td>\n",
       "      <td>22.091342</td>\n",
       "      <td>186.092103</td>\n",
       "      <td>0.000000</td>\n",
       "      <td>1625.325851</td>\n",
       "      <td>0.193642</td>\n",
       "    </tr>\n",
       "    <tr>\n",
       "      <th>...</th>\n",
       "      <td>...</td>\n",
       "      <td>...</td>\n",
       "      <td>...</td>\n",
       "      <td>...</td>\n",
       "      <td>...</td>\n",
       "      <td>...</td>\n",
       "      <td>...</td>\n",
       "      <td>...</td>\n",
       "      <td>...</td>\n",
       "      <td>...</td>\n",
       "      <td>...</td>\n",
       "      <td>...</td>\n",
       "      <td>...</td>\n",
       "      <td>...</td>\n",
       "      <td>...</td>\n",
       "      <td>...</td>\n",
       "    </tr>\n",
       "    <tr>\n",
       "      <th>363</th>\n",
       "      <td>280</td>\n",
       "      <td>0280-4.jpg</td>\n",
       "      <td>37</td>\n",
       "      <td>2</td>\n",
       "      <td>F</td>\n",
       "      <td>R</td>\n",
       "      <td>48</td>\n",
       "      <td>2039.823766</td>\n",
       "      <td>4944.046221</td>\n",
       "      <td>30388.84930</td>\n",
       "      <td>0.000000</td>\n",
       "      <td>27.228070</td>\n",
       "      <td>178.353032</td>\n",
       "      <td>0.004251</td>\n",
       "      <td>1868.470649</td>\n",
       "      <td>0.228324</td>\n",
       "    </tr>\n",
       "    <tr>\n",
       "      <th>364</th>\n",
       "      <td>281</td>\n",
       "      <td>0281-1.jpg</td>\n",
       "      <td>37</td>\n",
       "      <td>2</td>\n",
       "      <td>F</td>\n",
       "      <td>R</td>\n",
       "      <td>48</td>\n",
       "      <td>2715.627021</td>\n",
       "      <td>5041.351713</td>\n",
       "      <td>33454.58757</td>\n",
       "      <td>0.000000</td>\n",
       "      <td>26.082566</td>\n",
       "      <td>174.325942</td>\n",
       "      <td>0.015258</td>\n",
       "      <td>1644.498211</td>\n",
       "      <td>0.241983</td>\n",
       "    </tr>\n",
       "    <tr>\n",
       "      <th>365</th>\n",
       "      <td>281</td>\n",
       "      <td>0281-2.jpg</td>\n",
       "      <td>37</td>\n",
       "      <td>2</td>\n",
       "      <td>F</td>\n",
       "      <td>R</td>\n",
       "      <td>48</td>\n",
       "      <td>2823.998044</td>\n",
       "      <td>5312.964592</td>\n",
       "      <td>33059.10620</td>\n",
       "      <td>0.000158</td>\n",
       "      <td>23.998329</td>\n",
       "      <td>176.392744</td>\n",
       "      <td>0.008650</td>\n",
       "      <td>1662.089697</td>\n",
       "      <td>0.202381</td>\n",
       "    </tr>\n",
       "    <tr>\n",
       "      <th>366</th>\n",
       "      <td>281</td>\n",
       "      <td>0281-3.jpg</td>\n",
       "      <td>37</td>\n",
       "      <td>2</td>\n",
       "      <td>F</td>\n",
       "      <td>R</td>\n",
       "      <td>48</td>\n",
       "      <td>3395.235689</td>\n",
       "      <td>5991.256129</td>\n",
       "      <td>33519.20482</td>\n",
       "      <td>0.071435</td>\n",
       "      <td>24.043919</td>\n",
       "      <td>170.936138</td>\n",
       "      <td>0.026558</td>\n",
       "      <td>1569.501437</td>\n",
       "      <td>0.229851</td>\n",
       "    </tr>\n",
       "    <tr>\n",
       "      <th>367</th>\n",
       "      <td>281</td>\n",
       "      <td>0281-4.jpg</td>\n",
       "      <td>37</td>\n",
       "      <td>2</td>\n",
       "      <td>F</td>\n",
       "      <td>R</td>\n",
       "      <td>48</td>\n",
       "      <td>2629.345321</td>\n",
       "      <td>5541.476611</td>\n",
       "      <td>32460.75711</td>\n",
       "      <td>0.000000</td>\n",
       "      <td>32.167484</td>\n",
       "      <td>178.075618</td>\n",
       "      <td>0.006576</td>\n",
       "      <td>2138.606419</td>\n",
       "      <td>0.214493</td>\n",
       "    </tr>\n",
       "  </tbody>\n",
       "</table>\n",
       "<p>368 rows × 16 columns</p>\n",
       "</div>"
      ],
      "text/plain": [
       "     _ID_EXAM  IMAGE_NAME  ID_PATIENT  CLASS_TYPE GENDER RIGH/LEFT-HANDED  \\\n",
       "0          68  0068-1.jpg           1           1      F                L   \n",
       "1          68  0068-2.jpg           1           1      F                L   \n",
       "2          68  0068-3.jpg           1           1      F                L   \n",
       "3          68  0068-4.jpg           1           1      F                L   \n",
       "4          92  0092-1.jpg           2           1      M                R   \n",
       "..        ...         ...         ...         ...    ...              ...   \n",
       "363       280  0280-4.jpg          37           2      F                R   \n",
       "364       281  0281-1.jpg          37           2      F                R   \n",
       "365       281  0281-2.jpg          37           2      F                R   \n",
       "366       281  0281-3.jpg          37           2      F                R   \n",
       "367       281  0281-4.jpg          37           2      F                R   \n",
       "\n",
       "     AGE          RMS           MB         MINB  STD_DEVIATION_ET_HT  \\\n",
       "0     28  2446.759108  5388.771096  33435.39545             0.000000   \n",
       "1     28  2159.220559  4617.939790  34428.29401             0.000000   \n",
       "2     28  1740.390711  4260.973134  33632.95400             0.000000   \n",
       "3     28  2047.900847  4286.241318  32412.94476             0.000000   \n",
       "4     37  2059.220895  4733.016802  35437.08102             0.000000   \n",
       "..   ...          ...          ...          ...                  ...   \n",
       "363   48  2039.823766  4944.046221  30388.84930             0.000000   \n",
       "364   48  2715.627021  5041.351713  33454.58757             0.000000   \n",
       "365   48  2823.998044  5312.964592  33059.10620             0.000158   \n",
       "366   48  3395.235689  5991.256129  33519.20482             0.071435   \n",
       "367   48  2629.345321  5541.476611  32460.75711             0.000000   \n",
       "\n",
       "           MRT      MAX_HT    MIN_HT       STD_HT    change  \n",
       "0    26.849731  183.854351  0.017068  1779.550502  0.216138  \n",
       "1    26.758489  186.609895  0.000000  1885.340368  0.184438  \n",
       "2    30.973944  183.868389  0.006510  2197.159165  0.181287  \n",
       "3    28.165933  186.055214  0.025942  1875.711604  0.193084  \n",
       "4    22.091342  186.092103  0.000000  1625.325851  0.193642  \n",
       "..         ...         ...       ...          ...       ...  \n",
       "363  27.228070  178.353032  0.004251  1868.470649  0.228324  \n",
       "364  26.082566  174.325942  0.015258  1644.498211  0.241983  \n",
       "365  23.998329  176.392744  0.008650  1662.089697  0.202381  \n",
       "366  24.043919  170.936138  0.026558  1569.501437  0.229851  \n",
       "367  32.167484  178.075618  0.006576  2138.606419  0.214493  \n",
       "\n",
       "[368 rows x 16 columns]"
      ]
     },
     "execution_count": 8,
     "metadata": {},
     "output_type": "execute_result"
    }
   ],
   "source": [
    "df"
   ]
  },
  {
   "cell_type": "code",
   "execution_count": 9,
   "metadata": {},
   "outputs": [],
   "source": [
    "df=df[[ 'CLASS_TYPE', 'GENDER','RIGH/LEFT-HANDED', 'AGE', 'RMS', 'MB', 'MINB', 'STD_DEVIATION_ET_HT',\n",
    "       'MRT', 'MAX_HT', 'MIN_HT', 'STD_HT', 'change']]"
   ]
  },
  {
   "cell_type": "code",
   "execution_count": 10,
   "metadata": {},
   "outputs": [
    {
     "data": {
      "text/html": [
       "<div>\n",
       "<style scoped>\n",
       "    .dataframe tbody tr th:only-of-type {\n",
       "        vertical-align: middle;\n",
       "    }\n",
       "\n",
       "    .dataframe tbody tr th {\n",
       "        vertical-align: top;\n",
       "    }\n",
       "\n",
       "    .dataframe thead th {\n",
       "        text-align: right;\n",
       "    }\n",
       "</style>\n",
       "<table border=\"1\" class=\"dataframe\">\n",
       "  <thead>\n",
       "    <tr style=\"text-align: right;\">\n",
       "      <th></th>\n",
       "      <th>CLASS_TYPE</th>\n",
       "      <th>GENDER</th>\n",
       "      <th>RIGH/LEFT-HANDED</th>\n",
       "      <th>AGE</th>\n",
       "      <th>RMS</th>\n",
       "      <th>MB</th>\n",
       "      <th>MINB</th>\n",
       "      <th>STD_DEVIATION_ET_HT</th>\n",
       "      <th>MRT</th>\n",
       "      <th>MAX_HT</th>\n",
       "      <th>MIN_HT</th>\n",
       "      <th>STD_HT</th>\n",
       "      <th>change</th>\n",
       "    </tr>\n",
       "  </thead>\n",
       "  <tbody>\n",
       "    <tr>\n",
       "      <th>0</th>\n",
       "      <td>1</td>\n",
       "      <td>F</td>\n",
       "      <td>L</td>\n",
       "      <td>28</td>\n",
       "      <td>2446.759108</td>\n",
       "      <td>5388.771096</td>\n",
       "      <td>33435.39545</td>\n",
       "      <td>0.0</td>\n",
       "      <td>26.849731</td>\n",
       "      <td>183.854351</td>\n",
       "      <td>0.017068</td>\n",
       "      <td>1779.550502</td>\n",
       "      <td>0.216138</td>\n",
       "    </tr>\n",
       "    <tr>\n",
       "      <th>1</th>\n",
       "      <td>1</td>\n",
       "      <td>F</td>\n",
       "      <td>L</td>\n",
       "      <td>28</td>\n",
       "      <td>2159.220559</td>\n",
       "      <td>4617.939790</td>\n",
       "      <td>34428.29401</td>\n",
       "      <td>0.0</td>\n",
       "      <td>26.758489</td>\n",
       "      <td>186.609895</td>\n",
       "      <td>0.000000</td>\n",
       "      <td>1885.340368</td>\n",
       "      <td>0.184438</td>\n",
       "    </tr>\n",
       "    <tr>\n",
       "      <th>2</th>\n",
       "      <td>1</td>\n",
       "      <td>F</td>\n",
       "      <td>L</td>\n",
       "      <td>28</td>\n",
       "      <td>1740.390711</td>\n",
       "      <td>4260.973134</td>\n",
       "      <td>33632.95400</td>\n",
       "      <td>0.0</td>\n",
       "      <td>30.973944</td>\n",
       "      <td>183.868389</td>\n",
       "      <td>0.006510</td>\n",
       "      <td>2197.159165</td>\n",
       "      <td>0.181287</td>\n",
       "    </tr>\n",
       "    <tr>\n",
       "      <th>3</th>\n",
       "      <td>1</td>\n",
       "      <td>F</td>\n",
       "      <td>L</td>\n",
       "      <td>28</td>\n",
       "      <td>2047.900847</td>\n",
       "      <td>4286.241318</td>\n",
       "      <td>32412.94476</td>\n",
       "      <td>0.0</td>\n",
       "      <td>28.165933</td>\n",
       "      <td>186.055214</td>\n",
       "      <td>0.025942</td>\n",
       "      <td>1875.711604</td>\n",
       "      <td>0.193084</td>\n",
       "    </tr>\n",
       "    <tr>\n",
       "      <th>4</th>\n",
       "      <td>1</td>\n",
       "      <td>M</td>\n",
       "      <td>R</td>\n",
       "      <td>37</td>\n",
       "      <td>2059.220895</td>\n",
       "      <td>4733.016802</td>\n",
       "      <td>35437.08102</td>\n",
       "      <td>0.0</td>\n",
       "      <td>22.091342</td>\n",
       "      <td>186.092103</td>\n",
       "      <td>0.000000</td>\n",
       "      <td>1625.325851</td>\n",
       "      <td>0.193642</td>\n",
       "    </tr>\n",
       "  </tbody>\n",
       "</table>\n",
       "</div>"
      ],
      "text/plain": [
       "   CLASS_TYPE GENDER RIGH/LEFT-HANDED  AGE          RMS           MB  \\\n",
       "0           1      F                L   28  2446.759108  5388.771096   \n",
       "1           1      F                L   28  2159.220559  4617.939790   \n",
       "2           1      F                L   28  1740.390711  4260.973134   \n",
       "3           1      F                L   28  2047.900847  4286.241318   \n",
       "4           1      M                R   37  2059.220895  4733.016802   \n",
       "\n",
       "          MINB  STD_DEVIATION_ET_HT        MRT      MAX_HT    MIN_HT  \\\n",
       "0  33435.39545                  0.0  26.849731  183.854351  0.017068   \n",
       "1  34428.29401                  0.0  26.758489  186.609895  0.000000   \n",
       "2  33632.95400                  0.0  30.973944  183.868389  0.006510   \n",
       "3  32412.94476                  0.0  28.165933  186.055214  0.025942   \n",
       "4  35437.08102                  0.0  22.091342  186.092103  0.000000   \n",
       "\n",
       "        STD_HT    change  \n",
       "0  1779.550502  0.216138  \n",
       "1  1885.340368  0.184438  \n",
       "2  2197.159165  0.181287  \n",
       "3  1875.711604  0.193084  \n",
       "4  1625.325851  0.193642  "
      ]
     },
     "execution_count": 10,
     "metadata": {},
     "output_type": "execute_result"
    }
   ],
   "source": [
    "df.head()"
   ]
  },
  {
   "cell_type": "markdown",
   "metadata": {},
   "source": [
    "## Exploratory Data Analysis"
   ]
  },
  {
   "cell_type": "code",
   "execution_count": 11,
   "metadata": {},
   "outputs": [
    {
     "data": {
      "text/plain": [
       "<Figure size 1500x1200 with 2 Axes>"
      ]
     },
     "metadata": {},
     "output_type": "display_data"
    }
   ],
   "source": [
    "from matplotlib import pyplot as plt\n",
    "import seaborn as sns\n",
    "corr=df.corr()\n",
    "plt.figure(figsize=(15,12))\n",
    "\n",
    "sns.heatmap(corr)\n",
    "\n",
    "plt.show()"
   ]
  },
  {
   "cell_type": "markdown",
   "metadata": {},
   "source": [
    "#### No two features are very correlated, and thus all features are retained."
   ]
  },
  {
   "cell_type": "code",
   "execution_count": 356,
   "metadata": {},
   "outputs": [],
   "source": [
    "g=df.groupby('CLASS_TYPE')"
   ]
  },
  {
   "cell_type": "code",
   "execution_count": 357,
   "metadata": {},
   "outputs": [
    {
     "data": {
      "text/plain": [
       "<matplotlib.axes._subplots.AxesSubplot at 0x1e341e41128>"
      ]
     },
     "execution_count": 357,
     "metadata": {},
     "output_type": "execute_result"
    },
    {
     "data": {
      "image/png": "[encoded data removed]",
      "text/plain": [
       "<Figure size 432x288 with 1 Axes>"
      ]
     },
     "metadata": {
      "needs_background": "light"
     },
     "output_type": "display_data"
    }
   ],
   "source": [
    "sns.boxplot(df['CLASS_TYPE'],df['change'])"
   ]
  },
  {
   "cell_type": "code",
   "execution_count": 358,
   "metadata": {},
   "outputs": [
    {
     "data": {
      "text/plain": [
       "<matplotlib.axes._subplots.AxesSubplot at 0x1e3402187b8>"
      ]
     },
     "execution_count": 358,
     "metadata": {},
     "output_type": "execute_result"
    },
    {
     "data": {
      "image/png": "[encoded data removed]",
      "text/plain": [
       "<Figure size 432x288 with 1 Axes>"
      ]
     },
     "metadata": {
      "needs_background": "light"
     },
     "output_type": "display_data"
    }
   ],
   "source": [
    "sns.boxplot(df['CLASS_TYPE'],df['RMS'])"
   ]
  },
  {
   "cell_type": "markdown",
   "metadata": {},
   "source": [
    "### Label Encoding"
   ]
  },
  {
   "cell_type": "code",
   "execution_count": 359,
   "metadata": {},
   "outputs": [
    {
     "name": "stderr",
     "output_type": "stream",
     "text": [
      "C:\\ProgramData\\Anaconda3\\lib\\site-packages\\ipykernel_launcher.py:4: SettingWithCopyWarning: \n",
      "A value is trying to be set on a copy of a slice from a DataFrame.\n",
      "Try using .loc[row_indexer,col_indexer] = value instead\n",
      "\n",
      "See the caveats in the documentation: https://pandas.pydata.org/pandas-docs/stable/user_guide/indexing.html#returning-a-view-versus-a-copy\n",
      "  after removing the cwd from sys.path.\n",
      "C:\\ProgramData\\Anaconda3\\lib\\site-packages\\ipykernel_launcher.py:5: SettingWithCopyWarning: \n",
      "A value is trying to be set on a copy of a slice from a DataFrame.\n",
      "Try using .loc[row_indexer,col_indexer] = value instead\n",
      "\n",
      "See the caveats in the documentation: https://pandas.pydata.org/pandas-docs/stable/user_guide/indexing.html#returning-a-view-versus-a-copy\n",
      "  \"\"\"\n"
     ]
    }
   ],
   "source": [
    "#Converts all the categorical data to numerical values\n",
    "from sklearn.preprocessing import LabelEncoder\n",
    "le=LabelEncoder()\n",
    "df['GENDER']=le.fit_transform(df['GENDER'])\n",
    "df['RIGH/LEFT-HANDED']=le.fit_transform(df['RIGH/LEFT-HANDED'])"
   ]
  },
  {
   "cell_type": "code",
   "execution_count": 360,
   "metadata": {},
   "outputs": [],
   "source": [
    "Y=df['CLASS_TYPE']"
   ]
  },
  {
   "cell_type": "code",
   "execution_count": 361,
   "metadata": {},
   "outputs": [],
   "source": [
    "X=df.loc[:, df.columns !='CLASS_TYPE']"
   ]
  },
  {
   "cell_type": "code",
   "execution_count": 362,
   "metadata": {},
   "outputs": [
    {
     "data": {
      "text/html": [
       "<div>\n",
       "<style scoped>\n",
       "    .dataframe tbody tr th:only-of-type {\n",
       "        vertical-align: middle;\n",
       "    }\n",
       "\n",
       "    .dataframe tbody tr th {\n",
       "        vertical-align: top;\n",
       "    }\n",
       "\n",
       "    .dataframe thead th {\n",
       "        text-align: right;\n",
       "    }\n",
       "</style>\n",
       "<table border=\"1\" class=\"dataframe\">\n",
       "  <thead>\n",
       "    <tr style=\"text-align: right;\">\n",
       "      <th></th>\n",
       "      <th>GENDER</th>\n",
       "      <th>RIGH/LEFT-HANDED</th>\n",
       "      <th>AGE</th>\n",
       "      <th>RMS</th>\n",
       "      <th>MB</th>\n",
       "      <th>MINB</th>\n",
       "      <th>STD_DEVIATION_ET_HT</th>\n",
       "      <th>MRT</th>\n",
       "      <th>MAX_HT</th>\n",
       "      <th>MIN_HT</th>\n",
       "      <th>STD_HT</th>\n",
       "      <th>change</th>\n",
       "    </tr>\n",
       "  </thead>\n",
       "  <tbody>\n",
       "    <tr>\n",
       "      <th>count</th>\n",
       "      <td>368.000000</td>\n",
       "      <td>368.000000</td>\n",
       "      <td>368.000000</td>\n",
       "      <td>368.000000</td>\n",
       "      <td>368.000000</td>\n",
       "      <td>368.000000</td>\n",
       "      <td>368.000000</td>\n",
       "      <td>368.000000</td>\n",
       "      <td>368.000000</td>\n",
       "      <td>368.000000</td>\n",
       "      <td>368.000000</td>\n",
       "      <td>368.000000</td>\n",
       "    </tr>\n",
       "    <tr>\n",
       "      <th>mean</th>\n",
       "      <td>0.608696</td>\n",
       "      <td>0.934783</td>\n",
       "      <td>55.630435</td>\n",
       "      <td>2270.185566</td>\n",
       "      <td>4655.817222</td>\n",
       "      <td>31814.991755</td>\n",
       "      <td>0.356294</td>\n",
       "      <td>24.857421</td>\n",
       "      <td>179.174107</td>\n",
       "      <td>0.012933</td>\n",
       "      <td>1652.280165</td>\n",
       "      <td>0.190768</td>\n",
       "    </tr>\n",
       "    <tr>\n",
       "      <th>std</th>\n",
       "      <td>0.488707</td>\n",
       "      <td>0.247245</td>\n",
       "      <td>11.744526</td>\n",
       "      <td>595.123226</td>\n",
       "      <td>823.967869</td>\n",
       "      <td>3714.426450</td>\n",
       "      <td>3.362279</td>\n",
       "      <td>2.904579</td>\n",
       "      <td>5.655707</td>\n",
       "      <td>0.015614</td>\n",
       "      <td>218.212572</td>\n",
       "      <td>0.034487</td>\n",
       "    </tr>\n",
       "    <tr>\n",
       "      <th>min</th>\n",
       "      <td>0.000000</td>\n",
       "      <td>0.000000</td>\n",
       "      <td>19.000000</td>\n",
       "      <td>1149.453428</td>\n",
       "      <td>3026.734118</td>\n",
       "      <td>12021.729690</td>\n",
       "      <td>0.000000</td>\n",
       "      <td>17.520778</td>\n",
       "      <td>162.410537</td>\n",
       "      <td>0.000000</td>\n",
       "      <td>1110.767518</td>\n",
       "      <td>0.080925</td>\n",
       "    </tr>\n",
       "    <tr>\n",
       "      <th>25%</th>\n",
       "      <td>0.000000</td>\n",
       "      <td>1.000000</td>\n",
       "      <td>52.000000</td>\n",
       "      <td>1857.323506</td>\n",
       "      <td>4104.916256</td>\n",
       "      <td>30318.196730</td>\n",
       "      <td>0.000000</td>\n",
       "      <td>22.965599</td>\n",
       "      <td>175.298802</td>\n",
       "      <td>0.000000</td>\n",
       "      <td>1485.222378</td>\n",
       "      <td>0.168483</td>\n",
       "    </tr>\n",
       "    <tr>\n",
       "      <th>50%</th>\n",
       "      <td>1.000000</td>\n",
       "      <td>1.000000</td>\n",
       "      <td>57.000000</td>\n",
       "      <td>2137.835429</td>\n",
       "      <td>4534.277453</td>\n",
       "      <td>31910.524955</td>\n",
       "      <td>0.000000</td>\n",
       "      <td>24.550035</td>\n",
       "      <td>179.521660</td>\n",
       "      <td>0.008539</td>\n",
       "      <td>1641.108043</td>\n",
       "      <td>0.190616</td>\n",
       "    </tr>\n",
       "    <tr>\n",
       "      <th>75%</th>\n",
       "      <td>1.000000</td>\n",
       "      <td>1.000000</td>\n",
       "      <td>63.000000</td>\n",
       "      <td>2515.601624</td>\n",
       "      <td>5064.162306</td>\n",
       "      <td>33683.125508</td>\n",
       "      <td>0.006597</td>\n",
       "      <td>26.459068</td>\n",
       "      <td>183.218993</td>\n",
       "      <td>0.019617</td>\n",
       "      <td>1809.679931</td>\n",
       "      <td>0.210413</td>\n",
       "    </tr>\n",
       "    <tr>\n",
       "      <th>max</th>\n",
       "      <td>1.000000</td>\n",
       "      <td>1.000000</td>\n",
       "      <td>79.000000</td>\n",
       "      <td>5094.404297</td>\n",
       "      <td>7480.764160</td>\n",
       "      <td>47688.289020</td>\n",
       "      <td>61.262583</td>\n",
       "      <td>35.752336</td>\n",
       "      <td>203.759111</td>\n",
       "      <td>0.113909</td>\n",
       "      <td>2280.436125</td>\n",
       "      <td>0.309249</td>\n",
       "    </tr>\n",
       "  </tbody>\n",
       "</table>\n",
       "</div>"
      ],
      "text/plain": [
       "           GENDER  RIGH/LEFT-HANDED         AGE          RMS           MB  \\\n",
       "count  368.000000        368.000000  368.000000   368.000000   368.000000   \n",
       "mean     0.608696          0.934783   55.630435  2270.185566  4655.817222   \n",
       "std      0.488707          0.247245   11.744526   595.123226   823.967869   \n",
       "min      0.000000          0.000000   19.000000  1149.453428  3026.734118   \n",
       "25%      0.000000          1.000000   52.000000  1857.323506  4104.916256   \n",
       "50%      1.000000          1.000000   57.000000  2137.835429  4534.277453   \n",
       "75%      1.000000          1.000000   63.000000  2515.601624  5064.162306   \n",
       "max      1.000000          1.000000   79.000000  5094.404297  7480.764160   \n",
       "\n",
       "               MINB  STD_DEVIATION_ET_HT         MRT      MAX_HT      MIN_HT  \\\n",
       "count    368.000000           368.000000  368.000000  368.000000  368.000000   \n",
       "mean   31814.991755             0.356294   24.857421  179.174107    0.012933   \n",
       "std     3714.426450             3.362279    2.904579    5.655707    0.015614   \n",
       "min    12021.729690             0.000000   17.520778  162.410537    0.000000   \n",
       "25%    30318.196730             0.000000   22.965599  175.298802    0.000000   \n",
       "50%    31910.524955             0.000000   24.550035  179.521660    0.008539   \n",
       "75%    33683.125508             0.006597   26.459068  183.218993    0.019617   \n",
       "max    47688.289020            61.262583   35.752336  203.759111    0.113909   \n",
       "\n",
       "            STD_HT      change  \n",
       "count   368.000000  368.000000  \n",
       "mean   1652.280165    0.190768  \n",
       "std     218.212572    0.034487  \n",
       "min    1110.767518    0.080925  \n",
       "25%    1485.222378    0.168483  \n",
       "50%    1641.108043    0.190616  \n",
       "75%    1809.679931    0.210413  \n",
       "max    2280.436125    0.309249  "
      ]
     },
     "execution_count": 362,
     "metadata": {},
     "output_type": "execute_result"
    }
   ],
   "source": [
    "X.describe()"
   ]
  },
  {
   "cell_type": "code",
   "execution_count": 363,
   "metadata": {},
   "outputs": [
    {
     "data": {
      "text/html": [
       "<div>\n",
       "<style scoped>\n",
       "    .dataframe tbody tr th:only-of-type {\n",
       "        vertical-align: middle;\n",
       "    }\n",
       "\n",
       "    .dataframe tbody tr th {\n",
       "        vertical-align: top;\n",
       "    }\n",
       "\n",
       "    .dataframe thead th {\n",
       "        text-align: right;\n",
       "    }\n",
       "</style>\n",
       "<table border=\"1\" class=\"dataframe\">\n",
       "  <thead>\n",
       "    <tr style=\"text-align: right;\">\n",
       "      <th></th>\n",
       "      <th>GENDER</th>\n",
       "      <th>RIGH/LEFT-HANDED</th>\n",
       "      <th>AGE</th>\n",
       "      <th>RMS</th>\n",
       "      <th>MB</th>\n",
       "      <th>MINB</th>\n",
       "      <th>STD_DEVIATION_ET_HT</th>\n",
       "      <th>MRT</th>\n",
       "      <th>MAX_HT</th>\n",
       "      <th>MIN_HT</th>\n",
       "      <th>STD_HT</th>\n",
       "      <th>change</th>\n",
       "    </tr>\n",
       "  </thead>\n",
       "  <tbody>\n",
       "    <tr>\n",
       "      <th>0</th>\n",
       "      <td>0</td>\n",
       "      <td>0</td>\n",
       "      <td>28</td>\n",
       "      <td>2446.759108</td>\n",
       "      <td>5388.771096</td>\n",
       "      <td>33435.39545</td>\n",
       "      <td>0.0</td>\n",
       "      <td>26.849731</td>\n",
       "      <td>183.854351</td>\n",
       "      <td>0.017068</td>\n",
       "      <td>1779.550502</td>\n",
       "      <td>0.216138</td>\n",
       "    </tr>\n",
       "    <tr>\n",
       "      <th>1</th>\n",
       "      <td>0</td>\n",
       "      <td>0</td>\n",
       "      <td>28</td>\n",
       "      <td>2159.220559</td>\n",
       "      <td>4617.939790</td>\n",
       "      <td>34428.29401</td>\n",
       "      <td>0.0</td>\n",
       "      <td>26.758489</td>\n",
       "      <td>186.609895</td>\n",
       "      <td>0.000000</td>\n",
       "      <td>1885.340368</td>\n",
       "      <td>0.184438</td>\n",
       "    </tr>\n",
       "    <tr>\n",
       "      <th>2</th>\n",
       "      <td>0</td>\n",
       "      <td>0</td>\n",
       "      <td>28</td>\n",
       "      <td>1740.390711</td>\n",
       "      <td>4260.973134</td>\n",
       "      <td>33632.95400</td>\n",
       "      <td>0.0</td>\n",
       "      <td>30.973944</td>\n",
       "      <td>183.868389</td>\n",
       "      <td>0.006510</td>\n",
       "      <td>2197.159165</td>\n",
       "      <td>0.181287</td>\n",
       "    </tr>\n",
       "    <tr>\n",
       "      <th>3</th>\n",
       "      <td>0</td>\n",
       "      <td>0</td>\n",
       "      <td>28</td>\n",
       "      <td>2047.900847</td>\n",
       "      <td>4286.241318</td>\n",
       "      <td>32412.94476</td>\n",
       "      <td>0.0</td>\n",
       "      <td>28.165933</td>\n",
       "      <td>186.055214</td>\n",
       "      <td>0.025942</td>\n",
       "      <td>1875.711604</td>\n",
       "      <td>0.193084</td>\n",
       "    </tr>\n",
       "    <tr>\n",
       "      <th>4</th>\n",
       "      <td>1</td>\n",
       "      <td>1</td>\n",
       "      <td>37</td>\n",
       "      <td>2059.220895</td>\n",
       "      <td>4733.016802</td>\n",
       "      <td>35437.08102</td>\n",
       "      <td>0.0</td>\n",
       "      <td>22.091342</td>\n",
       "      <td>186.092103</td>\n",
       "      <td>0.000000</td>\n",
       "      <td>1625.325851</td>\n",
       "      <td>0.193642</td>\n",
       "    </tr>\n",
       "  </tbody>\n",
       "</table>\n",
       "</div>"
      ],
      "text/plain": [
       "   GENDER  RIGH/LEFT-HANDED  AGE          RMS           MB         MINB  \\\n",
       "0       0                 0   28  2446.759108  5388.771096  33435.39545   \n",
       "1       0                 0   28  2159.220559  4617.939790  34428.29401   \n",
       "2       0                 0   28  1740.390711  4260.973134  33632.95400   \n",
       "3       0                 0   28  2047.900847  4286.241318  32412.94476   \n",
       "4       1                 1   37  2059.220895  4733.016802  35437.08102   \n",
       "\n",
       "   STD_DEVIATION_ET_HT        MRT      MAX_HT    MIN_HT       STD_HT    change  \n",
       "0                  0.0  26.849731  183.854351  0.017068  1779.550502  0.216138  \n",
       "1                  0.0  26.758489  186.609895  0.000000  1885.340368  0.184438  \n",
       "2                  0.0  30.973944  183.868389  0.006510  2197.159165  0.181287  \n",
       "3                  0.0  28.165933  186.055214  0.025942  1875.711604  0.193084  \n",
       "4                  0.0  22.091342  186.092103  0.000000  1625.325851  0.193642  "
      ]
     },
     "execution_count": 363,
     "metadata": {},
     "output_type": "execute_result"
    }
   ],
   "source": [
    "X.head()"
   ]
  },
  {
   "cell_type": "code",
   "execution_count": 364,
   "metadata": {},
   "outputs": [
    {
     "data": {
      "text/plain": [
       "Counter({1: 72, 2: 296})"
      ]
     },
     "execution_count": 364,
     "metadata": {},
     "output_type": "execute_result"
    }
   ],
   "source": [
    "from collections import Counter\n",
    "Counter(Y)"
   ]
  },
  {
   "cell_type": "markdown",
   "metadata": {},
   "source": [
    "## Feature importance"
   ]
  },
  {
   "cell_type": "code",
   "execution_count": 365,
   "metadata": {},
   "outputs": [],
   "source": [
    "from sklearn.manifold import TSNE\n",
    "\n",
    "X_embedded = TSNE(n_components=2).fit_transform(X)"
   ]
  },
  {
   "cell_type": "code",
   "execution_count": 366,
   "metadata": {},
   "outputs": [
    {
     "data": {
      "image/png": "[encoded data removed]",
      "text/plain": [
       "<Figure size 432x288 with 1 Axes>"
      ]
     },
     "metadata": {
      "needs_background": "light"
     },
     "output_type": "display_data"
    }
   ],
   "source": [
    "for i, t in enumerate(set(Y)):\n",
    "    idx=Y==t\n",
    "    plt.scatter(X_embedded[idx, 0], X_embedded[idx, 1], label=t)   "
   ]
  },
  {
   "cell_type": "markdown",
   "metadata": {},
   "source": [
    "No clear cluster found"
   ]
  },
  {
   "cell_type": "markdown",
   "metadata": {},
   "source": [
    "### After Normalizing"
   ]
  },
  {
   "cell_type": "code",
   "execution_count": 367,
   "metadata": {},
   "outputs": [],
   "source": [
    "from sklearn import preprocessing\n",
    "\n",
    "min_max_scaler = preprocessing.MinMaxScaler()\n",
    "x_scaled = min_max_scaler.fit_transform(X)\n",
    "X_norm = pd.DataFrame(x_scaled)"
   ]
  },
  {
   "cell_type": "code",
   "execution_count": 368,
   "metadata": {},
   "outputs": [
    {
     "data": {
      "image/png": "[encoded data removed]",
      "text/plain": [
       "<Figure size 432x288 with 1 Axes>"
      ]
     },
     "metadata": {
      "needs_background": "light"
     },
     "output_type": "display_data"
    }
   ],
   "source": [
    "X_embedded = TSNE(n_components=2).fit_transform(X_norm)\n",
    "for i, t in enumerate(set(Y)):\n",
    "    idx=Y==t\n",
    "    plt.scatter(X_embedded[idx, 0], X_embedded[idx, 1], label=t)   "
   ]
  },
  {
   "cell_type": "markdown",
   "metadata": {},
   "source": [
    "### Feature importance with XGBoost"
   ]
  },
  {
   "cell_type": "code",
   "execution_count": 369,
   "metadata": {},
   "outputs": [
    {
     "name": "stdout",
     "output_type": "stream",
     "text": [
      "[23.90437    0.        27.451834   6.002178   4.2824883  7.057687\n",
      "  3.326995   5.626768   6.2310205  5.890479   4.1377273  6.088455 ]\n"
     ]
    }
   ],
   "source": [
    "from xgboost import XGBClassifier\n",
    "from matplotlib import pyplot\n",
    "\n",
    "model = XGBClassifier()\n",
    "model.fit(X, Y)\n",
    "\n",
    "print(model.feature_importances_*100)"
   ]
  },
  {
   "cell_type": "code",
   "execution_count": 370,
   "metadata": {},
   "outputs": [
    {
     "data": {
      "image/png": "[encoded data removed]",
      "text/plain": [
       "<Figure size 1296x360 with 1 Axes>"
      ]
     },
     "metadata": {
      "needs_background": "light"
     },
     "output_type": "display_data"
    }
   ],
   "source": [
    "from matplotlib.pyplot import figure\n",
    "figure(num=None, figsize=(18, 5))\n",
    "\n",
    "pyplot.bar(X.columns, model.feature_importances_)\n",
    "pyplot.show()"
   ]
  },
  {
   "cell_type": "code",
   "execution_count": 337,
   "metadata": {},
   "outputs": [
    {
     "data": {
      "text/html": [
       "<div>\n",
       "<style scoped>\n",
       "    .dataframe tbody tr th:only-of-type {\n",
       "        vertical-align: middle;\n",
       "    }\n",
       "\n",
       "    .dataframe tbody tr th {\n",
       "        vertical-align: top;\n",
       "    }\n",
       "\n",
       "    .dataframe thead th {\n",
       "        text-align: right;\n",
       "    }\n",
       "</style>\n",
       "<table border=\"1\" class=\"dataframe\">\n",
       "  <thead>\n",
       "    <tr style=\"text-align: right;\">\n",
       "      <th></th>\n",
       "      <th>0</th>\n",
       "      <th>1</th>\n",
       "      <th>2</th>\n",
       "      <th>3</th>\n",
       "      <th>4</th>\n",
       "      <th>5</th>\n",
       "      <th>6</th>\n",
       "      <th>7</th>\n",
       "      <th>8</th>\n",
       "      <th>9</th>\n",
       "      <th>10</th>\n",
       "      <th>11</th>\n",
       "    </tr>\n",
       "  </thead>\n",
       "  <tbody>\n",
       "    <tr>\n",
       "      <th>0</th>\n",
       "      <td>0.0</td>\n",
       "      <td>0.0</td>\n",
       "      <td>0.15</td>\n",
       "      <td>0.328852</td>\n",
       "      <td>0.530315</td>\n",
       "      <td>0.600385</td>\n",
       "      <td>0.0</td>\n",
       "      <td>0.511693</td>\n",
       "      <td>0.518611</td>\n",
       "      <td>0.149839</td>\n",
       "      <td>0.571771</td>\n",
       "      <td>0.592198</td>\n",
       "    </tr>\n",
       "    <tr>\n",
       "      <th>1</th>\n",
       "      <td>0.0</td>\n",
       "      <td>0.0</td>\n",
       "      <td>0.15</td>\n",
       "      <td>0.255964</td>\n",
       "      <td>0.357251</td>\n",
       "      <td>0.628223</td>\n",
       "      <td>0.0</td>\n",
       "      <td>0.506688</td>\n",
       "      <td>0.585253</td>\n",
       "      <td>0.000000</td>\n",
       "      <td>0.662216</td>\n",
       "      <td>0.453360</td>\n",
       "    </tr>\n",
       "    <tr>\n",
       "      <th>2</th>\n",
       "      <td>0.0</td>\n",
       "      <td>0.0</td>\n",
       "      <td>0.15</td>\n",
       "      <td>0.149796</td>\n",
       "      <td>0.277106</td>\n",
       "      <td>0.605924</td>\n",
       "      <td>0.0</td>\n",
       "      <td>0.737905</td>\n",
       "      <td>0.518950</td>\n",
       "      <td>0.057151</td>\n",
       "      <td>0.928803</td>\n",
       "      <td>0.439560</td>\n",
       "    </tr>\n",
       "    <tr>\n",
       "      <th>3</th>\n",
       "      <td>0.0</td>\n",
       "      <td>0.0</td>\n",
       "      <td>0.15</td>\n",
       "      <td>0.227746</td>\n",
       "      <td>0.282779</td>\n",
       "      <td>0.571718</td>\n",
       "      <td>0.0</td>\n",
       "      <td>0.583886</td>\n",
       "      <td>0.571838</td>\n",
       "      <td>0.227743</td>\n",
       "      <td>0.653984</td>\n",
       "      <td>0.491227</td>\n",
       "    </tr>\n",
       "    <tr>\n",
       "      <th>4</th>\n",
       "      <td>1.0</td>\n",
       "      <td>1.0</td>\n",
       "      <td>0.30</td>\n",
       "      <td>0.230616</td>\n",
       "      <td>0.383087</td>\n",
       "      <td>0.656507</td>\n",
       "      <td>0.0</td>\n",
       "      <td>0.250695</td>\n",
       "      <td>0.572730</td>\n",
       "      <td>0.000000</td>\n",
       "      <td>0.439918</td>\n",
       "      <td>0.493671</td>\n",
       "    </tr>\n",
       "  </tbody>\n",
       "</table>\n",
       "</div>"
      ],
      "text/plain": [
       "     0    1     2         3         4         5    6         7         8  \\\n",
       "0  0.0  0.0  0.15  0.328852  0.530315  0.600385  0.0  0.511693  0.518611   \n",
       "1  0.0  0.0  0.15  0.255964  0.357251  0.628223  0.0  0.506688  0.585253   \n",
       "2  0.0  0.0  0.15  0.149796  0.277106  0.605924  0.0  0.737905  0.518950   \n",
       "3  0.0  0.0  0.15  0.227746  0.282779  0.571718  0.0  0.583886  0.571838   \n",
       "4  1.0  1.0  0.30  0.230616  0.383087  0.656507  0.0  0.250695  0.572730   \n",
       "\n",
       "          9        10        11  \n",
       "0  0.149839  0.571771  0.592198  \n",
       "1  0.000000  0.662216  0.453360  \n",
       "2  0.057151  0.928803  0.439560  \n",
       "3  0.227743  0.653984  0.491227  \n",
       "4  0.000000  0.439918  0.493671  "
      ]
     },
     "execution_count": 337,
     "metadata": {},
     "output_type": "execute_result"
    }
   ],
   "source": [
    "X_norm.head()"
   ]
  },
  {
   "cell_type": "markdown",
   "metadata": {},
   "source": [
    "### Multiplying normalized value by importance"
   ]
  },
  {
   "cell_type": "code",
   "execution_count": 338,
   "metadata": {},
   "outputs": [],
   "source": [
    "for i in range(len(X.columns)):\n",
    "        X_norm[i]*=model.feature_importances_[i]*100"
   ]
  },
  {
   "cell_type": "code",
   "execution_count": 339,
   "metadata": {},
   "outputs": [
    {
     "data": {
      "text/html": [
       "<div>\n",
       "<style scoped>\n",
       "    .dataframe tbody tr th:only-of-type {\n",
       "        vertical-align: middle;\n",
       "    }\n",
       "\n",
       "    .dataframe tbody tr th {\n",
       "        vertical-align: top;\n",
       "    }\n",
       "\n",
       "    .dataframe thead th {\n",
       "        text-align: right;\n",
       "    }\n",
       "</style>\n",
       "<table border=\"1\" class=\"dataframe\">\n",
       "  <thead>\n",
       "    <tr style=\"text-align: right;\">\n",
       "      <th></th>\n",
       "      <th>0</th>\n",
       "      <th>1</th>\n",
       "      <th>2</th>\n",
       "      <th>3</th>\n",
       "      <th>4</th>\n",
       "      <th>5</th>\n",
       "      <th>6</th>\n",
       "      <th>7</th>\n",
       "      <th>8</th>\n",
       "      <th>9</th>\n",
       "      <th>10</th>\n",
       "      <th>11</th>\n",
       "    </tr>\n",
       "  </thead>\n",
       "  <tbody>\n",
       "    <tr>\n",
       "      <th>0</th>\n",
       "      <td>0.00000</td>\n",
       "      <td>0.0</td>\n",
       "      <td>4.117775</td>\n",
       "      <td>1.973829</td>\n",
       "      <td>2.271066</td>\n",
       "      <td>4.237329</td>\n",
       "      <td>0.0</td>\n",
       "      <td>2.879175</td>\n",
       "      <td>3.231474</td>\n",
       "      <td>0.882623</td>\n",
       "      <td>2.365834</td>\n",
       "      <td>3.605571</td>\n",
       "    </tr>\n",
       "    <tr>\n",
       "      <th>1</th>\n",
       "      <td>0.00000</td>\n",
       "      <td>0.0</td>\n",
       "      <td>4.117775</td>\n",
       "      <td>1.536344</td>\n",
       "      <td>1.529922</td>\n",
       "      <td>4.433803</td>\n",
       "      <td>0.0</td>\n",
       "      <td>2.851016</td>\n",
       "      <td>3.646721</td>\n",
       "      <td>0.000000</td>\n",
       "      <td>2.740068</td>\n",
       "      <td>2.760263</td>\n",
       "    </tr>\n",
       "    <tr>\n",
       "      <th>2</th>\n",
       "      <td>0.00000</td>\n",
       "      <td>0.0</td>\n",
       "      <td>4.117775</td>\n",
       "      <td>0.899101</td>\n",
       "      <td>1.186704</td>\n",
       "      <td>4.276422</td>\n",
       "      <td>0.0</td>\n",
       "      <td>4.152023</td>\n",
       "      <td>3.233589</td>\n",
       "      <td>0.336646</td>\n",
       "      <td>3.843133</td>\n",
       "      <td>2.676239</td>\n",
       "    </tr>\n",
       "    <tr>\n",
       "      <th>3</th>\n",
       "      <td>0.00000</td>\n",
       "      <td>0.0</td>\n",
       "      <td>4.117775</td>\n",
       "      <td>1.366973</td>\n",
       "      <td>1.210999</td>\n",
       "      <td>4.035007</td>\n",
       "      <td>0.0</td>\n",
       "      <td>3.285392</td>\n",
       "      <td>3.563133</td>\n",
       "      <td>1.341517</td>\n",
       "      <td>2.706006</td>\n",
       "      <td>2.990816</td>\n",
       "    </tr>\n",
       "    <tr>\n",
       "      <th>4</th>\n",
       "      <td>23.90437</td>\n",
       "      <td>0.0</td>\n",
       "      <td>8.235550</td>\n",
       "      <td>1.384196</td>\n",
       "      <td>1.640567</td>\n",
       "      <td>4.633422</td>\n",
       "      <td>0.0</td>\n",
       "      <td>1.410604</td>\n",
       "      <td>3.568692</td>\n",
       "      <td>0.000000</td>\n",
       "      <td>1.820261</td>\n",
       "      <td>3.005696</td>\n",
       "    </tr>\n",
       "  </tbody>\n",
       "</table>\n",
       "</div>"
      ],
      "text/plain": [
       "          0    1         2         3         4         5    6         7  \\\n",
       "0   0.00000  0.0  4.117775  1.973829  2.271066  4.237329  0.0  2.879175   \n",
       "1   0.00000  0.0  4.117775  1.536344  1.529922  4.433803  0.0  2.851016   \n",
       "2   0.00000  0.0  4.117775  0.899101  1.186704  4.276422  0.0  4.152023   \n",
       "3   0.00000  0.0  4.117775  1.366973  1.210999  4.035007  0.0  3.285392   \n",
       "4  23.90437  0.0  8.235550  1.384196  1.640567  4.633422  0.0  1.410604   \n",
       "\n",
       "          8         9        10        11  \n",
       "0  3.231474  0.882623  2.365834  3.605571  \n",
       "1  3.646721  0.000000  2.740068  2.760263  \n",
       "2  3.233589  0.336646  3.843133  2.676239  \n",
       "3  3.563133  1.341517  2.706006  2.990816  \n",
       "4  3.568692  0.000000  1.820261  3.005696  "
      ]
     },
     "execution_count": 339,
     "metadata": {},
     "output_type": "execute_result"
    }
   ],
   "source": [
    "X_norm.head()"
   ]
  },
  {
   "cell_type": "code",
   "execution_count": 371,
   "metadata": {},
   "outputs": [
    {
     "data": {
      "text/html": [
       "<div>\n",
       "<style scoped>\n",
       "    .dataframe tbody tr th:only-of-type {\n",
       "        vertical-align: middle;\n",
       "    }\n",
       "\n",
       "    .dataframe tbody tr th {\n",
       "        vertical-align: top;\n",
       "    }\n",
       "\n",
       "    .dataframe thead th {\n",
       "        text-align: right;\n",
       "    }\n",
       "</style>\n",
       "<table border=\"1\" class=\"dataframe\">\n",
       "  <thead>\n",
       "    <tr style=\"text-align: right;\">\n",
       "      <th></th>\n",
       "      <th>0</th>\n",
       "      <th>1</th>\n",
       "    </tr>\n",
       "  </thead>\n",
       "  <tbody>\n",
       "    <tr>\n",
       "      <th>0</th>\n",
       "      <td>27.537506</td>\n",
       "      <td>3.162693</td>\n",
       "    </tr>\n",
       "    <tr>\n",
       "      <th>1</th>\n",
       "      <td>27.495058</td>\n",
       "      <td>2.695994</td>\n",
       "    </tr>\n",
       "    <tr>\n",
       "      <th>2</th>\n",
       "      <td>28.106449</td>\n",
       "      <td>2.627518</td>\n",
       "    </tr>\n",
       "    <tr>\n",
       "      <th>3</th>\n",
       "      <td>27.594755</td>\n",
       "      <td>2.600811</td>\n",
       "    </tr>\n",
       "    <tr>\n",
       "      <th>4</th>\n",
       "      <td>-18.448587</td>\n",
       "      <td>13.136135</td>\n",
       "    </tr>\n",
       "  </tbody>\n",
       "</table>\n",
       "</div>"
      ],
      "text/plain": [
       "           0          1\n",
       "0  27.537506   3.162693\n",
       "1  27.495058   2.695994\n",
       "2  28.106449   2.627518\n",
       "3  27.594755   2.600811\n",
       "4 -18.448587  13.136135"
      ]
     },
     "execution_count": 371,
     "metadata": {},
     "output_type": "execute_result"
    }
   ],
   "source": [
    "X_embedded = TSNE(n_components=2).fit_transform(X_norm)\n",
    "emb=pd.DataFrame(X_embedded)\n",
    "emb.head()"
   ]
  },
  {
   "cell_type": "code",
   "execution_count": 372,
   "metadata": {},
   "outputs": [
    {
     "data": {
      "text/html": [
       "<div>\n",
       "<style scoped>\n",
       "    .dataframe tbody tr th:only-of-type {\n",
       "        vertical-align: middle;\n",
       "    }\n",
       "\n",
       "    .dataframe tbody tr th {\n",
       "        vertical-align: top;\n",
       "    }\n",
       "\n",
       "    .dataframe thead th {\n",
       "        text-align: right;\n",
       "    }\n",
       "</style>\n",
       "<table border=\"1\" class=\"dataframe\">\n",
       "  <thead>\n",
       "    <tr style=\"text-align: right;\">\n",
       "      <th></th>\n",
       "      <th>0</th>\n",
       "      <th>1</th>\n",
       "      <th>gender</th>\n",
       "      <th>label</th>\n",
       "    </tr>\n",
       "  </thead>\n",
       "  <tbody>\n",
       "    <tr>\n",
       "      <th>0</th>\n",
       "      <td>27.537506</td>\n",
       "      <td>3.162693</td>\n",
       "      <td>0</td>\n",
       "      <td>1</td>\n",
       "    </tr>\n",
       "    <tr>\n",
       "      <th>1</th>\n",
       "      <td>27.495058</td>\n",
       "      <td>2.695994</td>\n",
       "      <td>0</td>\n",
       "      <td>1</td>\n",
       "    </tr>\n",
       "    <tr>\n",
       "      <th>2</th>\n",
       "      <td>28.106449</td>\n",
       "      <td>2.627518</td>\n",
       "      <td>0</td>\n",
       "      <td>1</td>\n",
       "    </tr>\n",
       "    <tr>\n",
       "      <th>3</th>\n",
       "      <td>27.594755</td>\n",
       "      <td>2.600811</td>\n",
       "      <td>0</td>\n",
       "      <td>1</td>\n",
       "    </tr>\n",
       "    <tr>\n",
       "      <th>4</th>\n",
       "      <td>-18.448587</td>\n",
       "      <td>13.136135</td>\n",
       "      <td>1</td>\n",
       "      <td>1</td>\n",
       "    </tr>\n",
       "  </tbody>\n",
       "</table>\n",
       "</div>"
      ],
      "text/plain": [
       "           0          1  gender  label\n",
       "0  27.537506   3.162693       0      1\n",
       "1  27.495058   2.695994       0      1\n",
       "2  28.106449   2.627518       0      1\n",
       "3  27.594755   2.600811       0      1\n",
       "4 -18.448587  13.136135       1      1"
      ]
     },
     "execution_count": 372,
     "metadata": {},
     "output_type": "execute_result"
    }
   ],
   "source": [
    "emb['gender']=df['GENDER']\n",
    "emb['label']=Y\n",
    "emb.head()"
   ]
  },
  {
   "cell_type": "code",
   "execution_count": 373,
   "metadata": {},
   "outputs": [
    {
     "data": {
      "text/html": [
       "<div>\n",
       "<style scoped>\n",
       "    .dataframe tbody tr th:only-of-type {\n",
       "        vertical-align: middle;\n",
       "    }\n",
       "\n",
       "    .dataframe tbody tr th {\n",
       "        vertical-align: top;\n",
       "    }\n",
       "\n",
       "    .dataframe thead th {\n",
       "        text-align: right;\n",
       "    }\n",
       "</style>\n",
       "<table border=\"1\" class=\"dataframe\">\n",
       "  <thead>\n",
       "    <tr style=\"text-align: right;\">\n",
       "      <th></th>\n",
       "      <th></th>\n",
       "      <th>0</th>\n",
       "      <th>1</th>\n",
       "    </tr>\n",
       "    <tr>\n",
       "      <th>gender</th>\n",
       "      <th>label</th>\n",
       "      <th></th>\n",
       "      <th></th>\n",
       "    </tr>\n",
       "  </thead>\n",
       "  <tbody>\n",
       "    <tr>\n",
       "      <th rowspan=\"2\" valign=\"top\">0</th>\n",
       "      <th>1</th>\n",
       "      <td>48</td>\n",
       "      <td>48</td>\n",
       "    </tr>\n",
       "    <tr>\n",
       "      <th>2</th>\n",
       "      <td>96</td>\n",
       "      <td>96</td>\n",
       "    </tr>\n",
       "    <tr>\n",
       "      <th rowspan=\"2\" valign=\"top\">1</th>\n",
       "      <th>1</th>\n",
       "      <td>24</td>\n",
       "      <td>24</td>\n",
       "    </tr>\n",
       "    <tr>\n",
       "      <th>2</th>\n",
       "      <td>200</td>\n",
       "      <td>200</td>\n",
       "    </tr>\n",
       "  </tbody>\n",
       "</table>\n",
       "</div>"
      ],
      "text/plain": [
       "                0    1\n",
       "gender label          \n",
       "0      1       48   48\n",
       "       2       96   96\n",
       "1      1       24   24\n",
       "       2      200  200"
      ]
     },
     "execution_count": 373,
     "metadata": {},
     "output_type": "execute_result"
    }
   ],
   "source": [
    "emb.groupby(['gender','label']).agg('count')"
   ]
  },
  {
   "cell_type": "code",
   "execution_count": 374,
   "metadata": {},
   "outputs": [
    {
     "data": {
      "text/plain": [
       "<matplotlib.legend.Legend at 0x1e3421a9828>"
      ]
     },
     "execution_count": 374,
     "metadata": {},
     "output_type": "execute_result"
    },
    {
     "data": {
      "image/png": "[encoded data removed]",
      "text/plain": [
       "<Figure size 432x288 with 1 Axes>"
      ]
     },
     "metadata": {
      "needs_background": "light"
     },
     "output_type": "display_data"
    }
   ],
   "source": [
    "groups = emb.groupby(['label'])\n",
    "fig, ax = plt.subplots()\n",
    "ax.margins(0.05) # Optional, just adds 5% padding to the autoscaling\n",
    "for name, group in groups:\n",
    "    ax.plot(group[0], group[1], marker='.', linestyle='', ms=12, label=name)\n",
    "ax.legend()"
   ]
  },
  {
   "cell_type": "code",
   "execution_count": 375,
   "metadata": {},
   "outputs": [
    {
     "data": {
      "text/plain": [
       "<matplotlib.legend.Legend at 0x1e3402698d0>"
      ]
     },
     "execution_count": 375,
     "metadata": {},
     "output_type": "execute_result"
    },
    {
     "data": {
      "image/png": "[encoded data removed]",
      "text/plain": [
       "<Figure size 432x288 with 1 Axes>"
      ]
     },
     "metadata": {
      "needs_background": "light"
     },
     "output_type": "display_data"
    }
   ],
   "source": [
    "groups = emb.groupby(['label','gender'])\n",
    "\n",
    "# Plot\n",
    "fig, ax = plt.subplots()\n",
    "ax.margins(0.05) # Optional, just adds 5% padding to the autoscaling\n",
    "for name, group in groups:\n",
    "    ax.plot(group[0], group[1], marker='.', linestyle='', ms=12, label=name)\n",
    "ax.legend()"
   ]
  },
  {
   "cell_type": "code",
   "execution_count": 268,
   "metadata": {},
   "outputs": [
    {
     "data": {
      "text/html": [
       "<div>\n",
       "<style scoped>\n",
       "    .dataframe tbody tr th:only-of-type {\n",
       "        vertical-align: middle;\n",
       "    }\n",
       "\n",
       "    .dataframe tbody tr th {\n",
       "        vertical-align: top;\n",
       "    }\n",
       "\n",
       "    .dataframe thead th {\n",
       "        text-align: right;\n",
       "    }\n",
       "</style>\n",
       "<table border=\"1\" class=\"dataframe\">\n",
       "  <thead>\n",
       "    <tr style=\"text-align: right;\">\n",
       "      <th></th>\n",
       "      <th>0</th>\n",
       "      <th>1</th>\n",
       "      <th>2</th>\n",
       "      <th>3</th>\n",
       "      <th>4</th>\n",
       "      <th>5</th>\n",
       "      <th>6</th>\n",
       "      <th>7</th>\n",
       "      <th>8</th>\n",
       "      <th>9</th>\n",
       "      <th>10</th>\n",
       "      <th>11</th>\n",
       "    </tr>\n",
       "  </thead>\n",
       "  <tbody>\n",
       "    <tr>\n",
       "      <th>0</th>\n",
       "      <td>4.772481</td>\n",
       "      <td>0.0</td>\n",
       "      <td>15.260507</td>\n",
       "      <td>11.207698</td>\n",
       "      <td>6.087013</td>\n",
       "      <td>1.762975</td>\n",
       "      <td>1.197806e-03</td>\n",
       "      <td>7.802802</td>\n",
       "      <td>6.452822</td>\n",
       "      <td>0.063346</td>\n",
       "      <td>9.961494</td>\n",
       "      <td>0.896844</td>\n",
       "    </tr>\n",
       "    <tr>\n",
       "      <th>1</th>\n",
       "      <td>4.772481</td>\n",
       "      <td>0.0</td>\n",
       "      <td>15.954167</td>\n",
       "      <td>2.996050</td>\n",
       "      <td>3.861670</td>\n",
       "      <td>1.339762</td>\n",
       "      <td>9.064907e-04</td>\n",
       "      <td>4.662645</td>\n",
       "      <td>3.888643</td>\n",
       "      <td>0.633397</td>\n",
       "      <td>2.929493</td>\n",
       "      <td>2.023923</td>\n",
       "    </tr>\n",
       "    <tr>\n",
       "      <th>2</th>\n",
       "      <td>0.000000</td>\n",
       "      <td>0.0</td>\n",
       "      <td>14.566848</td>\n",
       "      <td>8.713579</td>\n",
       "      <td>5.519832</td>\n",
       "      <td>1.674661</td>\n",
       "      <td>0.000000e+00</td>\n",
       "      <td>5.852600</td>\n",
       "      <td>6.430465</td>\n",
       "      <td>0.018667</td>\n",
       "      <td>8.323019</td>\n",
       "      <td>0.964961</td>\n",
       "    </tr>\n",
       "    <tr>\n",
       "      <th>3</th>\n",
       "      <td>4.772481</td>\n",
       "      <td>0.0</td>\n",
       "      <td>3.468297</td>\n",
       "      <td>1.817962</td>\n",
       "      <td>1.181249</td>\n",
       "      <td>0.992184</td>\n",
       "      <td>6.106482e-04</td>\n",
       "      <td>3.197167</td>\n",
       "      <td>7.307860</td>\n",
       "      <td>0.272109</td>\n",
       "      <td>1.606621</td>\n",
       "      <td>1.796875</td>\n",
       "    </tr>\n",
       "    <tr>\n",
       "      <th>4</th>\n",
       "      <td>4.772481</td>\n",
       "      <td>0.0</td>\n",
       "      <td>22.543931</td>\n",
       "      <td>2.421696</td>\n",
       "      <td>1.776544</td>\n",
       "      <td>0.950306</td>\n",
       "      <td>5.629237e-04</td>\n",
       "      <td>6.041872</td>\n",
       "      <td>0.000000</td>\n",
       "      <td>0.063443</td>\n",
       "      <td>3.585472</td>\n",
       "      <td>2.689266</td>\n",
       "    </tr>\n",
       "    <tr>\n",
       "      <th>5</th>\n",
       "      <td>0.000000</td>\n",
       "      <td>0.0</td>\n",
       "      <td>9.364402</td>\n",
       "      <td>0.868487</td>\n",
       "      <td>1.947239</td>\n",
       "      <td>1.041847</td>\n",
       "      <td>5.861763e-03</td>\n",
       "      <td>2.392913</td>\n",
       "      <td>5.004152</td>\n",
       "      <td>0.022131</td>\n",
       "      <td>2.447032</td>\n",
       "      <td>4.225613</td>\n",
       "    </tr>\n",
       "    <tr>\n",
       "      <th>6</th>\n",
       "      <td>0.000000</td>\n",
       "      <td>0.0</td>\n",
       "      <td>10.404891</td>\n",
       "      <td>1.838045</td>\n",
       "      <td>2.378267</td>\n",
       "      <td>1.362804</td>\n",
       "      <td>6.838038e-05</td>\n",
       "      <td>1.998787</td>\n",
       "      <td>5.384383</td>\n",
       "      <td>0.035538</td>\n",
       "      <td>2.085993</td>\n",
       "      <td>4.000703</td>\n",
       "    </tr>\n",
       "    <tr>\n",
       "      <th>7</th>\n",
       "      <td>4.772481</td>\n",
       "      <td>0.0</td>\n",
       "      <td>14.220018</td>\n",
       "      <td>0.432242</td>\n",
       "      <td>1.454124</td>\n",
       "      <td>1.235793</td>\n",
       "      <td>1.043871e-03</td>\n",
       "      <td>2.327954</td>\n",
       "      <td>5.542673</td>\n",
       "      <td>0.000000</td>\n",
       "      <td>1.978043</td>\n",
       "      <td>2.516192</td>\n",
       "    </tr>\n",
       "    <tr>\n",
       "      <th>10</th>\n",
       "      <td>0.000000</td>\n",
       "      <td>0.0</td>\n",
       "      <td>3.815127</td>\n",
       "      <td>1.012570</td>\n",
       "      <td>1.978969</td>\n",
       "      <td>1.206171</td>\n",
       "      <td>7.260513e-03</td>\n",
       "      <td>1.635925</td>\n",
       "      <td>4.574478</td>\n",
       "      <td>0.040677</td>\n",
       "      <td>1.240272</td>\n",
       "      <td>2.570384</td>\n",
       "    </tr>\n",
       "    <tr>\n",
       "      <th>11</th>\n",
       "      <td>0.000000</td>\n",
       "      <td>0.0</td>\n",
       "      <td>5.549275</td>\n",
       "      <td>0.645345</td>\n",
       "      <td>1.934145</td>\n",
       "      <td>1.018167</td>\n",
       "      <td>5.504559e-07</td>\n",
       "      <td>1.490895</td>\n",
       "      <td>4.536568</td>\n",
       "      <td>0.024878</td>\n",
       "      <td>0.932513</td>\n",
       "      <td>3.218093</td>\n",
       "    </tr>\n",
       "  </tbody>\n",
       "</table>\n",
       "</div>"
      ],
      "text/plain": [
       "           0    1          2          3         4         5             6  \\\n",
       "0   4.772481  0.0  15.260507  11.207698  6.087013  1.762975  1.197806e-03   \n",
       "1   4.772481  0.0  15.954167   2.996050  3.861670  1.339762  9.064907e-04   \n",
       "2   0.000000  0.0  14.566848   8.713579  5.519832  1.674661  0.000000e+00   \n",
       "3   4.772481  0.0   3.468297   1.817962  1.181249  0.992184  6.106482e-04   \n",
       "4   4.772481  0.0  22.543931   2.421696  1.776544  0.950306  5.629237e-04   \n",
       "5   0.000000  0.0   9.364402   0.868487  1.947239  1.041847  5.861763e-03   \n",
       "6   0.000000  0.0  10.404891   1.838045  2.378267  1.362804  6.838038e-05   \n",
       "7   4.772481  0.0  14.220018   0.432242  1.454124  1.235793  1.043871e-03   \n",
       "10  0.000000  0.0   3.815127   1.012570  1.978969  1.206171  7.260513e-03   \n",
       "11  0.000000  0.0   5.549275   0.645345  1.934145  1.018167  5.504559e-07   \n",
       "\n",
       "           7         8         9        10        11  \n",
       "0   7.802802  6.452822  0.063346  9.961494  0.896844  \n",
       "1   4.662645  3.888643  0.633397  2.929493  2.023923  \n",
       "2   5.852600  6.430465  0.018667  8.323019  0.964961  \n",
       "3   3.197167  7.307860  0.272109  1.606621  1.796875  \n",
       "4   6.041872  0.000000  0.063443  3.585472  2.689266  \n",
       "5   2.392913  5.004152  0.022131  2.447032  4.225613  \n",
       "6   1.998787  5.384383  0.035538  2.085993  4.000703  \n",
       "7   2.327954  5.542673  0.000000  1.978043  2.516192  \n",
       "10  1.635925  4.574478  0.040677  1.240272  2.570384  \n",
       "11  1.490895  4.536568  0.024878  0.932513  3.218093  "
      ]
     },
     "execution_count": 268,
     "metadata": {},
     "output_type": "execute_result"
    }
   ],
   "source": [
    "X_norm.groupby(0).head()"
   ]
  },
  {
   "cell_type": "markdown",
   "metadata": {},
   "source": [
    "#### Better clusters observed"
   ]
  },
  {
   "cell_type": "markdown",
   "metadata": {},
   "source": [
    "### Train Test split"
   ]
  },
  {
   "cell_type": "code",
   "execution_count": 269,
   "metadata": {},
   "outputs": [],
   "source": [
    "from sklearn.model_selection import train_test_split\n",
    "X_train, X_test, y_train, y_test = train_test_split(X, Y, test_size=0.3, random_state=42)\n",
    "X_train1, X_test1, y_train1, y_test1 = train_test_split(X_norm, Y, test_size=0.3, random_state=42)"
   ]
  },
  {
   "cell_type": "markdown",
   "metadata": {},
   "source": [
    "# Classification"
   ]
  },
  {
   "cell_type": "markdown",
   "metadata": {},
   "source": [
    "## Random Forest Classifier"
   ]
  },
  {
   "cell_type": "code",
   "execution_count": 409,
   "metadata": {},
   "outputs": [
    {
     "data": {
      "text/plain": [
       "RandomForestClassifier(bootstrap=True, ccp_alpha=0.0, class_weight=None,\n",
       "                       criterion='gini', max_depth=None, max_features='auto',\n",
       "                       max_leaf_nodes=None, max_samples=None,\n",
       "                       min_impurity_decrease=0.0, min_impurity_split=None,\n",
       "                       min_samples_leaf=1, min_samples_split=2,\n",
       "                       min_weight_fraction_leaf=0.0, n_estimators=50,\n",
       "                       n_jobs=None, oob_score=False, random_state=5, verbose=0,\n",
       "                       warm_start=False)"
      ]
     },
     "execution_count": 409,
     "metadata": {},
     "output_type": "execute_result"
    }
   ],
   "source": [
    "#Create a random forest classifier and train model\n",
    "from sklearn.ensemble import RandomForestClassifier\n",
    "classifier = RandomForestClassifier(n_estimators=50, random_state=5)\n",
    "classifier.fit(X_train, y_train)"
   ]
  },
  {
   "cell_type": "markdown",
   "metadata": {},
   "source": [
    "### Train Accuracy"
   ]
  },
  {
   "cell_type": "code",
   "execution_count": 410,
   "metadata": {},
   "outputs": [
    {
     "name": "stdout",
     "output_type": "stream",
     "text": [
      "[[99  0]\n",
      " [ 0 85]]\n",
      "              precision    recall  f1-score   support\n",
      "\n",
      "           1       1.00      1.00      1.00        99\n",
      "           2       1.00      1.00      1.00        85\n",
      "\n",
      "    accuracy                           1.00       184\n",
      "   macro avg       1.00      1.00      1.00       184\n",
      "weighted avg       1.00      1.00      1.00       184\n",
      "\n",
      "1.0\n"
     ]
    }
   ],
   "source": [
    "y_pred = classifier.predict(X_train)\n",
    "from sklearn.metrics import classification_report, confusion_matrix, accuracy_score\n",
    "print(confusion_matrix(y_train,y_pred))\n",
    "print(classification_report(y_train,y_pred))\n",
    "print(accuracy_score(y_train, y_pred))"
   ]
  },
  {
   "cell_type": "markdown",
   "metadata": {},
   "source": [
    "### Test Accuracy"
   ]
  },
  {
   "cell_type": "code",
   "execution_count": 411,
   "metadata": {},
   "outputs": [
    {
     "name": "stdout",
     "output_type": "stream",
     "text": [
      "[[27 14]\n",
      " [ 3 36]]\n",
      "              precision    recall  f1-score   support\n",
      "\n",
      "           1       0.90      0.66      0.76        41\n",
      "           2       0.72      0.92      0.81        39\n",
      "\n",
      "    accuracy                           0.79        80\n",
      "   macro avg       0.81      0.79      0.78        80\n",
      "weighted avg       0.81      0.79      0.78        80\n",
      "\n",
      "0.7875\n"
     ]
    }
   ],
   "source": [
    "y_pred = classifier.predict(X_test)\n",
    "from sklearn.metrics import classification_report, confusion_matrix, accuracy_score\n",
    "print(confusion_matrix(y_test,y_pred))\n",
    "print(classification_report(y_test,y_pred))\n",
    "print(accuracy_score(y_test, y_pred))"
   ]
  },
  {
   "cell_type": "markdown",
   "metadata": {},
   "source": [
    "## Naive Bayes"
   ]
  },
  {
   "cell_type": "code",
   "execution_count": 273,
   "metadata": {},
   "outputs": [
    {
     "data": {
      "text/plain": [
       "GaussianNB(priors=None, var_smoothing=1e-09)"
      ]
     },
     "execution_count": 273,
     "metadata": {},
     "output_type": "execute_result"
    }
   ],
   "source": [
    "from sklearn.naive_bayes import GaussianNB\n",
    "clf = GaussianNB()\n",
    "clf.fit(X_train, y_train)"
   ]
  },
  {
   "cell_type": "markdown",
   "metadata": {},
   "source": [
    "### Train Accuracy"
   ]
  },
  {
   "cell_type": "code",
   "execution_count": 274,
   "metadata": {},
   "outputs": [
    {
     "name": "stdout",
     "output_type": "stream",
     "text": [
      "[[75 24]\n",
      " [ 6 79]]\n",
      "              precision    recall  f1-score   support\n",
      "\n",
      "           1       0.93      0.76      0.83        99\n",
      "           2       0.77      0.93      0.84        85\n",
      "\n",
      "    accuracy                           0.84       184\n",
      "   macro avg       0.85      0.84      0.84       184\n",
      "weighted avg       0.85      0.84      0.84       184\n",
      "\n",
      "0.8369565217391305\n"
     ]
    }
   ],
   "source": [
    "from sklearn.metrics import classification_report, confusion_matrix, accuracy_score\n",
    "\n",
    "y_pred = clf.predict(X_train)\n",
    "print(confusion_matrix(y_train,y_pred))\n",
    "print(classification_report(y_train,y_pred))\n",
    "print(accuracy_score(y_train, y_pred))"
   ]
  },
  {
   "cell_type": "markdown",
   "metadata": {},
   "source": [
    "### Test Accuracy"
   ]
  },
  {
   "cell_type": "code",
   "execution_count": 275,
   "metadata": {},
   "outputs": [
    {
     "name": "stdout",
     "output_type": "stream",
     "text": [
      "[[20 21]\n",
      " [ 4 35]]\n",
      "              precision    recall  f1-score   support\n",
      "\n",
      "           1       0.83      0.49      0.62        41\n",
      "           2       0.62      0.90      0.74        39\n",
      "\n",
      "    accuracy                           0.69        80\n",
      "   macro avg       0.73      0.69      0.68        80\n",
      "weighted avg       0.73      0.69      0.67        80\n",
      "\n",
      "0.6875\n"
     ]
    }
   ],
   "source": [
    "y_pred = clf.predict(X_test)\n",
    "print(confusion_matrix(y_test,y_pred))\n",
    "print(classification_report(y_test,y_pred))\n",
    "print(accuracy_score(y_test, y_pred))"
   ]
  },
  {
   "cell_type": "markdown",
   "metadata": {},
   "source": [
    "## SVM"
   ]
  },
  {
   "cell_type": "code",
   "execution_count": 276,
   "metadata": {},
   "outputs": [
    {
     "data": {
      "text/plain": [
       "SVC(C=1.0, break_ties=False, cache_size=200, class_weight=None, coef0=0.0,\n",
       "    decision_function_shape='ovr', degree=3, gamma='scale', kernel='linear',\n",
       "    max_iter=-1, probability=False, random_state=None, shrinking=True,\n",
       "    tol=0.001, verbose=False)"
      ]
     },
     "execution_count": 276,
     "metadata": {},
     "output_type": "execute_result"
    }
   ],
   "source": [
    "from sklearn import svm\n",
    "\n",
    "clf = svm.SVC(kernel='linear')\n",
    "clf.fit(X_train, y_train)"
   ]
  },
  {
   "cell_type": "markdown",
   "metadata": {},
   "source": [
    "### Training Accuracy"
   ]
  },
  {
   "cell_type": "code",
   "execution_count": 277,
   "metadata": {},
   "outputs": [
    {
     "name": "stdout",
     "output_type": "stream",
     "text": [
      "[[74 25]\n",
      " [ 6 79]]\n",
      "              precision    recall  f1-score   support\n",
      "\n",
      "           1       0.93      0.75      0.83        99\n",
      "           2       0.76      0.93      0.84        85\n",
      "\n",
      "    accuracy                           0.83       184\n",
      "   macro avg       0.84      0.84      0.83       184\n",
      "weighted avg       0.85      0.83      0.83       184\n",
      "\n",
      "0.8315217391304348\n"
     ]
    }
   ],
   "source": [
    "from sklearn.metrics import classification_report, confusion_matrix, accuracy_score\n",
    "\n",
    "y_pred = clf.predict(X_train)\n",
    "print(confusion_matrix(y_train,y_pred))\n",
    "print(classification_report(y_train,y_pred))\n",
    "print(accuracy_score(y_train, y_pred))"
   ]
  },
  {
   "cell_type": "markdown",
   "metadata": {},
   "source": [
    "### Testing Accuracy"
   ]
  },
  {
   "cell_type": "code",
   "execution_count": 278,
   "metadata": {},
   "outputs": [
    {
     "name": "stdout",
     "output_type": "stream",
     "text": [
      "[[26 15]\n",
      " [ 3 36]]\n",
      "              precision    recall  f1-score   support\n",
      "\n",
      "           1       0.90      0.63      0.74        41\n",
      "           2       0.71      0.92      0.80        39\n",
      "\n",
      "    accuracy                           0.78        80\n",
      "   macro avg       0.80      0.78      0.77        80\n",
      "weighted avg       0.80      0.78      0.77        80\n",
      "\n",
      "0.775\n"
     ]
    }
   ],
   "source": [
    "y_pred = clf.predict(X_test)\n",
    "print(confusion_matrix(y_test,y_pred))\n",
    "print(classification_report(y_test,y_pred))\n",
    "print(accuracy_score(y_test, y_pred))"
   ]
  },
  {
   "cell_type": "markdown",
   "metadata": {},
   "source": [
    "## XGBoost"
   ]
  },
  {
   "cell_type": "code",
   "execution_count": 279,
   "metadata": {},
   "outputs": [
    {
     "data": {
      "text/plain": [
       "XGBClassifier(base_score=0.5, booster='gbtree', colsample_bylevel=1,\n",
       "              colsample_bynode=1, colsample_bytree=1, gamma=0,\n",
       "              learning_rate=0.1, max_delta_step=0, max_depth=3,\n",
       "              min_child_weight=1, missing=None, n_estimators=100, n_jobs=1,\n",
       "              nthread=None, objective='binary:logistic', random_state=0,\n",
       "              reg_alpha=0, reg_lambda=1, scale_pos_weight=1, seed=None,\n",
       "              silent=None, subsample=1, verbosity=1)"
      ]
     },
     "execution_count": 279,
     "metadata": {},
     "output_type": "execute_result"
    }
   ],
   "source": [
    "from xgboost import XGBClassifier\n",
    "from matplotlib import pyplot\n",
    "\n",
    "model = XGBClassifier()\n",
    "model.fit(X_train, y_train)"
   ]
  },
  {
   "cell_type": "code",
   "execution_count": 280,
   "metadata": {},
   "outputs": [
    {
     "name": "stdout",
     "output_type": "stream",
     "text": [
      "[[99  0]\n",
      " [ 0 85]]\n",
      "              precision    recall  f1-score   support\n",
      "\n",
      "           1       1.00      1.00      1.00        99\n",
      "           2       1.00      1.00      1.00        85\n",
      "\n",
      "    accuracy                           1.00       184\n",
      "   macro avg       1.00      1.00      1.00       184\n",
      "weighted avg       1.00      1.00      1.00       184\n",
      "\n",
      "1.0\n"
     ]
    }
   ],
   "source": [
    "from sklearn.metrics import classification_report, confusion_matrix, accuracy_score\n",
    "\n",
    "y_pred = model.predict(X_train)\n",
    "print(confusion_matrix(y_train,y_pred))\n",
    "print(classification_report(y_train,y_pred))\n",
    "print(accuracy_score(y_train, y_pred))"
   ]
  },
  {
   "cell_type": "code",
   "execution_count": 281,
   "metadata": {},
   "outputs": [
    {
     "name": "stdout",
     "output_type": "stream",
     "text": [
      "[[26 15]\n",
      " [ 3 36]]\n",
      "              precision    recall  f1-score   support\n",
      "\n",
      "           1       0.90      0.63      0.74        41\n",
      "           2       0.71      0.92      0.80        39\n",
      "\n",
      "    accuracy                           0.78        80\n",
      "   macro avg       0.80      0.78      0.77        80\n",
      "weighted avg       0.80      0.78      0.77        80\n",
      "\n",
      "0.775\n"
     ]
    }
   ],
   "source": [
    "y_pred = clf.predict(X_test)\n",
    "print(confusion_matrix(y_test,y_pred))\n",
    "print(classification_report(y_test,y_pred))\n",
    "print(accuracy_score(y_test, y_pred))"
   ]
  },
  {
   "cell_type": "markdown",
   "metadata": {},
   "source": [
    "# Meander"
   ]
  },
  {
   "cell_type": "code",
   "execution_count": 390,
   "metadata": {},
   "outputs": [],
   "source": [
    "df=pd.read_csv('Tracing Data/New Data/NewMeander.csv')"
   ]
  },
  {
   "cell_type": "code",
   "execution_count": 391,
   "metadata": {},
   "outputs": [
    {
     "data": {
      "text/plain": [
       "Index(['_ID_EXAM', 'IMAGE_NAME', 'ID_PATIENT', 'CLASS_TYPE', 'GENDER',\n",
       "       'RIGH/LEFT-HANDED', 'AGE', 'RMS', 'MAX_BETWEEN_ET_HT',\n",
       "       'MIN_BETWEEN_ET_HT', 'STD_DEVIATION_ET_HT', 'MRT', 'MAX_HT', 'MIN_HT',\n",
       "       'STD_HT', 'CHANGES_FROM_NEGATIVE_TO_POSITIVE_BETWEEN_ET_HT'],\n",
       "      dtype='object')"
      ]
     },
     "execution_count": 391,
     "metadata": {},
     "output_type": "execute_result"
    }
   ],
   "source": [
    "df.columns"
   ]
  },
  {
   "cell_type": "code",
   "execution_count": 392,
   "metadata": {},
   "outputs": [],
   "source": [
    "df=df.rename(columns={\"CHANGES_FROM_NEGATIVE_TO_POSITIVE_BETWEEN_ET_HT\": \"change\", \"MAX_BETWEEN_ET_HT\": \"MB\",'MIN_BETWEEN_ET_HT':'MINB'})"
   ]
  },
  {
   "cell_type": "code",
   "execution_count": 393,
   "metadata": {},
   "outputs": [
    {
     "data": {
      "text/html": [
       "<div>\n",
       "<style scoped>\n",
       "    .dataframe tbody tr th:only-of-type {\n",
       "        vertical-align: middle;\n",
       "    }\n",
       "\n",
       "    .dataframe tbody tr th {\n",
       "        vertical-align: top;\n",
       "    }\n",
       "\n",
       "    .dataframe thead th {\n",
       "        text-align: right;\n",
       "    }\n",
       "</style>\n",
       "<table border=\"1\" class=\"dataframe\">\n",
       "  <thead>\n",
       "    <tr style=\"text-align: right;\">\n",
       "      <th></th>\n",
       "      <th>_ID_EXAM</th>\n",
       "      <th>IMAGE_NAME</th>\n",
       "      <th>ID_PATIENT</th>\n",
       "      <th>CLASS_TYPE</th>\n",
       "      <th>GENDER</th>\n",
       "      <th>RIGH/LEFT-HANDED</th>\n",
       "      <th>AGE</th>\n",
       "      <th>RMS</th>\n",
       "      <th>MB</th>\n",
       "      <th>MINB</th>\n",
       "      <th>STD_DEVIATION_ET_HT</th>\n",
       "      <th>MRT</th>\n",
       "      <th>MAX_HT</th>\n",
       "      <th>MIN_HT</th>\n",
       "      <th>STD_HT</th>\n",
       "      <th>change</th>\n",
       "    </tr>\n",
       "  </thead>\n",
       "  <tbody>\n",
       "    <tr>\n",
       "      <th>0</th>\n",
       "      <td>H1</td>\n",
       "      <td>mea1-H1.jpg</td>\n",
       "      <td>59</td>\n",
       "      <td>1</td>\n",
       "      <td>M</td>\n",
       "      <td>R</td>\n",
       "      <td>58</td>\n",
       "      <td>7434.180108</td>\n",
       "      <td>10120.222430</td>\n",
       "      <td>42913.38070</td>\n",
       "      <td>0.071112</td>\n",
       "      <td>48.761320</td>\n",
       "      <td>203.049894</td>\n",
       "      <td>0.119590</td>\n",
       "      <td>2236.376294</td>\n",
       "      <td>0.114428</td>\n",
       "    </tr>\n",
       "    <tr>\n",
       "      <th>1</th>\n",
       "      <td>H2</td>\n",
       "      <td>mea1-H2.jpg</td>\n",
       "      <td>76</td>\n",
       "      <td>1</td>\n",
       "      <td>M</td>\n",
       "      <td>R</td>\n",
       "      <td>60</td>\n",
       "      <td>10132.444470</td>\n",
       "      <td>11923.713750</td>\n",
       "      <td>64317.66969</td>\n",
       "      <td>0.581945</td>\n",
       "      <td>31.231012</td>\n",
       "      <td>212.489845</td>\n",
       "      <td>0.029351</td>\n",
       "      <td>1658.672664</td>\n",
       "      <td>0.064394</td>\n",
       "    </tr>\n",
       "    <tr>\n",
       "      <th>2</th>\n",
       "      <td>H3</td>\n",
       "      <td>mea1-H3.jpg</td>\n",
       "      <td>301</td>\n",
       "      <td>1</td>\n",
       "      <td>F</td>\n",
       "      <td>R</td>\n",
       "      <td>56</td>\n",
       "      <td>5320.969169</td>\n",
       "      <td>8443.270014</td>\n",
       "      <td>39979.95076</td>\n",
       "      <td>0.000388</td>\n",
       "      <td>54.281633</td>\n",
       "      <td>227.843584</td>\n",
       "      <td>0.757457</td>\n",
       "      <td>3148.250320</td>\n",
       "      <td>0.158879</td>\n",
       "    </tr>\n",
       "    <tr>\n",
       "      <th>3</th>\n",
       "      <td>H4</td>\n",
       "      <td>mea1-H4.jpg</td>\n",
       "      <td>102</td>\n",
       "      <td>1</td>\n",
       "      <td>M</td>\n",
       "      <td>R</td>\n",
       "      <td>24</td>\n",
       "      <td>8659.652924</td>\n",
       "      <td>13558.029200</td>\n",
       "      <td>69319.27081</td>\n",
       "      <td>0.008113</td>\n",
       "      <td>52.104352</td>\n",
       "      <td>185.538482</td>\n",
       "      <td>0.220402</td>\n",
       "      <td>2606.647576</td>\n",
       "      <td>0.127358</td>\n",
       "    </tr>\n",
       "    <tr>\n",
       "      <th>4</th>\n",
       "      <td>H5</td>\n",
       "      <td>mea1-H5.jpg</td>\n",
       "      <td>305</td>\n",
       "      <td>1</td>\n",
       "      <td>M</td>\n",
       "      <td>R</td>\n",
       "      <td>79</td>\n",
       "      <td>7293.018199</td>\n",
       "      <td>7531.636413</td>\n",
       "      <td>34595.02260</td>\n",
       "      <td>0.102315</td>\n",
       "      <td>40.991308</td>\n",
       "      <td>198.680893</td>\n",
       "      <td>0.071312</td>\n",
       "      <td>3193.983137</td>\n",
       "      <td>0.155660</td>\n",
       "    </tr>\n",
       "  </tbody>\n",
       "</table>\n",
       "</div>"
      ],
      "text/plain": [
       "  _ID_EXAM   IMAGE_NAME  ID_PATIENT  CLASS_TYPE GENDER RIGH/LEFT-HANDED  AGE  \\\n",
       "0       H1  mea1-H1.jpg          59           1      M                R   58   \n",
       "1       H2  mea1-H2.jpg          76           1      M                R   60   \n",
       "2       H3  mea1-H3.jpg         301           1      F                R   56   \n",
       "3       H4  mea1-H4.jpg         102           1      M                R   24   \n",
       "4       H5  mea1-H5.jpg         305           1      M                R   79   \n",
       "\n",
       "            RMS            MB         MINB  STD_DEVIATION_ET_HT        MRT  \\\n",
       "0   7434.180108  10120.222430  42913.38070             0.071112  48.761320   \n",
       "1  10132.444470  11923.713750  64317.66969             0.581945  31.231012   \n",
       "2   5320.969169   8443.270014  39979.95076             0.000388  54.281633   \n",
       "3   8659.652924  13558.029200  69319.27081             0.008113  52.104352   \n",
       "4   7293.018199   7531.636413  34595.02260             0.102315  40.991308   \n",
       "\n",
       "       MAX_HT    MIN_HT       STD_HT    change  \n",
       "0  203.049894  0.119590  2236.376294  0.114428  \n",
       "1  212.489845  0.029351  1658.672664  0.064394  \n",
       "2  227.843584  0.757457  3148.250320  0.158879  \n",
       "3  185.538482  0.220402  2606.647576  0.127358  \n",
       "4  198.680893  0.071312  3193.983137  0.155660  "
      ]
     },
     "execution_count": 393,
     "metadata": {},
     "output_type": "execute_result"
    }
   ],
   "source": [
    "df.head()"
   ]
  },
  {
   "cell_type": "code",
   "execution_count": 394,
   "metadata": {},
   "outputs": [
    {
     "data": {
      "image/png": "[encoded data removed]",
      "text/plain": [
       "<Figure size 1080x864 with 2 Axes>"
      ]
     },
     "metadata": {
      "needs_background": "light"
     },
     "output_type": "display_data"
    }
   ],
   "source": [
    "from matplotlib import pyplot as plt\n",
    "import seaborn as sns\n",
    "corr=df.corr()\n",
    "plt.figure(figsize=(15,12))\n",
    "\n",
    "sns.heatmap(corr)\n",
    "\n",
    "plt.show()"
   ]
  },
  {
   "cell_type": "code",
   "execution_count": 395,
   "metadata": {},
   "outputs": [],
   "source": [
    "df=df[[ 'CLASS_TYPE', 'GENDER','RIGH/LEFT-HANDED', 'AGE', 'RMS', 'MB', 'MINB', 'STD_DEVIATION_ET_HT',\n",
    "       'MRT', 'MAX_HT', 'MIN_HT', 'STD_HT', 'change']]"
   ]
  },
  {
   "cell_type": "code",
   "execution_count": 396,
   "metadata": {},
   "outputs": [
    {
     "data": {
      "text/html": [
       "<div>\n",
       "<style scoped>\n",
       "    .dataframe tbody tr th:only-of-type {\n",
       "        vertical-align: middle;\n",
       "    }\n",
       "\n",
       "    .dataframe tbody tr th {\n",
       "        vertical-align: top;\n",
       "    }\n",
       "\n",
       "    .dataframe thead th {\n",
       "        text-align: right;\n",
       "    }\n",
       "</style>\n",
       "<table border=\"1\" class=\"dataframe\">\n",
       "  <thead>\n",
       "    <tr style=\"text-align: right;\">\n",
       "      <th></th>\n",
       "      <th>CLASS_TYPE</th>\n",
       "      <th>GENDER</th>\n",
       "      <th>RIGH/LEFT-HANDED</th>\n",
       "      <th>AGE</th>\n",
       "      <th>RMS</th>\n",
       "      <th>MB</th>\n",
       "      <th>MINB</th>\n",
       "      <th>STD_DEVIATION_ET_HT</th>\n",
       "      <th>MRT</th>\n",
       "      <th>MAX_HT</th>\n",
       "      <th>MIN_HT</th>\n",
       "      <th>STD_HT</th>\n",
       "      <th>change</th>\n",
       "    </tr>\n",
       "  </thead>\n",
       "  <tbody>\n",
       "    <tr>\n",
       "      <th>0</th>\n",
       "      <td>1</td>\n",
       "      <td>M</td>\n",
       "      <td>R</td>\n",
       "      <td>58</td>\n",
       "      <td>7434.180108</td>\n",
       "      <td>10120.222430</td>\n",
       "      <td>42913.38070</td>\n",
       "      <td>0.071112</td>\n",
       "      <td>48.761320</td>\n",
       "      <td>203.049894</td>\n",
       "      <td>0.119590</td>\n",
       "      <td>2236.376294</td>\n",
       "      <td>0.114428</td>\n",
       "    </tr>\n",
       "    <tr>\n",
       "      <th>1</th>\n",
       "      <td>1</td>\n",
       "      <td>M</td>\n",
       "      <td>R</td>\n",
       "      <td>60</td>\n",
       "      <td>10132.444470</td>\n",
       "      <td>11923.713750</td>\n",
       "      <td>64317.66969</td>\n",
       "      <td>0.581945</td>\n",
       "      <td>31.231012</td>\n",
       "      <td>212.489845</td>\n",
       "      <td>0.029351</td>\n",
       "      <td>1658.672664</td>\n",
       "      <td>0.064394</td>\n",
       "    </tr>\n",
       "    <tr>\n",
       "      <th>2</th>\n",
       "      <td>1</td>\n",
       "      <td>F</td>\n",
       "      <td>R</td>\n",
       "      <td>56</td>\n",
       "      <td>5320.969169</td>\n",
       "      <td>8443.270014</td>\n",
       "      <td>39979.95076</td>\n",
       "      <td>0.000388</td>\n",
       "      <td>54.281633</td>\n",
       "      <td>227.843584</td>\n",
       "      <td>0.757457</td>\n",
       "      <td>3148.250320</td>\n",
       "      <td>0.158879</td>\n",
       "    </tr>\n",
       "    <tr>\n",
       "      <th>3</th>\n",
       "      <td>1</td>\n",
       "      <td>M</td>\n",
       "      <td>R</td>\n",
       "      <td>24</td>\n",
       "      <td>8659.652924</td>\n",
       "      <td>13558.029200</td>\n",
       "      <td>69319.27081</td>\n",
       "      <td>0.008113</td>\n",
       "      <td>52.104352</td>\n",
       "      <td>185.538482</td>\n",
       "      <td>0.220402</td>\n",
       "      <td>2606.647576</td>\n",
       "      <td>0.127358</td>\n",
       "    </tr>\n",
       "    <tr>\n",
       "      <th>4</th>\n",
       "      <td>1</td>\n",
       "      <td>M</td>\n",
       "      <td>R</td>\n",
       "      <td>79</td>\n",
       "      <td>7293.018199</td>\n",
       "      <td>7531.636413</td>\n",
       "      <td>34595.02260</td>\n",
       "      <td>0.102315</td>\n",
       "      <td>40.991308</td>\n",
       "      <td>198.680893</td>\n",
       "      <td>0.071312</td>\n",
       "      <td>3193.983137</td>\n",
       "      <td>0.155660</td>\n",
       "    </tr>\n",
       "  </tbody>\n",
       "</table>\n",
       "</div>"
      ],
      "text/plain": [
       "   CLASS_TYPE GENDER RIGH/LEFT-HANDED  AGE           RMS            MB  \\\n",
       "0           1      M                R   58   7434.180108  10120.222430   \n",
       "1           1      M                R   60  10132.444470  11923.713750   \n",
       "2           1      F                R   56   5320.969169   8443.270014   \n",
       "3           1      M                R   24   8659.652924  13558.029200   \n",
       "4           1      M                R   79   7293.018199   7531.636413   \n",
       "\n",
       "          MINB  STD_DEVIATION_ET_HT        MRT      MAX_HT    MIN_HT  \\\n",
       "0  42913.38070             0.071112  48.761320  203.049894  0.119590   \n",
       "1  64317.66969             0.581945  31.231012  212.489845  0.029351   \n",
       "2  39979.95076             0.000388  54.281633  227.843584  0.757457   \n",
       "3  69319.27081             0.008113  52.104352  185.538482  0.220402   \n",
       "4  34595.02260             0.102315  40.991308  198.680893  0.071312   \n",
       "\n",
       "        STD_HT    change  \n",
       "0  2236.376294  0.114428  \n",
       "1  1658.672664  0.064394  \n",
       "2  3148.250320  0.158879  \n",
       "3  2606.647576  0.127358  \n",
       "4  3193.983137  0.155660  "
      ]
     },
     "execution_count": 396,
     "metadata": {},
     "output_type": "execute_result"
    }
   ],
   "source": [
    "df.head()"
   ]
  },
  {
   "cell_type": "code",
   "execution_count": 397,
   "metadata": {},
   "outputs": [],
   "source": [
    "#Converts all the categorical data to numerical values\n",
    "from sklearn.preprocessing import LabelEncoder\n",
    "le=LabelEncoder()\n",
    "df['GENDER']=le.fit_transform(df['GENDER'])\n",
    "df['RIGH/LEFT-HANDED']=le.fit_transform(df['RIGH/LEFT-HANDED'])"
   ]
  },
  {
   "cell_type": "code",
   "execution_count": 398,
   "metadata": {},
   "outputs": [],
   "source": [
    "Y=df['CLASS_TYPE']\n",
    "X=df.loc[:, df.columns !='CLASS_TYPE']"
   ]
  },
  {
   "cell_type": "code",
   "execution_count": 399,
   "metadata": {},
   "outputs": [],
   "source": [
    "from sklearn.manifold import TSNE"
   ]
  },
  {
   "cell_type": "code",
   "execution_count": 400,
   "metadata": {},
   "outputs": [
    {
     "data": {
      "image/png": "[encoded data removed]",
      "text/plain": [
       "<Figure size 432x288 with 1 Axes>"
      ]
     },
     "metadata": {
      "needs_background": "light"
     },
     "output_type": "display_data"
    }
   ],
   "source": [
    "from sklearn import preprocessing\n",
    "\n",
    "min_max_scaler = preprocessing.MinMaxScaler()\n",
    "x_scaled = min_max_scaler.fit_transform(X)\n",
    "X_norm = pd.DataFrame(x_scaled)\n",
    "X_embedded = TSNE(n_components=2).fit_transform(X_norm)\n",
    "for i, t in enumerate(set(Y)):\n",
    "    idx=Y==t\n",
    "    plt.scatter(X_embedded[idx, 0], X_embedded[idx, 1], label=t)   "
   ]
  },
  {
   "cell_type": "code",
   "execution_count": 401,
   "metadata": {},
   "outputs": [
    {
     "name": "stdout",
     "output_type": "stream",
     "text": [
      "[13.781007   0.        12.557518   5.6219926  6.3170834  5.832989\n",
      "  5.6617937 32.907196   3.9363992  5.2665367  3.9731078  4.14438  ]\n"
     ]
    },
    {
     "data": {
      "image/png": "[encoded data removed]",
      "text/plain": [
       "<Figure size 1296x360 with 1 Axes>"
      ]
     },
     "metadata": {
      "needs_background": "light"
     },
     "output_type": "display_data"
    }
   ],
   "source": [
    "from xgboost import XGBClassifier\n",
    "from matplotlib import pyplot\n",
    "\n",
    "model = XGBClassifier()\n",
    "model.fit(X, Y)\n",
    "\n",
    "print(model.feature_importances_*100)\n",
    "from matplotlib.pyplot import figure\n",
    "figure(num=None, figsize=(18, 5))\n",
    "\n",
    "pyplot.bar(X.columns, model.feature_importances_)\n",
    "pyplot.show()"
   ]
  },
  {
   "cell_type": "code",
   "execution_count": 402,
   "metadata": {},
   "outputs": [
    {
     "data": {
      "text/html": [
       "<div>\n",
       "<style scoped>\n",
       "    .dataframe tbody tr th:only-of-type {\n",
       "        vertical-align: middle;\n",
       "    }\n",
       "\n",
       "    .dataframe tbody tr th {\n",
       "        vertical-align: top;\n",
       "    }\n",
       "\n",
       "    .dataframe thead th {\n",
       "        text-align: right;\n",
       "    }\n",
       "</style>\n",
       "<table border=\"1\" class=\"dataframe\">\n",
       "  <thead>\n",
       "    <tr style=\"text-align: right;\">\n",
       "      <th></th>\n",
       "      <th>0</th>\n",
       "      <th>1</th>\n",
       "      <th>2</th>\n",
       "      <th>3</th>\n",
       "      <th>4</th>\n",
       "      <th>5</th>\n",
       "      <th>6</th>\n",
       "      <th>7</th>\n",
       "      <th>8</th>\n",
       "      <th>9</th>\n",
       "      <th>10</th>\n",
       "      <th>11</th>\n",
       "    </tr>\n",
       "  </thead>\n",
       "  <tbody>\n",
       "    <tr>\n",
       "      <th>0</th>\n",
       "      <td>1.0</td>\n",
       "      <td>1.0</td>\n",
       "      <td>0.676923</td>\n",
       "      <td>0.517498</td>\n",
       "      <td>0.601848</td>\n",
       "      <td>0.320775</td>\n",
       "      <td>0.001336</td>\n",
       "      <td>0.572229</td>\n",
       "      <td>0.598977</td>\n",
       "      <td>0.055380</td>\n",
       "      <td>0.451666</td>\n",
       "      <td>0.287944</td>\n",
       "    </tr>\n",
       "    <tr>\n",
       "      <th>1</th>\n",
       "      <td>1.0</td>\n",
       "      <td>1.0</td>\n",
       "      <td>0.707692</td>\n",
       "      <td>0.769131</td>\n",
       "      <td>0.807734</td>\n",
       "      <td>0.629356</td>\n",
       "      <td>0.010935</td>\n",
       "      <td>0.256860</td>\n",
       "      <td>0.651993</td>\n",
       "      <td>0.013592</td>\n",
       "      <td>0.317287</td>\n",
       "      <td>0.117900</td>\n",
       "    </tr>\n",
       "    <tr>\n",
       "      <th>2</th>\n",
       "      <td>0.0</td>\n",
       "      <td>1.0</td>\n",
       "      <td>0.646154</td>\n",
       "      <td>0.320425</td>\n",
       "      <td>0.410409</td>\n",
       "      <td>0.278484</td>\n",
       "      <td>0.000007</td>\n",
       "      <td>0.671540</td>\n",
       "      <td>0.738220</td>\n",
       "      <td>0.350768</td>\n",
       "      <td>0.663776</td>\n",
       "      <td>0.439014</td>\n",
       "    </tr>\n",
       "    <tr>\n",
       "      <th>3</th>\n",
       "      <td>1.0</td>\n",
       "      <td>1.0</td>\n",
       "      <td>0.153846</td>\n",
       "      <td>0.631782</td>\n",
       "      <td>0.994306</td>\n",
       "      <td>0.701463</td>\n",
       "      <td>0.000152</td>\n",
       "      <td>0.632370</td>\n",
       "      <td>0.500632</td>\n",
       "      <td>0.102065</td>\n",
       "      <td>0.537795</td>\n",
       "      <td>0.331888</td>\n",
       "    </tr>\n",
       "    <tr>\n",
       "      <th>4</th>\n",
       "      <td>1.0</td>\n",
       "      <td>1.0</td>\n",
       "      <td>1.000000</td>\n",
       "      <td>0.504333</td>\n",
       "      <td>0.306337</td>\n",
       "      <td>0.200851</td>\n",
       "      <td>0.001922</td>\n",
       "      <td>0.432447</td>\n",
       "      <td>0.574441</td>\n",
       "      <td>0.033024</td>\n",
       "      <td>0.674414</td>\n",
       "      <td>0.428074</td>\n",
       "    </tr>\n",
       "    <tr>\n",
       "      <th>...</th>\n",
       "      <td>...</td>\n",
       "      <td>...</td>\n",
       "      <td>...</td>\n",
       "      <td>...</td>\n",
       "      <td>...</td>\n",
       "      <td>...</td>\n",
       "      <td>...</td>\n",
       "      <td>...</td>\n",
       "      <td>...</td>\n",
       "      <td>...</td>\n",
       "      <td>...</td>\n",
       "      <td>...</td>\n",
       "    </tr>\n",
       "    <tr>\n",
       "      <th>259</th>\n",
       "      <td>0.0</td>\n",
       "      <td>1.0</td>\n",
       "      <td>0.753846</td>\n",
       "      <td>0.257760</td>\n",
       "      <td>0.269697</td>\n",
       "      <td>0.351574</td>\n",
       "      <td>0.000608</td>\n",
       "      <td>0.051828</td>\n",
       "      <td>0.664448</td>\n",
       "      <td>0.088685</td>\n",
       "      <td>0.087678</td>\n",
       "      <td>0.329390</td>\n",
       "    </tr>\n",
       "    <tr>\n",
       "      <th>260</th>\n",
       "      <td>0.0</td>\n",
       "      <td>1.0</td>\n",
       "      <td>0.738462</td>\n",
       "      <td>0.347027</td>\n",
       "      <td>0.235536</td>\n",
       "      <td>0.185445</td>\n",
       "      <td>0.000000</td>\n",
       "      <td>0.045843</td>\n",
       "      <td>0.208927</td>\n",
       "      <td>0.000000</td>\n",
       "      <td>0.066526</td>\n",
       "      <td>0.508763</td>\n",
       "    </tr>\n",
       "    <tr>\n",
       "      <th>261</th>\n",
       "      <td>1.0</td>\n",
       "      <td>1.0</td>\n",
       "      <td>0.584615</td>\n",
       "      <td>0.237689</td>\n",
       "      <td>0.200905</td>\n",
       "      <td>0.315682</td>\n",
       "      <td>0.051069</td>\n",
       "      <td>0.072089</td>\n",
       "      <td>0.441356</td>\n",
       "      <td>0.000000</td>\n",
       "      <td>0.081509</td>\n",
       "      <td>0.555106</td>\n",
       "    </tr>\n",
       "    <tr>\n",
       "      <th>262</th>\n",
       "      <td>0.0</td>\n",
       "      <td>1.0</td>\n",
       "      <td>0.600000</td>\n",
       "      <td>0.157345</td>\n",
       "      <td>0.171226</td>\n",
       "      <td>0.524963</td>\n",
       "      <td>0.000055</td>\n",
       "      <td>0.026091</td>\n",
       "      <td>0.520047</td>\n",
       "      <td>0.156122</td>\n",
       "      <td>0.064291</td>\n",
       "      <td>0.244670</td>\n",
       "    </tr>\n",
       "    <tr>\n",
       "      <th>263</th>\n",
       "      <td>1.0</td>\n",
       "      <td>1.0</td>\n",
       "      <td>0.446154</td>\n",
       "      <td>0.148176</td>\n",
       "      <td>0.132623</td>\n",
       "      <td>0.120857</td>\n",
       "      <td>0.000050</td>\n",
       "      <td>0.037277</td>\n",
       "      <td>0.548938</td>\n",
       "      <td>0.064335</td>\n",
       "      <td>0.073123</td>\n",
       "      <td>0.295730</td>\n",
       "    </tr>\n",
       "  </tbody>\n",
       "</table>\n",
       "<p>264 rows × 12 columns</p>\n",
       "</div>"
      ],
      "text/plain": [
       "       0    1         2         3         4         5         6         7  \\\n",
       "0    1.0  1.0  0.676923  0.517498  0.601848  0.320775  0.001336  0.572229   \n",
       "1    1.0  1.0  0.707692  0.769131  0.807734  0.629356  0.010935  0.256860   \n",
       "2    0.0  1.0  0.646154  0.320425  0.410409  0.278484  0.000007  0.671540   \n",
       "3    1.0  1.0  0.153846  0.631782  0.994306  0.701463  0.000152  0.632370   \n",
       "4    1.0  1.0  1.000000  0.504333  0.306337  0.200851  0.001922  0.432447   \n",
       "..   ...  ...       ...       ...       ...       ...       ...       ...   \n",
       "259  0.0  1.0  0.753846  0.257760  0.269697  0.351574  0.000608  0.051828   \n",
       "260  0.0  1.0  0.738462  0.347027  0.235536  0.185445  0.000000  0.045843   \n",
       "261  1.0  1.0  0.584615  0.237689  0.200905  0.315682  0.051069  0.072089   \n",
       "262  0.0  1.0  0.600000  0.157345  0.171226  0.524963  0.000055  0.026091   \n",
       "263  1.0  1.0  0.446154  0.148176  0.132623  0.120857  0.000050  0.037277   \n",
       "\n",
       "            8         9        10        11  \n",
       "0    0.598977  0.055380  0.451666  0.287944  \n",
       "1    0.651993  0.013592  0.317287  0.117900  \n",
       "2    0.738220  0.350768  0.663776  0.439014  \n",
       "3    0.500632  0.102065  0.537795  0.331888  \n",
       "4    0.574441  0.033024  0.674414  0.428074  \n",
       "..        ...       ...       ...       ...  \n",
       "259  0.664448  0.088685  0.087678  0.329390  \n",
       "260  0.208927  0.000000  0.066526  0.508763  \n",
       "261  0.441356  0.000000  0.081509  0.555106  \n",
       "262  0.520047  0.156122  0.064291  0.244670  \n",
       "263  0.548938  0.064335  0.073123  0.295730  \n",
       "\n",
       "[264 rows x 12 columns]"
      ]
     },
     "execution_count": 402,
     "metadata": {},
     "output_type": "execute_result"
    }
   ],
   "source": [
    "X_norm"
   ]
  },
  {
   "cell_type": "code",
   "execution_count": 403,
   "metadata": {},
   "outputs": [
    {
     "data": {
      "text/html": [
       "<div>\n",
       "<style scoped>\n",
       "    .dataframe tbody tr th:only-of-type {\n",
       "        vertical-align: middle;\n",
       "    }\n",
       "\n",
       "    .dataframe tbody tr th {\n",
       "        vertical-align: top;\n",
       "    }\n",
       "\n",
       "    .dataframe thead th {\n",
       "        text-align: right;\n",
       "    }\n",
       "</style>\n",
       "<table border=\"1\" class=\"dataframe\">\n",
       "  <thead>\n",
       "    <tr style=\"text-align: right;\">\n",
       "      <th></th>\n",
       "      <th>0</th>\n",
       "      <th>1</th>\n",
       "      <th>gender</th>\n",
       "      <th>label</th>\n",
       "    </tr>\n",
       "  </thead>\n",
       "  <tbody>\n",
       "    <tr>\n",
       "      <th>0</th>\n",
       "      <td>3.905762</td>\n",
       "      <td>16.564495</td>\n",
       "      <td>1</td>\n",
       "      <td>1</td>\n",
       "    </tr>\n",
       "    <tr>\n",
       "      <th>1</th>\n",
       "      <td>2.668346</td>\n",
       "      <td>13.485683</td>\n",
       "      <td>1</td>\n",
       "      <td>1</td>\n",
       "    </tr>\n",
       "    <tr>\n",
       "      <th>2</th>\n",
       "      <td>9.341342</td>\n",
       "      <td>-33.479267</td>\n",
       "      <td>0</td>\n",
       "      <td>1</td>\n",
       "    </tr>\n",
       "    <tr>\n",
       "      <th>3</th>\n",
       "      <td>5.501802</td>\n",
       "      <td>14.425614</td>\n",
       "      <td>1</td>\n",
       "      <td>1</td>\n",
       "    </tr>\n",
       "    <tr>\n",
       "      <th>4</th>\n",
       "      <td>5.066202</td>\n",
       "      <td>18.120512</td>\n",
       "      <td>1</td>\n",
       "      <td>1</td>\n",
       "    </tr>\n",
       "  </tbody>\n",
       "</table>\n",
       "</div>"
      ],
      "text/plain": [
       "          0          1  gender  label\n",
       "0  3.905762  16.564495       1      1\n",
       "1  2.668346  13.485683       1      1\n",
       "2  9.341342 -33.479267       0      1\n",
       "3  5.501802  14.425614       1      1\n",
       "4  5.066202  18.120512       1      1"
      ]
     },
     "execution_count": 403,
     "metadata": {},
     "output_type": "execute_result"
    }
   ],
   "source": [
    "#for i in range(len(X.columns)):\n",
    "#        X_norm[i]*=model.feature_importances_[i]*100\n",
    "X_embedded = TSNE(n_components=2).fit_transform(X_norm)\n",
    "emb=pd.DataFrame(X_embedded)\n",
    "emb['gender']=df['GENDER']\n",
    "emb['label']=Y\n",
    "\n",
    "emb.head()"
   ]
  },
  {
   "cell_type": "code",
   "execution_count": 404,
   "metadata": {},
   "outputs": [
    {
     "data": {
      "text/plain": [
       "<matplotlib.legend.Legend at 0x1e340bb6860>"
      ]
     },
     "execution_count": 404,
     "metadata": {},
     "output_type": "execute_result"
    },
    {
     "data": {
      "image/png": "[encoded data removed]",
      "text/plain": [
       "<Figure size 432x288 with 1 Axes>"
      ]
     },
     "metadata": {
      "needs_background": "light"
     },
     "output_type": "display_data"
    }
   ],
   "source": [
    "groups = emb.groupby(['label','gender'])\n",
    "\n",
    "# Plot\n",
    "fig, ax = plt.subplots()\n",
    "ax.margins(0.05) # Optional, just adds 5% padding to the autoscaling\n",
    "for name, group in groups:\n",
    "    ax.plot(group[0], group[1], marker='.', linestyle='', ms=12, label=name)\n",
    "ax.legend()"
   ]
  },
  {
   "cell_type": "code",
   "execution_count": 405,
   "metadata": {},
   "outputs": [],
   "source": [
    "from sklearn.model_selection import train_test_split\n",
    "X_train, X_test, y_train, y_test = train_test_split(X, Y, test_size=0.3, random_state=42)\n",
    "X_train1, X_test1, y_train1, y_test1 = train_test_split(X_norm, Y, test_size=0.3, random_state=42)"
   ]
  },
  {
   "cell_type": "markdown",
   "metadata": {},
   "source": [
    "## RF"
   ]
  },
  {
   "cell_type": "code",
   "execution_count": 412,
   "metadata": {},
   "outputs": [
    {
     "data": {
      "text/plain": [
       "RandomForestClassifier(bootstrap=True, ccp_alpha=0.0, class_weight=None,\n",
       "                       criterion='gini', max_depth=None, max_features='auto',\n",
       "                       max_leaf_nodes=None, max_samples=None,\n",
       "                       min_impurity_decrease=0.0, min_impurity_split=None,\n",
       "                       min_samples_leaf=1, min_samples_split=2,\n",
       "                       min_weight_fraction_leaf=0.0, n_estimators=50,\n",
       "                       n_jobs=None, oob_score=False, random_state=5, verbose=0,\n",
       "                       warm_start=False)"
      ]
     },
     "execution_count": 412,
     "metadata": {},
     "output_type": "execute_result"
    }
   ],
   "source": [
    "classifier.fit(X_train, y_train)"
   ]
  },
  {
   "cell_type": "code",
   "execution_count": 413,
   "metadata": {},
   "outputs": [
    {
     "name": "stdout",
     "output_type": "stream",
     "text": [
      "[[99  0]\n",
      " [ 0 85]]\n",
      "              precision    recall  f1-score   support\n",
      "\n",
      "           1       1.00      1.00      1.00        99\n",
      "           2       1.00      1.00      1.00        85\n",
      "\n",
      "    accuracy                           1.00       184\n",
      "   macro avg       1.00      1.00      1.00       184\n",
      "weighted avg       1.00      1.00      1.00       184\n",
      "\n",
      "1.0\n"
     ]
    }
   ],
   "source": [
    "y_pred = classifier.predict(X_train)\n",
    "from sklearn.metrics import classification_report, confusion_matrix, accuracy_score\n",
    "print(confusion_matrix(y_train,y_pred))\n",
    "print(classification_report(y_train,y_pred))\n",
    "print(accuracy_score(y_train, y_pred))"
   ]
  },
  {
   "cell_type": "code",
   "execution_count": 414,
   "metadata": {},
   "outputs": [
    {
     "name": "stdout",
     "output_type": "stream",
     "text": [
      "[[27 14]\n",
      " [ 3 36]]\n",
      "              precision    recall  f1-score   support\n",
      "\n",
      "           1       0.90      0.66      0.76        41\n",
      "           2       0.72      0.92      0.81        39\n",
      "\n",
      "    accuracy                           0.79        80\n",
      "   macro avg       0.81      0.79      0.78        80\n",
      "weighted avg       0.81      0.79      0.78        80\n",
      "\n",
      "0.7875\n"
     ]
    }
   ],
   "source": [
    "y_pred = classifier.predict(X_test)\n",
    "from sklearn.metrics import classification_report, confusion_matrix, accuracy_score\n",
    "print(confusion_matrix(y_test,y_pred))\n",
    "print(classification_report(y_test,y_pred))\n",
    "print(accuracy_score(y_test, y_pred))"
   ]
  },
  {
   "cell_type": "markdown",
   "metadata": {},
   "source": [
    "## XGBoost"
   ]
  },
  {
   "cell_type": "code",
   "execution_count": 305,
   "metadata": {},
   "outputs": [
    {
     "data": {
      "text/plain": [
       "XGBClassifier(base_score=0.5, booster='gbtree', colsample_bylevel=1,\n",
       "              colsample_bynode=1, colsample_bytree=1, gamma=0,\n",
       "              learning_rate=0.1, max_delta_step=0, max_depth=3,\n",
       "              min_child_weight=1, missing=None, n_estimators=100, n_jobs=1,\n",
       "              nthread=None, objective='binary:logistic', random_state=0,\n",
       "              reg_alpha=0, reg_lambda=1, scale_pos_weight=1, seed=None,\n",
       "              silent=None, subsample=1, verbosity=1)"
      ]
     },
     "execution_count": 305,
     "metadata": {},
     "output_type": "execute_result"
    }
   ],
   "source": [
    "model.fit(X_train,y_train)"
   ]
  },
  {
   "cell_type": "code",
   "execution_count": 306,
   "metadata": {},
   "outputs": [
    {
     "name": "stdout",
     "output_type": "stream",
     "text": [
      "[[99  0]\n",
      " [ 1 84]]\n",
      "              precision    recall  f1-score   support\n",
      "\n",
      "           1       0.99      1.00      0.99        99\n",
      "           2       1.00      0.99      0.99        85\n",
      "\n",
      "    accuracy                           0.99       184\n",
      "   macro avg       0.99      0.99      0.99       184\n",
      "weighted avg       0.99      0.99      0.99       184\n",
      "\n",
      "0.9945652173913043\n"
     ]
    }
   ],
   "source": [
    "y_pred = model.predict(X_train)\n",
    "print(confusion_matrix(y_train,y_pred))\n",
    "print(classification_report(y_train,y_pred))\n",
    "print(accuracy_score(y_train, y_pred))"
   ]
  },
  {
   "cell_type": "code",
   "execution_count": 307,
   "metadata": {},
   "outputs": [
    {
     "name": "stdout",
     "output_type": "stream",
     "text": [
      "[[28 13]\n",
      " [ 6 33]]\n",
      "              precision    recall  f1-score   support\n",
      "\n",
      "           1       0.82      0.68      0.75        41\n",
      "           2       0.72      0.85      0.78        39\n",
      "\n",
      "    accuracy                           0.76        80\n",
      "   macro avg       0.77      0.76      0.76        80\n",
      "weighted avg       0.77      0.76      0.76        80\n",
      "\n",
      "0.7625\n"
     ]
    }
   ],
   "source": [
    "y_pred = model.predict(X_test)\n",
    "from sklearn.metrics import classification_report, confusion_matrix, accuracy_score\n",
    "print(confusion_matrix(y_test,y_pred))\n",
    "print(classification_report(y_test,y_pred))\n",
    "print(accuracy_score(y_test, y_pred))"
   ]
  },
  {
   "cell_type": "markdown",
   "metadata": {},
   "source": [
    "## SVM"
   ]
  },
  {
   "cell_type": "code",
   "execution_count": 308,
   "metadata": {},
   "outputs": [
    {
     "data": {
      "text/plain": [
       "SVC(C=1.0, break_ties=False, cache_size=200, class_weight=None, coef0=0.0,\n",
       "    decision_function_shape='ovr', degree=3, gamma='scale', kernel='linear',\n",
       "    max_iter=-1, probability=False, random_state=None, shrinking=True,\n",
       "    tol=0.001, verbose=False)"
      ]
     },
     "execution_count": 308,
     "metadata": {},
     "output_type": "execute_result"
    }
   ],
   "source": [
    "clf.fit(X_train, y_train)"
   ]
  },
  {
   "cell_type": "code",
   "execution_count": 309,
   "metadata": {},
   "outputs": [
    {
     "name": "stdout",
     "output_type": "stream",
     "text": [
      "[[81 18]\n",
      " [16 69]]\n",
      "              precision    recall  f1-score   support\n",
      "\n",
      "           1       0.84      0.82      0.83        99\n",
      "           2       0.79      0.81      0.80        85\n",
      "\n",
      "    accuracy                           0.82       184\n",
      "   macro avg       0.81      0.81      0.81       184\n",
      "weighted avg       0.82      0.82      0.82       184\n",
      "\n",
      "0.8152173913043478\n"
     ]
    }
   ],
   "source": [
    "y_pred = clf.predict(X_train)\n",
    "print(confusion_matrix(y_train,y_pred))\n",
    "print(classification_report(y_train,y_pred))\n",
    "print(accuracy_score(y_train, y_pred))"
   ]
  },
  {
   "cell_type": "code",
   "execution_count": 310,
   "metadata": {},
   "outputs": [
    {
     "name": "stdout",
     "output_type": "stream",
     "text": [
      "[[28 13]\n",
      " [ 6 33]]\n",
      "              precision    recall  f1-score   support\n",
      "\n",
      "           1       0.82      0.68      0.75        41\n",
      "           2       0.72      0.85      0.78        39\n",
      "\n",
      "    accuracy                           0.76        80\n",
      "   macro avg       0.77      0.76      0.76        80\n",
      "weighted avg       0.77      0.76      0.76        80\n",
      "\n",
      "0.7625\n"
     ]
    }
   ],
   "source": [
    "y_pred = clf.predict(X_test)\n",
    "from sklearn.metrics import classification_report, confusion_matrix, accuracy_score\n",
    "print(confusion_matrix(y_test,y_pred))\n",
    "print(classification_report(y_test,y_pred))\n",
    "print(accuracy_score(y_test, y_pred))"
   ]
  },
  {
   "cell_type": "markdown",
   "metadata": {},
   "source": [
    "### with normalization"
   ]
  },
  {
   "cell_type": "code",
   "execution_count": 311,
   "metadata": {},
   "outputs": [
    {
     "data": {
      "text/plain": [
       "SVC(C=1.0, break_ties=False, cache_size=200, class_weight=None, coef0=0.0,\n",
       "    decision_function_shape='ovr', degree=3, gamma='scale', kernel='linear',\n",
       "    max_iter=-1, probability=False, random_state=None, shrinking=True,\n",
       "    tol=0.001, verbose=False)"
      ]
     },
     "execution_count": 311,
     "metadata": {},
     "output_type": "execute_result"
    }
   ],
   "source": [
    "clf.fit(X_train1, y_train1)"
   ]
  },
  {
   "cell_type": "code",
   "execution_count": 312,
   "metadata": {},
   "outputs": [
    {
     "name": "stdout",
     "output_type": "stream",
     "text": [
      "[[81 18]\n",
      " [ 6 79]]\n",
      "              precision    recall  f1-score   support\n",
      "\n",
      "           1       0.93      0.82      0.87        99\n",
      "           2       0.81      0.93      0.87        85\n",
      "\n",
      "    accuracy                           0.87       184\n",
      "   macro avg       0.87      0.87      0.87       184\n",
      "weighted avg       0.88      0.87      0.87       184\n",
      "\n",
      "0.8695652173913043\n"
     ]
    }
   ],
   "source": [
    "y_pred = clf.predict(X_train1)\n",
    "print(confusion_matrix(y_train1,y_pred))\n",
    "print(classification_report(y_train1,y_pred))\n",
    "print(accuracy_score(y_train1, y_pred))"
   ]
  },
  {
   "cell_type": "code",
   "execution_count": 313,
   "metadata": {},
   "outputs": [
    {
     "name": "stdout",
     "output_type": "stream",
     "text": [
      "[[28 13]\n",
      " [ 2 37]]\n",
      "              precision    recall  f1-score   support\n",
      "\n",
      "           1       0.93      0.68      0.79        41\n",
      "           2       0.74      0.95      0.83        39\n",
      "\n",
      "    accuracy                           0.81        80\n",
      "   macro avg       0.84      0.82      0.81        80\n",
      "weighted avg       0.84      0.81      0.81        80\n",
      "\n",
      "0.8125\n"
     ]
    }
   ],
   "source": [
    "y_pred = clf.predict(X_test1)\n",
    "from sklearn.metrics import classification_report, confusion_matrix, accuracy_score\n",
    "print(confusion_matrix(y_test1,y_pred))\n",
    "print(classification_report(y_test1,y_pred))\n",
    "print(accuracy_score(y_test1, y_pred))"
   ]
  },
  {
   "cell_type": "code",
   "execution_count": null,
   "metadata": {},
   "outputs": [],
   "source": []
  }
 ],
 "metadata": {
  "kernelspec": {
   "display_name": "Python 3",
   "language": "python",
   "name": "python3"
  },
  "language_info": {
   "codemirror_mode": {
    "name": "ipython",
    "version": 3
   },
   "file_extension": ".py",
   "mimetype": "text/x-python",
   "name": "python",
   "nbconvert_exporter": "python",
   "pygments_lexer": "ipython3",
   "version": "3.7.3"
  }
 },
 "nbformat": 4,
 "nbformat_minor": 2
}
